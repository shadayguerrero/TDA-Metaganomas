{
 "cells": [
  {
   "cell_type": "markdown",
   "id": "66d1b950-f428-4a90-bc24-27c1fcb04ece",
   "metadata": {},
   "source": [
    "# Simulador de metagenomas PyMetaSeem\n",
    "Este simulador fue creado por Silva Gomez, Camila  https://github.com/CamilaSilva1995"
   ]
  },
  {
   "cell_type": "code",
   "execution_count": 1,
   "id": "ab10be5e-1b6d-4a98-b14a-b961d5062b59",
   "metadata": {},
   "outputs": [],
   "source": [
    "from PyMetaSeem_Functions import *"
   ]
  },
  {
   "cell_type": "code",
   "execution_count": 2,
   "id": "434b7c96-610b-482d-a45b-a44a78d87e25",
   "metadata": {},
   "outputs": [
    {
     "data": {
      "text/plain": [
       "['Clavibacter_michiganensis_subsp_insidiosus_ATCC_10253.fna',\n",
       " 'Clavibacter_michiganensis_subsp_michi_contigs.fna',\n",
       " 'Clavibacter_michiganensis_subsp_capsici_1101.fna',\n",
       " 'Clavibacter_michiganensis_subsp_sepedonicus_ATCC33113.fna',\n",
       " 'Clavibacter_michiganensis_subsp_nebraskensis_419B.fna',\n",
       " 'Clavibacter_michiganensis_subsp_tessellarius_ATCC_33566.fna']"
      ]
     },
     "execution_count": 2,
     "metadata": {},
     "output_type": "execute_result"
    }
   ],
   "source": [
    "path = '/home/shaday/GIT/TDA-Metaganomas/genomes/clavibacter/'\n",
    "contenido = os.listdir(path)\n",
    "contenido"
   ]
  },
  {
   "cell_type": "code",
   "execution_count": 3,
   "id": "0ae133c4-04ae-4700-b25e-ef080f4b2091",
   "metadata": {},
   "outputs": [
    {
     "data": {
      "text/plain": [
       "'insidiosus_ATCC_10253'"
      ]
     },
     "execution_count": 3,
     "metadata": {},
     "output_type": "execute_result"
    }
   ],
   "source": [
    "contenido[0][32:-4]"
   ]
  },
  {
   "cell_type": "markdown",
   "id": "618ec7bd-537e-4f2c-a5d4-e9e6d9afe0cd",
   "metadata": {},
   "source": [
    "La funcion `todo` de `PyMetaSeem_Functions` genera archivos reads (forward y reverse) para cada genoma, la funcion requiere elgenoma, longitud de los reads,cantidad de reads, y nombre del archhivo."
   ]
  },
  {
   "cell_type": "code",
   "execution_count": 4,
   "id": "ccd974b7-719c-4a5e-905d-d3b09b2efec5",
   "metadata": {},
   "outputs": [],
   "source": [
    "for i in range(len(contenido)):\n",
    "    todo(path + contenido[i],150,100000,contenido[i][32:-4])"
   ]
  },
  {
   "cell_type": "code",
   "execution_count": 8,
   "id": "7132000b-9db0-431f-8c40-717818177597",
   "metadata": {},
   "outputs": [],
   "source": [
    "#os.listdir('/home/shaday/GIT/TDA-Metaganomas/ReadsSimulados/read_100M/')"
   ]
  }
 ],
 "metadata": {
  "kernelspec": {
   "display_name": "Python 3",
   "language": "python",
   "name": "python3"
  },
  "language_info": {
   "codemirror_mode": {
    "name": "ipython",
    "version": 3
   },
   "file_extension": ".py",
   "mimetype": "text/x-python",
   "name": "python",
   "nbconvert_exporter": "python",
   "pygments_lexer": "ipython3",
   "version": "3.8.8"
  }
 },
 "nbformat": 4,
 "nbformat_minor": 5
}
