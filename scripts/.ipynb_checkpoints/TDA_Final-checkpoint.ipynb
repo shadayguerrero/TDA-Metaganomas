{
 "cells": [
  {
   "cell_type": "markdown",
   "id": "9b74889c-68c5-444f-b415-2eb840edd96f",
   "metadata": {},
   "source": [
    "# Funcion de votacion vía Modelo de Cech\n",
    "Este notebook invoca el módulo `TDA_Voting` para detectar organismos que aparecen realmente en una muestra de metagenoma "
   ]
  },
  {
   "cell_type": "code",
   "execution_count": 2,
   "id": "7103ce6c-6508-4ec8-8304-661981695df3",
   "metadata": {},
   "outputs": [],
   "source": [
    "from TDA_Voting import *\n",
    "import pandas as pd\n",
    "import glob\n",
    "import numpy as np\n",
    "\n",
    "# Base de datos\n",
    "#df=pd.read_csv(\"MapeoReads-2TP-100M-6organims.csv\")\n",
    "\n",
    "# Nombres de archivos\n",
    "csv_files=[]\n",
    "for file in glob.glob(\"/home/shaday/GIT/ccm-bioinfomatica-lab/221119Hackaton/tda-meta/CSV/*.csv\"):\n",
    "    csv_files.append(file)"
   ]
  },
  {
   "cell_type": "code",
   "execution_count": 45,
   "id": "c448cc7b-8b37-4bf8-8d14-0f0b31d4676a",
   "metadata": {},
   "outputs": [
    {
     "data": {
      "text/plain": [
       "['/home/shaday/GIT/ccm-bioinfomatica-lab/221119Hackaton/tda-meta/CSV/MapeoReads-TPinsidiosus-6organims.csv',\n",
       " '/home/shaday/GIT/ccm-bioinfomatica-lab/221119Hackaton/tda-meta/CSV/MapeoReads-2TP_michi-nebraskensis-6organims.csv',\n",
       " '/home/shaday/GIT/ccm-bioinfomatica-lab/221119Hackaton/tda-meta/CSV/MapeoReads-2TP_capsici-insidiosus-6organims.csv',\n",
       " '/home/shaday/GIT/ccm-bioinfomatica-lab/221119Hackaton/tda-meta/CSV/MapeoReads-TPmichi-6organims.csv',\n",
       " '/home/shaday/GIT/ccm-bioinfomatica-lab/221119Hackaton/tda-meta/CSV/MapeoReads-TPtessellarius-6organims.csv',\n",
       " '/home/shaday/GIT/ccm-bioinfomatica-lab/221119Hackaton/tda-meta/CSV/MapeoReads-3TP_nebraskensis-sepedonicus-tessellarius-6organims.csv',\n",
       " '/home/shaday/GIT/ccm-bioinfomatica-lab/221119Hackaton/tda-meta/CSV/MapeoReads-2TP_sepedonicus-tessellarius-6organims.csv',\n",
       " '/home/shaday/GIT/ccm-bioinfomatica-lab/221119Hackaton/tda-meta/CSV/MapeoReads-TPnebraskensis-6organims.csv',\n",
       " '/home/shaday/GIT/ccm-bioinfomatica-lab/221119Hackaton/tda-meta/CSV/MapeoReads-TPcapsici-6organims.csv',\n",
       " '/home/shaday/GIT/ccm-bioinfomatica-lab/221119Hackaton/tda-meta/CSV/MapeoReads-3TP_capsici-insidiosus-michi-6organims.csv',\n",
       " '/home/shaday/GIT/ccm-bioinfomatica-lab/221119Hackaton/tda-meta/CSV/MapeoReads-TPsepedonicus-6organims.csv']"
      ]
     },
     "execution_count": 45,
     "metadata": {},
     "output_type": "execute_result"
    }
   ],
   "source": [
    "csv_files"
   ]
  },
  {
   "cell_type": "markdown",
   "id": "448fa3c4-83bf-4fd3-a77f-6e2ac0253c46",
   "metadata": {},
   "source": [
    "A continuación, generamos un diccionario de las subespecies que fueron consideradas en cada uno de los metagenomas estudiados"
   ]
  },
  {
   "cell_type": "code",
   "execution_count": 2,
   "id": "457231ee-be1b-4818-93b4-d4117fced39f",
   "metadata": {},
   "outputs": [],
   "source": [
    "ref_d = {'sepedonicus':'subsp_sepedonicus_ATCC33113',\n",
    " 'capsici':'subsp_capsici_1101',\n",
    " 'insidiosus':'insidiosus_ATCC_10253',\n",
    " 'michi':'subsp_michi_contigs',\n",
    " 'nebraskensis':'subsp_nebraskensis_419B',\n",
    " 'tessellarius':'tessellarius_ATCC_33566'}"
   ]
  },
  {
   "cell_type": "markdown",
   "id": "f0475e95-5978-4590-9568-96f1f8452daa",
   "metadata": {},
   "source": [
    "Calculamos las votaciones de cada subespecie presente en los datos que constituyen el metagenoma."
   ]
  },
  {
   "cell_type": "code",
   "execution_count": 59,
   "id": "68fb96ed-188e-4d37-89fd-a68f8b4054b7",
   "metadata": {},
   "outputs": [],
   "source": [
    "# Votaciones\n",
    "lists_voting=[]\n",
    "list_of_TP=[]\n",
    "#organisms=df[\"Organims\"].unique()\n",
    "for file in csv_files:\n",
    "    df=pd.read_csv(file)\n",
    "    df_aux=df.sample(n=int(0.9*(df.shape[0])),replace=True)\n",
    "    dict_aux=ranking_function_cech(df_aux)\n",
    "    lists_voting.append(dict_aux)\n",
    "    list_of_TP.append([ref_d[short_name] for short_name in  getIDnames(file)])"
   ]
  },
  {
   "cell_type": "markdown",
   "id": "d7312ab5-0a79-4a5f-8ec7-cb82ac53c9fa",
   "metadata": {},
   "source": [
    "Finalmente, graficamos las funciones de votacion para cada una de estas bases de datos marcando el ranking obtenido por el organismos que sabemos es TP"
   ]
  },
  {
   "cell_type": "code",
   "execution_count": 60,
   "id": "7705770b-8e1c-4c0a-83d1-14cefda935f3",
   "metadata": {},
   "outputs": [
    {
     "data": {
      "application/vnd.plotly.v1+json": {
       "config": {
        "plotlyServerURL": "https://plot.ly"
       },
       "data": [
        {
         "name": "('insidiosus_ATCC_10253',)",
         "showlegend": false,
         "type": "scatter",
         "x": [
          0,
          1,
          2,
          3,
          4,
          5
         ],
         "y": [
          1,
          0.9976744186046511,
          0.9716279069767442,
          0.9469767441860465,
          0.9330232558139535,
          0.88
         ]
        },
        {
         "name": "('subsp_michi_contigs',)",
         "showlegend": false,
         "type": "scatter",
         "x": [
          0,
          1,
          2,
          3,
          4,
          5
         ],
         "y": [
          1,
          0.9894988066825776,
          0.9890214797136038,
          0.9866348448687351,
          0.9398568019093079,
          0.9212410501193318
         ]
        },
        {
         "name": "('tessellarius_ATCC_33566',)",
         "showlegend": false,
         "type": "scatter",
         "x": [
          0,
          1,
          2,
          3,
          4,
          5
         ],
         "y": [
          1,
          0.9819131832797428,
          0.977491961414791,
          0.9766881028938906,
          0.969855305466238,
          0.9320739549839229
         ]
        },
        {
         "name": "('subsp_nebraskensis_419B',)",
         "showlegend": false,
         "type": "scatter",
         "x": [
          0,
          1,
          2,
          3,
          4,
          5
         ],
         "y": [
          1,
          0.9966730038022814,
          0.9952471482889734,
          0.9895437262357415,
          0.9752851711026616,
          0.9519961977186312
         ]
        },
        {
         "name": "('subsp_capsici_1101',)",
         "showlegend": false,
         "type": "scatter",
         "x": [
          0,
          1,
          2,
          3,
          4,
          5
         ],
         "y": [
          1,
          0.9958294717330862,
          0.9763670064874884,
          0.9610750695088045,
          0.9545875810936052,
          0.9189063948100092
         ]
        },
        {
         "name": "('subsp_sepedonicus_ATCC33113',)",
         "showlegend": false,
         "type": "scatter",
         "x": [
          0,
          1,
          2,
          3,
          4,
          5
         ],
         "y": [
          1,
          0.9965913932680017,
          0.9944610140605028,
          0.9825308904985087,
          0.9714529186195143,
          0.8909245845760545
         ]
        },
        {
         "marker": {
          "color": "LightSkyBlue",
          "line": {
           "color": "DarkSlateGrey",
           "width": 2
          },
          "size": 8
         },
         "mode": "markers",
         "name": "TP",
         "showlegend": false,
         "type": "scatter",
         "x": [
          4
         ],
         "y": [
          0.9330232558139535
         ]
        },
        {
         "marker": {
          "color": "LightSkyBlue",
          "line": {
           "color": "DarkSlateGrey",
           "width": 2
          },
          "size": 8
         },
         "mode": "markers",
         "name": "TP",
         "showlegend": false,
         "type": "scatter",
         "x": [
          2
         ],
         "y": [
          0.9890214797136038
         ]
        },
        {
         "marker": {
          "color": "LightSkyBlue",
          "line": {
           "color": "DarkSlateGrey",
           "width": 2
          },
          "size": 8
         },
         "mode": "markers",
         "name": "TP",
         "showlegend": false,
         "type": "scatter",
         "x": [
          5
         ],
         "y": [
          0.9320739549839229
         ]
        },
        {
         "marker": {
          "color": "LightSkyBlue",
          "line": {
           "color": "DarkSlateGrey",
           "width": 2
          },
          "size": 8
         },
         "mode": "markers",
         "name": "TP",
         "showlegend": false,
         "type": "scatter",
         "x": [
          4
         ],
         "y": [
          0.9752851711026616
         ]
        },
        {
         "marker": {
          "color": "LightSkyBlue",
          "line": {
           "color": "DarkSlateGrey",
           "width": 2
          },
          "size": 8
         },
         "mode": "markers",
         "name": "TP",
         "showlegend": false,
         "type": "scatter",
         "x": [
          3
         ],
         "y": [
          0.9610750695088045
         ]
        },
        {
         "marker": {
          "color": "LightSkyBlue",
          "line": {
           "color": "DarkSlateGrey",
           "width": 2
          },
          "size": 8
         },
         "mode": "markers",
         "name": "TP",
         "showlegend": false,
         "type": "scatter",
         "x": [
          2
         ],
         "y": [
          0.9944610140605028
         ]
        }
       ],
       "layout": {
        "autosize": true,
        "template": {
         "data": {
          "bar": [
           {
            "error_x": {
             "color": "#2a3f5f"
            },
            "error_y": {
             "color": "#2a3f5f"
            },
            "marker": {
             "line": {
              "color": "#E5ECF6",
              "width": 0.5
             },
             "pattern": {
              "fillmode": "overlay",
              "size": 10,
              "solidity": 0.2
             }
            },
            "type": "bar"
           }
          ],
          "barpolar": [
           {
            "marker": {
             "line": {
              "color": "#E5ECF6",
              "width": 0.5
             },
             "pattern": {
              "fillmode": "overlay",
              "size": 10,
              "solidity": 0.2
             }
            },
            "type": "barpolar"
           }
          ],
          "carpet": [
           {
            "aaxis": {
             "endlinecolor": "#2a3f5f",
             "gridcolor": "white",
             "linecolor": "white",
             "minorgridcolor": "white",
             "startlinecolor": "#2a3f5f"
            },
            "baxis": {
             "endlinecolor": "#2a3f5f",
             "gridcolor": "white",
             "linecolor": "white",
             "minorgridcolor": "white",
             "startlinecolor": "#2a3f5f"
            },
            "type": "carpet"
           }
          ],
          "choropleth": [
           {
            "colorbar": {
             "outlinewidth": 0,
             "ticks": ""
            },
            "type": "choropleth"
           }
          ],
          "contour": [
           {
            "colorbar": {
             "outlinewidth": 0,
             "ticks": ""
            },
            "colorscale": [
             [
              0,
              "#0d0887"
             ],
             [
              0.1111111111111111,
              "#46039f"
             ],
             [
              0.2222222222222222,
              "#7201a8"
             ],
             [
              0.3333333333333333,
              "#9c179e"
             ],
             [
              0.4444444444444444,
              "#bd3786"
             ],
             [
              0.5555555555555556,
              "#d8576b"
             ],
             [
              0.6666666666666666,
              "#ed7953"
             ],
             [
              0.7777777777777778,
              "#fb9f3a"
             ],
             [
              0.8888888888888888,
              "#fdca26"
             ],
             [
              1,
              "#f0f921"
             ]
            ],
            "type": "contour"
           }
          ],
          "contourcarpet": [
           {
            "colorbar": {
             "outlinewidth": 0,
             "ticks": ""
            },
            "type": "contourcarpet"
           }
          ],
          "heatmap": [
           {
            "colorbar": {
             "outlinewidth": 0,
             "ticks": ""
            },
            "colorscale": [
             [
              0,
              "#0d0887"
             ],
             [
              0.1111111111111111,
              "#46039f"
             ],
             [
              0.2222222222222222,
              "#7201a8"
             ],
             [
              0.3333333333333333,
              "#9c179e"
             ],
             [
              0.4444444444444444,
              "#bd3786"
             ],
             [
              0.5555555555555556,
              "#d8576b"
             ],
             [
              0.6666666666666666,
              "#ed7953"
             ],
             [
              0.7777777777777778,
              "#fb9f3a"
             ],
             [
              0.8888888888888888,
              "#fdca26"
             ],
             [
              1,
              "#f0f921"
             ]
            ],
            "type": "heatmap"
           }
          ],
          "heatmapgl": [
           {
            "colorbar": {
             "outlinewidth": 0,
             "ticks": ""
            },
            "colorscale": [
             [
              0,
              "#0d0887"
             ],
             [
              0.1111111111111111,
              "#46039f"
             ],
             [
              0.2222222222222222,
              "#7201a8"
             ],
             [
              0.3333333333333333,
              "#9c179e"
             ],
             [
              0.4444444444444444,
              "#bd3786"
             ],
             [
              0.5555555555555556,
              "#d8576b"
             ],
             [
              0.6666666666666666,
              "#ed7953"
             ],
             [
              0.7777777777777778,
              "#fb9f3a"
             ],
             [
              0.8888888888888888,
              "#fdca26"
             ],
             [
              1,
              "#f0f921"
             ]
            ],
            "type": "heatmapgl"
           }
          ],
          "histogram": [
           {
            "marker": {
             "pattern": {
              "fillmode": "overlay",
              "size": 10,
              "solidity": 0.2
             }
            },
            "type": "histogram"
           }
          ],
          "histogram2d": [
           {
            "colorbar": {
             "outlinewidth": 0,
             "ticks": ""
            },
            "colorscale": [
             [
              0,
              "#0d0887"
             ],
             [
              0.1111111111111111,
              "#46039f"
             ],
             [
              0.2222222222222222,
              "#7201a8"
             ],
             [
              0.3333333333333333,
              "#9c179e"
             ],
             [
              0.4444444444444444,
              "#bd3786"
             ],
             [
              0.5555555555555556,
              "#d8576b"
             ],
             [
              0.6666666666666666,
              "#ed7953"
             ],
             [
              0.7777777777777778,
              "#fb9f3a"
             ],
             [
              0.8888888888888888,
              "#fdca26"
             ],
             [
              1,
              "#f0f921"
             ]
            ],
            "type": "histogram2d"
           }
          ],
          "histogram2dcontour": [
           {
            "colorbar": {
             "outlinewidth": 0,
             "ticks": ""
            },
            "colorscale": [
             [
              0,
              "#0d0887"
             ],
             [
              0.1111111111111111,
              "#46039f"
             ],
             [
              0.2222222222222222,
              "#7201a8"
             ],
             [
              0.3333333333333333,
              "#9c179e"
             ],
             [
              0.4444444444444444,
              "#bd3786"
             ],
             [
              0.5555555555555556,
              "#d8576b"
             ],
             [
              0.6666666666666666,
              "#ed7953"
             ],
             [
              0.7777777777777778,
              "#fb9f3a"
             ],
             [
              0.8888888888888888,
              "#fdca26"
             ],
             [
              1,
              "#f0f921"
             ]
            ],
            "type": "histogram2dcontour"
           }
          ],
          "mesh3d": [
           {
            "colorbar": {
             "outlinewidth": 0,
             "ticks": ""
            },
            "type": "mesh3d"
           }
          ],
          "parcoords": [
           {
            "line": {
             "colorbar": {
              "outlinewidth": 0,
              "ticks": ""
             }
            },
            "type": "parcoords"
           }
          ],
          "pie": [
           {
            "automargin": true,
            "type": "pie"
           }
          ],
          "scatter": [
           {
            "fillpattern": {
             "fillmode": "overlay",
             "size": 10,
             "solidity": 0.2
            },
            "type": "scatter"
           }
          ],
          "scatter3d": [
           {
            "line": {
             "colorbar": {
              "outlinewidth": 0,
              "ticks": ""
             }
            },
            "marker": {
             "colorbar": {
              "outlinewidth": 0,
              "ticks": ""
             }
            },
            "type": "scatter3d"
           }
          ],
          "scattercarpet": [
           {
            "marker": {
             "colorbar": {
              "outlinewidth": 0,
              "ticks": ""
             }
            },
            "type": "scattercarpet"
           }
          ],
          "scattergeo": [
           {
            "marker": {
             "colorbar": {
              "outlinewidth": 0,
              "ticks": ""
             }
            },
            "type": "scattergeo"
           }
          ],
          "scattergl": [
           {
            "marker": {
             "colorbar": {
              "outlinewidth": 0,
              "ticks": ""
             }
            },
            "type": "scattergl"
           }
          ],
          "scattermapbox": [
           {
            "marker": {
             "colorbar": {
              "outlinewidth": 0,
              "ticks": ""
             }
            },
            "type": "scattermapbox"
           }
          ],
          "scatterpolar": [
           {
            "marker": {
             "colorbar": {
              "outlinewidth": 0,
              "ticks": ""
             }
            },
            "type": "scatterpolar"
           }
          ],
          "scatterpolargl": [
           {
            "marker": {
             "colorbar": {
              "outlinewidth": 0,
              "ticks": ""
             }
            },
            "type": "scatterpolargl"
           }
          ],
          "scatterternary": [
           {
            "marker": {
             "colorbar": {
              "outlinewidth": 0,
              "ticks": ""
             }
            },
            "type": "scatterternary"
           }
          ],
          "surface": [
           {
            "colorbar": {
             "outlinewidth": 0,
             "ticks": ""
            },
            "colorscale": [
             [
              0,
              "#0d0887"
             ],
             [
              0.1111111111111111,
              "#46039f"
             ],
             [
              0.2222222222222222,
              "#7201a8"
             ],
             [
              0.3333333333333333,
              "#9c179e"
             ],
             [
              0.4444444444444444,
              "#bd3786"
             ],
             [
              0.5555555555555556,
              "#d8576b"
             ],
             [
              0.6666666666666666,
              "#ed7953"
             ],
             [
              0.7777777777777778,
              "#fb9f3a"
             ],
             [
              0.8888888888888888,
              "#fdca26"
             ],
             [
              1,
              "#f0f921"
             ]
            ],
            "type": "surface"
           }
          ],
          "table": [
           {
            "cells": {
             "fill": {
              "color": "#EBF0F8"
             },
             "line": {
              "color": "white"
             }
            },
            "header": {
             "fill": {
              "color": "#C8D4E3"
             },
             "line": {
              "color": "white"
             }
            },
            "type": "table"
           }
          ]
         },
         "layout": {
          "annotationdefaults": {
           "arrowcolor": "#2a3f5f",
           "arrowhead": 0,
           "arrowwidth": 1
          },
          "autotypenumbers": "strict",
          "coloraxis": {
           "colorbar": {
            "outlinewidth": 0,
            "ticks": ""
           }
          },
          "colorscale": {
           "diverging": [
            [
             0,
             "#8e0152"
            ],
            [
             0.1,
             "#c51b7d"
            ],
            [
             0.2,
             "#de77ae"
            ],
            [
             0.3,
             "#f1b6da"
            ],
            [
             0.4,
             "#fde0ef"
            ],
            [
             0.5,
             "#f7f7f7"
            ],
            [
             0.6,
             "#e6f5d0"
            ],
            [
             0.7,
             "#b8e186"
            ],
            [
             0.8,
             "#7fbc41"
            ],
            [
             0.9,
             "#4d9221"
            ],
            [
             1,
             "#276419"
            ]
           ],
           "sequential": [
            [
             0,
             "#0d0887"
            ],
            [
             0.1111111111111111,
             "#46039f"
            ],
            [
             0.2222222222222222,
             "#7201a8"
            ],
            [
             0.3333333333333333,
             "#9c179e"
            ],
            [
             0.4444444444444444,
             "#bd3786"
            ],
            [
             0.5555555555555556,
             "#d8576b"
            ],
            [
             0.6666666666666666,
             "#ed7953"
            ],
            [
             0.7777777777777778,
             "#fb9f3a"
            ],
            [
             0.8888888888888888,
             "#fdca26"
            ],
            [
             1,
             "#f0f921"
            ]
           ],
           "sequentialminus": [
            [
             0,
             "#0d0887"
            ],
            [
             0.1111111111111111,
             "#46039f"
            ],
            [
             0.2222222222222222,
             "#7201a8"
            ],
            [
             0.3333333333333333,
             "#9c179e"
            ],
            [
             0.4444444444444444,
             "#bd3786"
            ],
            [
             0.5555555555555556,
             "#d8576b"
            ],
            [
             0.6666666666666666,
             "#ed7953"
            ],
            [
             0.7777777777777778,
             "#fb9f3a"
            ],
            [
             0.8888888888888888,
             "#fdca26"
            ],
            [
             1,
             "#f0f921"
            ]
           ]
          },
          "colorway": [
           "#636efa",
           "#EF553B",
           "#00cc96",
           "#ab63fa",
           "#FFA15A",
           "#19d3f3",
           "#FF6692",
           "#B6E880",
           "#FF97FF",
           "#FECB52"
          ],
          "font": {
           "color": "#2a3f5f"
          },
          "geo": {
           "bgcolor": "white",
           "lakecolor": "white",
           "landcolor": "#E5ECF6",
           "showlakes": true,
           "showland": true,
           "subunitcolor": "white"
          },
          "hoverlabel": {
           "align": "left"
          },
          "hovermode": "closest",
          "mapbox": {
           "style": "light"
          },
          "paper_bgcolor": "white",
          "plot_bgcolor": "#E5ECF6",
          "polar": {
           "angularaxis": {
            "gridcolor": "white",
            "linecolor": "white",
            "ticks": ""
           },
           "bgcolor": "#E5ECF6",
           "radialaxis": {
            "gridcolor": "white",
            "linecolor": "white",
            "ticks": ""
           }
          },
          "scene": {
           "xaxis": {
            "backgroundcolor": "#E5ECF6",
            "gridcolor": "white",
            "gridwidth": 2,
            "linecolor": "white",
            "showbackground": true,
            "ticks": "",
            "zerolinecolor": "white"
           },
           "yaxis": {
            "backgroundcolor": "#E5ECF6",
            "gridcolor": "white",
            "gridwidth": 2,
            "linecolor": "white",
            "showbackground": true,
            "ticks": "",
            "zerolinecolor": "white"
           },
           "zaxis": {
            "backgroundcolor": "#E5ECF6",
            "gridcolor": "white",
            "gridwidth": 2,
            "linecolor": "white",
            "showbackground": true,
            "ticks": "",
            "zerolinecolor": "white"
           }
          },
          "shapedefaults": {
           "line": {
            "color": "#2a3f5f"
           }
          },
          "ternary": {
           "aaxis": {
            "gridcolor": "white",
            "linecolor": "white",
            "ticks": ""
           },
           "baxis": {
            "gridcolor": "white",
            "linecolor": "white",
            "ticks": ""
           },
           "bgcolor": "#E5ECF6",
           "caxis": {
            "gridcolor": "white",
            "linecolor": "white",
            "ticks": ""
           }
          },
          "title": {
           "x": 0.05
          },
          "xaxis": {
           "automargin": true,
           "gridcolor": "white",
           "linecolor": "white",
           "ticks": "",
           "title": {
            "standoff": 15
           },
           "zerolinecolor": "white",
           "zerolinewidth": 2
          },
          "yaxis": {
           "automargin": true,
           "gridcolor": "white",
           "linecolor": "white",
           "ticks": "",
           "title": {
            "standoff": 15
           },
           "zerolinecolor": "white",
           "zerolinewidth": 2
          }
         }
        },
        "title": {
         "text": "Funciones de Votacion TP1"
        },
        "xaxis": {
         "autorange": true,
         "range": [
          -0.29788749109897933,
          5.303821504865891
         ],
         "type": "linear"
        },
        "yaxis": {
         "autorange": true,
         "range": [
          0.8700970873786408,
          1.0099029126213592
         ],
         "type": "linear"
        }
       }
      },
      "image/png": "[encoded data removed]",
      "text/html": [
       "<div>                            <div id=\"954ebc8a-e999-4ba2-8bbc-394fed65235b\" class=\"plotly-graph-div\" style=\"height:525px; width:100%;\"></div>            <script type=\"text/javascript\">                require([\"plotly\"], function(Plotly) {                    window.PLOTLYENV=window.PLOTLYENV || {};                                    if (document.getElementById(\"954ebc8a-e999-4ba2-8bbc-394fed65235b\")) {                    Plotly.newPlot(                        \"954ebc8a-e999-4ba2-8bbc-394fed65235b\",                        [{\"name\":\"('insidiosus_ATCC_10253',)\",\"showlegend\":false,\"x\":[0,1,2,3,4,5],\"y\":[1.0,0.9976744186046511,0.9716279069767442,0.9469767441860465,0.9330232558139535,0.88],\"type\":\"scatter\"},{\"name\":\"('subsp_michi_contigs',)\",\"showlegend\":false,\"x\":[0,1,2,3,4,5],\"y\":[1.0,0.9894988066825776,0.9890214797136038,0.9866348448687351,0.9398568019093079,0.9212410501193318],\"type\":\"scatter\"},{\"name\":\"('tessellarius_ATCC_33566',)\",\"showlegend\":false,\"x\":[0,1,2,3,4,5],\"y\":[1.0,0.9819131832797428,0.977491961414791,0.9766881028938906,0.969855305466238,0.9320739549839229],\"type\":\"scatter\"},{\"name\":\"('subsp_nebraskensis_419B',)\",\"showlegend\":false,\"x\":[0,1,2,3,4,5],\"y\":[1.0,0.9966730038022814,0.9952471482889734,0.9895437262357415,0.9752851711026616,0.9519961977186312],\"type\":\"scatter\"},{\"name\":\"('subsp_capsici_1101',)\",\"showlegend\":false,\"x\":[0,1,2,3,4,5],\"y\":[1.0,0.9958294717330862,0.9763670064874884,0.9610750695088045,0.9545875810936052,0.9189063948100092],\"type\":\"scatter\"},{\"name\":\"('subsp_sepedonicus_ATCC33113',)\",\"showlegend\":false,\"x\":[0,1,2,3,4,5],\"y\":[1.0,0.9965913932680017,0.9944610140605028,0.9825308904985087,0.9714529186195143,0.8909245845760545],\"type\":\"scatter\"},{\"marker\":{\"color\":\"LightSkyBlue\",\"line\":{\"color\":\"DarkSlateGrey\",\"width\":2},\"size\":8},\"mode\":\"markers\",\"name\":\"TP\",\"showlegend\":false,\"x\":[4],\"y\":[0.9330232558139535],\"type\":\"scatter\"},{\"marker\":{\"color\":\"LightSkyBlue\",\"line\":{\"color\":\"DarkSlateGrey\",\"width\":2},\"size\":8},\"mode\":\"markers\",\"name\":\"TP\",\"showlegend\":false,\"x\":[2],\"y\":[0.9890214797136038],\"type\":\"scatter\"},{\"marker\":{\"color\":\"LightSkyBlue\",\"line\":{\"color\":\"DarkSlateGrey\",\"width\":2},\"size\":8},\"mode\":\"markers\",\"name\":\"TP\",\"showlegend\":false,\"x\":[5],\"y\":[0.9320739549839229],\"type\":\"scatter\"},{\"marker\":{\"color\":\"LightSkyBlue\",\"line\":{\"color\":\"DarkSlateGrey\",\"width\":2},\"size\":8},\"mode\":\"markers\",\"name\":\"TP\",\"showlegend\":false,\"x\":[4],\"y\":[0.9752851711026616],\"type\":\"scatter\"},{\"marker\":{\"color\":\"LightSkyBlue\",\"line\":{\"color\":\"DarkSlateGrey\",\"width\":2},\"size\":8},\"mode\":\"markers\",\"name\":\"TP\",\"showlegend\":false,\"x\":[3],\"y\":[0.9610750695088045],\"type\":\"scatter\"},{\"marker\":{\"color\":\"LightSkyBlue\",\"line\":{\"color\":\"DarkSlateGrey\",\"width\":2},\"size\":8},\"mode\":\"markers\",\"name\":\"TP\",\"showlegend\":false,\"x\":[2],\"y\":[0.9944610140605028],\"type\":\"scatter\"}],                        {\"template\":{\"data\":{\"histogram2dcontour\":[{\"type\":\"histogram2dcontour\",\"colorbar\":{\"outlinewidth\":0,\"ticks\":\"\"},\"colorscale\":[[0.0,\"#0d0887\"],[0.1111111111111111,\"#46039f\"],[0.2222222222222222,\"#7201a8\"],[0.3333333333333333,\"#9c179e\"],[0.4444444444444444,\"#bd3786\"],[0.5555555555555556,\"#d8576b\"],[0.6666666666666666,\"#ed7953\"],[0.7777777777777778,\"#fb9f3a\"],[0.8888888888888888,\"#fdca26\"],[1.0,\"#f0f921\"]]}],\"choropleth\":[{\"type\":\"choropleth\",\"colorbar\":{\"outlinewidth\":0,\"ticks\":\"\"}}],\"histogram2d\":[{\"type\":\"histogram2d\",\"colorbar\":{\"outlinewidth\":0,\"ticks\":\"\"},\"colorscale\":[[0.0,\"#0d0887\"],[0.1111111111111111,\"#46039f\"],[0.2222222222222222,\"#7201a8\"],[0.3333333333333333,\"#9c179e\"],[0.4444444444444444,\"#bd3786\"],[0.5555555555555556,\"#d8576b\"],[0.6666666666666666,\"#ed7953\"],[0.7777777777777778,\"#fb9f3a\"],[0.8888888888888888,\"#fdca26\"],[1.0,\"#f0f921\"]]}],\"heatmap\":[{\"type\":\"heatmap\",\"colorbar\":{\"outlinewidth\":0,\"ticks\":\"\"},\"colorscale\":[[0.0,\"#0d0887\"],[0.1111111111111111,\"#46039f\"],[0.2222222222222222,\"#7201a8\"],[0.3333333333333333,\"#9c179e\"],[0.4444444444444444,\"#bd3786\"],[0.5555555555555556,\"#d8576b\"],[0.6666666666666666,\"#ed7953\"],[0.7777777777777778,\"#fb9f3a\"],[0.8888888888888888,\"#fdca26\"],[1.0,\"#f0f921\"]]}],\"heatmapgl\":[{\"type\":\"heatmapgl\",\"colorbar\":{\"outlinewidth\":0,\"ticks\":\"\"},\"colorscale\":[[0.0,\"#0d0887\"],[0.1111111111111111,\"#46039f\"],[0.2222222222222222,\"#7201a8\"],[0.3333333333333333,\"#9c179e\"],[0.4444444444444444,\"#bd3786\"],[0.5555555555555556,\"#d8576b\"],[0.6666666666666666,\"#ed7953\"],[0.7777777777777778,\"#fb9f3a\"],[0.8888888888888888,\"#fdca26\"],[1.0,\"#f0f921\"]]}],\"contourcarpet\":[{\"type\":\"contourcarpet\",\"colorbar\":{\"outlinewidth\":0,\"ticks\":\"\"}}],\"contour\":[{\"type\":\"contour\",\"colorbar\":{\"outlinewidth\":0,\"ticks\":\"\"},\"colorscale\":[[0.0,\"#0d0887\"],[0.1111111111111111,\"#46039f\"],[0.2222222222222222,\"#7201a8\"],[0.3333333333333333,\"#9c179e\"],[0.4444444444444444,\"#bd3786\"],[0.5555555555555556,\"#d8576b\"],[0.6666666666666666,\"#ed7953\"],[0.7777777777777778,\"#fb9f3a\"],[0.8888888888888888,\"#fdca26\"],[1.0,\"#f0f921\"]]}],\"surface\":[{\"type\":\"surface\",\"colorbar\":{\"outlinewidth\":0,\"ticks\":\"\"},\"colorscale\":[[0.0,\"#0d0887\"],[0.1111111111111111,\"#46039f\"],[0.2222222222222222,\"#7201a8\"],[0.3333333333333333,\"#9c179e\"],[0.4444444444444444,\"#bd3786\"],[0.5555555555555556,\"#d8576b\"],[0.6666666666666666,\"#ed7953\"],[0.7777777777777778,\"#fb9f3a\"],[0.8888888888888888,\"#fdca26\"],[1.0,\"#f0f921\"]]}],\"mesh3d\":[{\"type\":\"mesh3d\",\"colorbar\":{\"outlinewidth\":0,\"ticks\":\"\"}}],\"scatter\":[{\"fillpattern\":{\"fillmode\":\"overlay\",\"size\":10,\"solidity\":0.2},\"type\":\"scatter\"}],\"parcoords\":[{\"type\":\"parcoords\",\"line\":{\"colorbar\":{\"outlinewidth\":0,\"ticks\":\"\"}}}],\"scatterpolargl\":[{\"type\":\"scatterpolargl\",\"marker\":{\"colorbar\":{\"outlinewidth\":0,\"ticks\":\"\"}}}],\"bar\":[{\"error_x\":{\"color\":\"#2a3f5f\"},\"error_y\":{\"color\":\"#2a3f5f\"},\"marker\":{\"line\":{\"color\":\"#E5ECF6\",\"width\":0.5},\"pattern\":{\"fillmode\":\"overlay\",\"size\":10,\"solidity\":0.2}},\"type\":\"bar\"}],\"scattergeo\":[{\"type\":\"scattergeo\",\"marker\":{\"colorbar\":{\"outlinewidth\":0,\"ticks\":\"\"}}}],\"scatterpolar\":[{\"type\":\"scatterpolar\",\"marker\":{\"colorbar\":{\"outlinewidth\":0,\"ticks\":\"\"}}}],\"histogram\":[{\"marker\":{\"pattern\":{\"fillmode\":\"overlay\",\"size\":10,\"solidity\":0.2}},\"type\":\"histogram\"}],\"scattergl\":[{\"type\":\"scattergl\",\"marker\":{\"colorbar\":{\"outlinewidth\":0,\"ticks\":\"\"}}}],\"scatter3d\":[{\"type\":\"scatter3d\",\"line\":{\"colorbar\":{\"outlinewidth\":0,\"ticks\":\"\"}},\"marker\":{\"colorbar\":{\"outlinewidth\":0,\"ticks\":\"\"}}}],\"scattermapbox\":[{\"type\":\"scattermapbox\",\"marker\":{\"colorbar\":{\"outlinewidth\":0,\"ticks\":\"\"}}}],\"scatterternary\":[{\"type\":\"scatterternary\",\"marker\":{\"colorbar\":{\"outlinewidth\":0,\"ticks\":\"\"}}}],\"scattercarpet\":[{\"type\":\"scattercarpet\",\"marker\":{\"colorbar\":{\"outlinewidth\":0,\"ticks\":\"\"}}}],\"carpet\":[{\"aaxis\":{\"endlinecolor\":\"#2a3f5f\",\"gridcolor\":\"white\",\"linecolor\":\"white\",\"minorgridcolor\":\"white\",\"startlinecolor\":\"#2a3f5f\"},\"baxis\":{\"endlinecolor\":\"#2a3f5f\",\"gridcolor\":\"white\",\"linecolor\":\"white\",\"minorgridcolor\":\"white\",\"startlinecolor\":\"#2a3f5f\"},\"type\":\"carpet\"}],\"table\":[{\"cells\":{\"fill\":{\"color\":\"#EBF0F8\"},\"line\":{\"color\":\"white\"}},\"header\":{\"fill\":{\"color\":\"#C8D4E3\"},\"line\":{\"color\":\"white\"}},\"type\":\"table\"}],\"barpolar\":[{\"marker\":{\"line\":{\"color\":\"#E5ECF6\",\"width\":0.5},\"pattern\":{\"fillmode\":\"overlay\",\"size\":10,\"solidity\":0.2}},\"type\":\"barpolar\"}],\"pie\":[{\"automargin\":true,\"type\":\"pie\"}]},\"layout\":{\"autotypenumbers\":\"strict\",\"colorway\":[\"#636efa\",\"#EF553B\",\"#00cc96\",\"#ab63fa\",\"#FFA15A\",\"#19d3f3\",\"#FF6692\",\"#B6E880\",\"#FF97FF\",\"#FECB52\"],\"font\":{\"color\":\"#2a3f5f\"},\"hovermode\":\"closest\",\"hoverlabel\":{\"align\":\"left\"},\"paper_bgcolor\":\"white\",\"plot_bgcolor\":\"#E5ECF6\",\"polar\":{\"bgcolor\":\"#E5ECF6\",\"angularaxis\":{\"gridcolor\":\"white\",\"linecolor\":\"white\",\"ticks\":\"\"},\"radialaxis\":{\"gridcolor\":\"white\",\"linecolor\":\"white\",\"ticks\":\"\"}},\"ternary\":{\"bgcolor\":\"#E5ECF6\",\"aaxis\":{\"gridcolor\":\"white\",\"linecolor\":\"white\",\"ticks\":\"\"},\"baxis\":{\"gridcolor\":\"white\",\"linecolor\":\"white\",\"ticks\":\"\"},\"caxis\":{\"gridcolor\":\"white\",\"linecolor\":\"white\",\"ticks\":\"\"}},\"coloraxis\":{\"colorbar\":{\"outlinewidth\":0,\"ticks\":\"\"}},\"colorscale\":{\"sequential\":[[0.0,\"#0d0887\"],[0.1111111111111111,\"#46039f\"],[0.2222222222222222,\"#7201a8\"],[0.3333333333333333,\"#9c179e\"],[0.4444444444444444,\"#bd3786\"],[0.5555555555555556,\"#d8576b\"],[0.6666666666666666,\"#ed7953\"],[0.7777777777777778,\"#fb9f3a\"],[0.8888888888888888,\"#fdca26\"],[1.0,\"#f0f921\"]],\"sequentialminus\":[[0.0,\"#0d0887\"],[0.1111111111111111,\"#46039f\"],[0.2222222222222222,\"#7201a8\"],[0.3333333333333333,\"#9c179e\"],[0.4444444444444444,\"#bd3786\"],[0.5555555555555556,\"#d8576b\"],[0.6666666666666666,\"#ed7953\"],[0.7777777777777778,\"#fb9f3a\"],[0.8888888888888888,\"#fdca26\"],[1.0,\"#f0f921\"]],\"diverging\":[[0,\"#8e0152\"],[0.1,\"#c51b7d\"],[0.2,\"#de77ae\"],[0.3,\"#f1b6da\"],[0.4,\"#fde0ef\"],[0.5,\"#f7f7f7\"],[0.6,\"#e6f5d0\"],[0.7,\"#b8e186\"],[0.8,\"#7fbc41\"],[0.9,\"#4d9221\"],[1,\"#276419\"]]},\"xaxis\":{\"gridcolor\":\"white\",\"linecolor\":\"white\",\"ticks\":\"\",\"title\":{\"standoff\":15},\"zerolinecolor\":\"white\",\"automargin\":true,\"zerolinewidth\":2},\"yaxis\":{\"gridcolor\":\"white\",\"linecolor\":\"white\",\"ticks\":\"\",\"title\":{\"standoff\":15},\"zerolinecolor\":\"white\",\"automargin\":true,\"zerolinewidth\":2},\"scene\":{\"xaxis\":{\"backgroundcolor\":\"#E5ECF6\",\"gridcolor\":\"white\",\"linecolor\":\"white\",\"showbackground\":true,\"ticks\":\"\",\"zerolinecolor\":\"white\",\"gridwidth\":2},\"yaxis\":{\"backgroundcolor\":\"#E5ECF6\",\"gridcolor\":\"white\",\"linecolor\":\"white\",\"showbackground\":true,\"ticks\":\"\",\"zerolinecolor\":\"white\",\"gridwidth\":2},\"zaxis\":{\"backgroundcolor\":\"#E5ECF6\",\"gridcolor\":\"white\",\"linecolor\":\"white\",\"showbackground\":true,\"ticks\":\"\",\"zerolinecolor\":\"white\",\"gridwidth\":2}},\"shapedefaults\":{\"line\":{\"color\":\"#2a3f5f\"}},\"annotationdefaults\":{\"arrowcolor\":\"#2a3f5f\",\"arrowhead\":0,\"arrowwidth\":1},\"geo\":{\"bgcolor\":\"white\",\"landcolor\":\"#E5ECF6\",\"subunitcolor\":\"white\",\"showland\":true,\"showlakes\":true,\"lakecolor\":\"white\"},\"title\":{\"x\":0.05},\"mapbox\":{\"style\":\"light\"}}},\"title\":{\"text\":\"Funciones de Votacion TP1\"}},                        {\"responsive\": true}                    ).then(function(){\n",
       "                            \n",
       "var gd = document.getElementById('954ebc8a-e999-4ba2-8bbc-394fed65235b');\n",
       "var x = new MutationObserver(function (mutations, observer) {{\n",
       "        var display = window.getComputedStyle(gd).display;\n",
       "        if (!display || display === 'none') {{\n",
       "            console.log([gd, 'removed!']);\n",
       "            Plotly.purge(gd);\n",
       "            observer.disconnect();\n",
       "        }}\n",
       "}});\n",
       "\n",
       "// Listen for the removal of the full notebook cells\n",
       "var notebookContainer = gd.closest('#notebook-container');\n",
       "if (notebookContainer) {{\n",
       "    x.observe(notebookContainer, {childList: true});\n",
       "}}\n",
       "\n",
       "// Listen for the clearing of the current output cell\n",
       "var outputEl = gd.closest('.output');\n",
       "if (outputEl) {{\n",
       "    x.observe(outputEl, {childList: true});\n",
       "}}\n",
       "\n",
       "                        })                };                });            </script>        </div>"
      ]
     },
     "metadata": {},
     "output_type": "display_data"
    }
   ],
   "source": [
    "# Graficas TP1\n",
    "index_TP1=[i for i in range(len(list_of_TP)) if len(list_of_TP[i]) == 1]\n",
    "list_TP1 = [list_of_TP[i] for i in index_TP1]\n",
    "list_voting_1=[lists_voting[i] for i in index_TP1]\n",
    "graph_voting_functions(list_voting_1,list_TP1)"
   ]
  },
  {
   "cell_type": "code",
   "execution_count": 48,
   "id": "b21093d4-0b99-41eb-a77f-fb93ec762850",
   "metadata": {},
   "outputs": [
    {
     "data": {
      "text/plain": [
       "[['insidiosus_ATCC_10253'],\n",
       " ['subsp_michi_contigs'],\n",
       " ['tessellarius_ATCC_33566'],\n",
       " ['subsp_nebraskensis_419B'],\n",
       " ['subsp_capsici_1101'],\n",
       " ['subsp_sepedonicus_ATCC33113']]"
      ]
     },
     "execution_count": 48,
     "metadata": {},
     "output_type": "execute_result"
    }
   ],
   "source": [
    "list_TP1"
   ]
  },
  {
   "cell_type": "code",
   "execution_count": 49,
   "id": "3bf7d953-ac02-42dc-b11a-fef3f369ab8e",
   "metadata": {},
   "outputs": [
    {
     "data": {
      "application/vnd.plotly.v1+json": {
       "config": {
        "plotlyServerURL": "https://plot.ly"
       },
       "data": [
        {
         "name": "('subsp_michi_contigs', 'subsp_nebraskensis_419B')",
         "showlegend": false,
         "type": "scatter",
         "x": [
          0,
          1,
          2,
          3,
          4,
          5
         ],
         "y": [
          1,
          0.9708295350957156,
          0.96718322698268,
          0.9611060467942875,
          0.9446976602856275,
          0.9039805530233972
         ]
        },
        {
         "name": "('subsp_capsici_1101', 'insidiosus_ATCC_10253')",
         "showlegend": false,
         "type": "scatter",
         "x": [
          0,
          1,
          2,
          3,
          4,
          5
         ],
         "y": [
          1,
          0.9958631064309891,
          0.9740503948852952,
          0.9680330951485521,
          0.9405791650996616,
          0.9206468597216999
         ]
        },
        {
         "name": "('subsp_sepedonicus_ATCC33113', 'tessellarius_ATCC_33566')",
         "showlegend": false,
         "type": "scatter",
         "x": [
          0,
          1,
          2,
          3,
          4,
          5
         ],
         "y": [
          1,
          0.9984779299847792,
          0.993531202435312,
          0.9851598173515982,
          0.958523592085236,
          0.9570015220700152
         ]
        },
        {
         "marker": {
          "color": "LightSkyBlue",
          "line": {
           "color": "DarkSlateGrey",
           "width": 2
          },
          "size": 8
         },
         "mode": "markers",
         "name": "TP",
         "showlegend": false,
         "type": "scatter",
         "x": [
          0
         ],
         "y": [
          1
         ]
        },
        {
         "marker": {
          "color": "LightSkyBlue",
          "line": {
           "color": "DarkSlateGrey",
           "width": 2
          },
          "size": 8
         },
         "mode": "markers",
         "name": "TP",
         "showlegend": false,
         "type": "scatter",
         "x": [
          3
         ],
         "y": [
          0.9611060467942875
         ]
        },
        {
         "marker": {
          "color": "LightSkyBlue",
          "line": {
           "color": "DarkSlateGrey",
           "width": 2
          },
          "size": 8
         },
         "mode": "markers",
         "name": "TP",
         "showlegend": false,
         "type": "scatter",
         "x": [
          0
         ],
         "y": [
          1
         ]
        },
        {
         "marker": {
          "color": "LightSkyBlue",
          "line": {
           "color": "DarkSlateGrey",
           "width": 2
          },
          "size": 8
         },
         "mode": "markers",
         "name": "TP",
         "showlegend": false,
         "type": "scatter",
         "x": [
          2
         ],
         "y": [
          0.9740503948852952
         ]
        },
        {
         "marker": {
          "color": "LightSkyBlue",
          "line": {
           "color": "DarkSlateGrey",
           "width": 2
          },
          "size": 8
         },
         "mode": "markers",
         "name": "TP",
         "showlegend": false,
         "type": "scatter",
         "x": [
          2
         ],
         "y": [
          0.993531202435312
         ]
        },
        {
         "marker": {
          "color": "LightSkyBlue",
          "line": {
           "color": "DarkSlateGrey",
           "width": 2
          },
          "size": 8
         },
         "mode": "markers",
         "name": "TP",
         "showlegend": false,
         "type": "scatter",
         "x": [
          4
         ],
         "y": [
          0.958523592085236
         ]
        }
       ],
       "layout": {
        "autosize": true,
        "template": {
         "data": {
          "bar": [
           {
            "error_x": {
             "color": "#2a3f5f"
            },
            "error_y": {
             "color": "#2a3f5f"
            },
            "marker": {
             "line": {
              "color": "#E5ECF6",
              "width": 0.5
             },
             "pattern": {
              "fillmode": "overlay",
              "size": 10,
              "solidity": 0.2
             }
            },
            "type": "bar"
           }
          ],
          "barpolar": [
           {
            "marker": {
             "line": {
              "color": "#E5ECF6",
              "width": 0.5
             },
             "pattern": {
              "fillmode": "overlay",
              "size": 10,
              "solidity": 0.2
             }
            },
            "type": "barpolar"
           }
          ],
          "carpet": [
           {
            "aaxis": {
             "endlinecolor": "#2a3f5f",
             "gridcolor": "white",
             "linecolor": "white",
             "minorgridcolor": "white",
             "startlinecolor": "#2a3f5f"
            },
            "baxis": {
             "endlinecolor": "#2a3f5f",
             "gridcolor": "white",
             "linecolor": "white",
             "minorgridcolor": "white",
             "startlinecolor": "#2a3f5f"
            },
            "type": "carpet"
           }
          ],
          "choropleth": [
           {
            "colorbar": {
             "outlinewidth": 0,
             "ticks": ""
            },
            "type": "choropleth"
           }
          ],
          "contour": [
           {
            "colorbar": {
             "outlinewidth": 0,
             "ticks": ""
            },
            "colorscale": [
             [
              0,
              "#0d0887"
             ],
             [
              0.1111111111111111,
              "#46039f"
             ],
             [
              0.2222222222222222,
              "#7201a8"
             ],
             [
              0.3333333333333333,
              "#9c179e"
             ],
             [
              0.4444444444444444,
              "#bd3786"
             ],
             [
              0.5555555555555556,
              "#d8576b"
             ],
             [
              0.6666666666666666,
              "#ed7953"
             ],
             [
              0.7777777777777778,
              "#fb9f3a"
             ],
             [
              0.8888888888888888,
              "#fdca26"
             ],
             [
              1,
              "#f0f921"
             ]
            ],
            "type": "contour"
           }
          ],
          "contourcarpet": [
           {
            "colorbar": {
             "outlinewidth": 0,
             "ticks": ""
            },
            "type": "contourcarpet"
           }
          ],
          "heatmap": [
           {
            "colorbar": {
             "outlinewidth": 0,
             "ticks": ""
            },
            "colorscale": [
             [
              0,
              "#0d0887"
             ],
             [
              0.1111111111111111,
              "#46039f"
             ],
             [
              0.2222222222222222,
              "#7201a8"
             ],
             [
              0.3333333333333333,
              "#9c179e"
             ],
             [
              0.4444444444444444,
              "#bd3786"
             ],
             [
              0.5555555555555556,
              "#d8576b"
             ],
             [
              0.6666666666666666,
              "#ed7953"
             ],
             [
              0.7777777777777778,
              "#fb9f3a"
             ],
             [
              0.8888888888888888,
              "#fdca26"
             ],
             [
              1,
              "#f0f921"
             ]
            ],
            "type": "heatmap"
           }
          ],
          "heatmapgl": [
           {
            "colorbar": {
             "outlinewidth": 0,
             "ticks": ""
            },
            "colorscale": [
             [
              0,
              "#0d0887"
             ],
             [
              0.1111111111111111,
              "#46039f"
             ],
             [
              0.2222222222222222,
              "#7201a8"
             ],
             [
              0.3333333333333333,
              "#9c179e"
             ],
             [
              0.4444444444444444,
              "#bd3786"
             ],
             [
              0.5555555555555556,
              "#d8576b"
             ],
             [
              0.6666666666666666,
              "#ed7953"
             ],
             [
              0.7777777777777778,
              "#fb9f3a"
             ],
             [
              0.8888888888888888,
              "#fdca26"
             ],
             [
              1,
              "#f0f921"
             ]
            ],
            "type": "heatmapgl"
           }
          ],
          "histogram": [
           {
            "marker": {
             "pattern": {
              "fillmode": "overlay",
              "size": 10,
              "solidity": 0.2
             }
            },
            "type": "histogram"
           }
          ],
          "histogram2d": [
           {
            "colorbar": {
             "outlinewidth": 0,
             "ticks": ""
            },
            "colorscale": [
             [
              0,
              "#0d0887"
             ],
             [
              0.1111111111111111,
              "#46039f"
             ],
             [
              0.2222222222222222,
              "#7201a8"
             ],
             [
              0.3333333333333333,
              "#9c179e"
             ],
             [
              0.4444444444444444,
              "#bd3786"
             ],
             [
              0.5555555555555556,
              "#d8576b"
             ],
             [
              0.6666666666666666,
              "#ed7953"
             ],
             [
              0.7777777777777778,
              "#fb9f3a"
             ],
             [
              0.8888888888888888,
              "#fdca26"
             ],
             [
              1,
              "#f0f921"
             ]
            ],
            "type": "histogram2d"
           }
          ],
          "histogram2dcontour": [
           {
            "colorbar": {
             "outlinewidth": 0,
             "ticks": ""
            },
            "colorscale": [
             [
              0,
              "#0d0887"
             ],
             [
              0.1111111111111111,
              "#46039f"
             ],
             [
              0.2222222222222222,
              "#7201a8"
             ],
             [
              0.3333333333333333,
              "#9c179e"
             ],
             [
              0.4444444444444444,
              "#bd3786"
             ],
             [
              0.5555555555555556,
              "#d8576b"
             ],
             [
              0.6666666666666666,
              "#ed7953"
             ],
             [
              0.7777777777777778,
              "#fb9f3a"
             ],
             [
              0.8888888888888888,
              "#fdca26"
             ],
             [
              1,
              "#f0f921"
             ]
            ],
            "type": "histogram2dcontour"
           }
          ],
          "mesh3d": [
           {
            "colorbar": {
             "outlinewidth": 0,
             "ticks": ""
            },
            "type": "mesh3d"
           }
          ],
          "parcoords": [
           {
            "line": {
             "colorbar": {
              "outlinewidth": 0,
              "ticks": ""
             }
            },
            "type": "parcoords"
           }
          ],
          "pie": [
           {
            "automargin": true,
            "type": "pie"
           }
          ],
          "scatter": [
           {
            "fillpattern": {
             "fillmode": "overlay",
             "size": 10,
             "solidity": 0.2
            },
            "type": "scatter"
           }
          ],
          "scatter3d": [
           {
            "line": {
             "colorbar": {
              "outlinewidth": 0,
              "ticks": ""
             }
            },
            "marker": {
             "colorbar": {
              "outlinewidth": 0,
              "ticks": ""
             }
            },
            "type": "scatter3d"
           }
          ],
          "scattercarpet": [
           {
            "marker": {
             "colorbar": {
              "outlinewidth": 0,
              "ticks": ""
             }
            },
            "type": "scattercarpet"
           }
          ],
          "scattergeo": [
           {
            "marker": {
             "colorbar": {
              "outlinewidth": 0,
              "ticks": ""
             }
            },
            "type": "scattergeo"
           }
          ],
          "scattergl": [
           {
            "marker": {
             "colorbar": {
              "outlinewidth": 0,
              "ticks": ""
             }
            },
            "type": "scattergl"
           }
          ],
          "scattermapbox": [
           {
            "marker": {
             "colorbar": {
              "outlinewidth": 0,
              "ticks": ""
             }
            },
            "type": "scattermapbox"
           }
          ],
          "scatterpolar": [
           {
            "marker": {
             "colorbar": {
              "outlinewidth": 0,
              "ticks": ""
             }
            },
            "type": "scatterpolar"
           }
          ],
          "scatterpolargl": [
           {
            "marker": {
             "colorbar": {
              "outlinewidth": 0,
              "ticks": ""
             }
            },
            "type": "scatterpolargl"
           }
          ],
          "scatterternary": [
           {
            "marker": {
             "colorbar": {
              "outlinewidth": 0,
              "ticks": ""
             }
            },
            "type": "scatterternary"
           }
          ],
          "surface": [
           {
            "colorbar": {
             "outlinewidth": 0,
             "ticks": ""
            },
            "colorscale": [
             [
              0,
              "#0d0887"
             ],
             [
              0.1111111111111111,
              "#46039f"
             ],
             [
              0.2222222222222222,
              "#7201a8"
             ],
             [
              0.3333333333333333,
              "#9c179e"
             ],
             [
              0.4444444444444444,
              "#bd3786"
             ],
             [
              0.5555555555555556,
              "#d8576b"
             ],
             [
              0.6666666666666666,
              "#ed7953"
             ],
             [
              0.7777777777777778,
              "#fb9f3a"
             ],
             [
              0.8888888888888888,
              "#fdca26"
             ],
             [
              1,
              "#f0f921"
             ]
            ],
            "type": "surface"
           }
          ],
          "table": [
           {
            "cells": {
             "fill": {
              "color": "#EBF0F8"
             },
             "line": {
              "color": "white"
             }
            },
            "header": {
             "fill": {
              "color": "#C8D4E3"
             },
             "line": {
              "color": "white"
             }
            },
            "type": "table"
           }
          ]
         },
         "layout": {
          "annotationdefaults": {
           "arrowcolor": "#2a3f5f",
           "arrowhead": 0,
           "arrowwidth": 1
          },
          "autotypenumbers": "strict",
          "coloraxis": {
           "colorbar": {
            "outlinewidth": 0,
            "ticks": ""
           }
          },
          "colorscale": {
           "diverging": [
            [
             0,
             "#8e0152"
            ],
            [
             0.1,
             "#c51b7d"
            ],
            [
             0.2,
             "#de77ae"
            ],
            [
             0.3,
             "#f1b6da"
            ],
            [
             0.4,
             "#fde0ef"
            ],
            [
             0.5,
             "#f7f7f7"
            ],
            [
             0.6,
             "#e6f5d0"
            ],
            [
             0.7,
             "#b8e186"
            ],
            [
             0.8,
             "#7fbc41"
            ],
            [
             0.9,
             "#4d9221"
            ],
            [
             1,
             "#276419"
            ]
           ],
           "sequential": [
            [
             0,
             "#0d0887"
            ],
            [
             0.1111111111111111,
             "#46039f"
            ],
            [
             0.2222222222222222,
             "#7201a8"
            ],
            [
             0.3333333333333333,
             "#9c179e"
            ],
            [
             0.4444444444444444,
             "#bd3786"
            ],
            [
             0.5555555555555556,
             "#d8576b"
            ],
            [
             0.6666666666666666,
             "#ed7953"
            ],
            [
             0.7777777777777778,
             "#fb9f3a"
            ],
            [
             0.8888888888888888,
             "#fdca26"
            ],
            [
             1,
             "#f0f921"
            ]
           ],
           "sequentialminus": [
            [
             0,
             "#0d0887"
            ],
            [
             0.1111111111111111,
             "#46039f"
            ],
            [
             0.2222222222222222,
             "#7201a8"
            ],
            [
             0.3333333333333333,
             "#9c179e"
            ],
            [
             0.4444444444444444,
             "#bd3786"
            ],
            [
             0.5555555555555556,
             "#d8576b"
            ],
            [
             0.6666666666666666,
             "#ed7953"
            ],
            [
             0.7777777777777778,
             "#fb9f3a"
            ],
            [
             0.8888888888888888,
             "#fdca26"
            ],
            [
             1,
             "#f0f921"
            ]
           ]
          },
          "colorway": [
           "#636efa",
           "#EF553B",
           "#00cc96",
           "#ab63fa",
           "#FFA15A",
           "#19d3f3",
           "#FF6692",
           "#B6E880",
           "#FF97FF",
           "#FECB52"
          ],
          "font": {
           "color": "#2a3f5f"
          },
          "geo": {
           "bgcolor": "white",
           "lakecolor": "white",
           "landcolor": "#E5ECF6",
           "showlakes": true,
           "showland": true,
           "subunitcolor": "white"
          },
          "hoverlabel": {
           "align": "left"
          },
          "hovermode": "closest",
          "mapbox": {
           "style": "light"
          },
          "paper_bgcolor": "white",
          "plot_bgcolor": "#E5ECF6",
          "polar": {
           "angularaxis": {
            "gridcolor": "white",
            "linecolor": "white",
            "ticks": ""
           },
           "bgcolor": "#E5ECF6",
           "radialaxis": {
            "gridcolor": "white",
            "linecolor": "white",
            "ticks": ""
           }
          },
          "scene": {
           "xaxis": {
            "backgroundcolor": "#E5ECF6",
            "gridcolor": "white",
            "gridwidth": 2,
            "linecolor": "white",
            "showbackground": true,
            "ticks": "",
            "zerolinecolor": "white"
           },
           "yaxis": {
            "backgroundcolor": "#E5ECF6",
            "gridcolor": "white",
            "gridwidth": 2,
            "linecolor": "white",
            "showbackground": true,
            "ticks": "",
            "zerolinecolor": "white"
           },
           "zaxis": {
            "backgroundcolor": "#E5ECF6",
            "gridcolor": "white",
            "gridwidth": 2,
            "linecolor": "white",
            "showbackground": true,
            "ticks": "",
            "zerolinecolor": "white"
           }
          },
          "shapedefaults": {
           "line": {
            "color": "#2a3f5f"
           }
          },
          "ternary": {
           "aaxis": {
            "gridcolor": "white",
            "linecolor": "white",
            "ticks": ""
           },
           "baxis": {
            "gridcolor": "white",
            "linecolor": "white",
            "ticks": ""
           },
           "bgcolor": "#E5ECF6",
           "caxis": {
            "gridcolor": "white",
            "linecolor": "white",
            "ticks": ""
           }
          },
          "title": {
           "x": 0.05
          },
          "xaxis": {
           "automargin": true,
           "gridcolor": "white",
           "linecolor": "white",
           "ticks": "",
           "title": {
            "standoff": 15
           },
           "zerolinecolor": "white",
           "zerolinewidth": 2
          },
          "yaxis": {
           "automargin": true,
           "gridcolor": "white",
           "linecolor": "white",
           "ticks": "",
           "title": {
            "standoff": 15
           },
           "zerolinecolor": "white",
           "zerolinewidth": 2
          }
         }
        },
        "title": {
         "text": "Funciones de Votacion TP2"
        },
        "xaxis": {
         "autorange": true,
         "range": [
          -0.30382150486589127,
          5.2978874910989795
         ],
         "type": "linear"
        },
        "yaxis": {
         "autorange": true,
         "range": [
          0.8959919856566652,
          1.0087717602458235
         ],
         "type": "linear"
        }
       }
      },
      "image/png": "[encoded data removed]",
      "text/html": [
       "<div>                            <div id=\"17de3d4b-b73c-47b7-b6bc-2f3889c9ec1f\" class=\"plotly-graph-div\" style=\"height:525px; width:100%;\"></div>            <script type=\"text/javascript\">                require([\"plotly\"], function(Plotly) {                    window.PLOTLYENV=window.PLOTLYENV || {};                                    if (document.getElementById(\"17de3d4b-b73c-47b7-b6bc-2f3889c9ec1f\")) {                    Plotly.newPlot(                        \"17de3d4b-b73c-47b7-b6bc-2f3889c9ec1f\",                        [{\"name\":\"('subsp_michi_contigs', 'subsp_nebraskensis_419B')\",\"showlegend\":false,\"x\":[0,1,2,3,4,5],\"y\":[1.0,0.9708295350957156,0.96718322698268,0.9611060467942875,0.9446976602856275,0.9039805530233972],\"type\":\"scatter\"},{\"name\":\"('subsp_capsici_1101', 'insidiosus_ATCC_10253')\",\"showlegend\":false,\"x\":[0,1,2,3,4,5],\"y\":[1.0,0.9958631064309891,0.9740503948852952,0.9680330951485521,0.9405791650996616,0.9206468597216999],\"type\":\"scatter\"},{\"name\":\"('subsp_sepedonicus_ATCC33113', 'tessellarius_ATCC_33566')\",\"showlegend\":false,\"x\":[0,1,2,3,4,5],\"y\":[1.0,0.9984779299847792,0.993531202435312,0.9851598173515982,0.958523592085236,0.9570015220700152],\"type\":\"scatter\"},{\"marker\":{\"color\":\"LightSkyBlue\",\"line\":{\"color\":\"DarkSlateGrey\",\"width\":2},\"size\":8},\"mode\":\"markers\",\"name\":\"TP\",\"showlegend\":false,\"x\":[0],\"y\":[1.0],\"type\":\"scatter\"},{\"marker\":{\"color\":\"LightSkyBlue\",\"line\":{\"color\":\"DarkSlateGrey\",\"width\":2},\"size\":8},\"mode\":\"markers\",\"name\":\"TP\",\"showlegend\":false,\"x\":[3],\"y\":[0.9611060467942875],\"type\":\"scatter\"},{\"marker\":{\"color\":\"LightSkyBlue\",\"line\":{\"color\":\"DarkSlateGrey\",\"width\":2},\"size\":8},\"mode\":\"markers\",\"name\":\"TP\",\"showlegend\":false,\"x\":[0],\"y\":[1.0],\"type\":\"scatter\"},{\"marker\":{\"color\":\"LightSkyBlue\",\"line\":{\"color\":\"DarkSlateGrey\",\"width\":2},\"size\":8},\"mode\":\"markers\",\"name\":\"TP\",\"showlegend\":false,\"x\":[2],\"y\":[0.9740503948852952],\"type\":\"scatter\"},{\"marker\":{\"color\":\"LightSkyBlue\",\"line\":{\"color\":\"DarkSlateGrey\",\"width\":2},\"size\":8},\"mode\":\"markers\",\"name\":\"TP\",\"showlegend\":false,\"x\":[2],\"y\":[0.993531202435312],\"type\":\"scatter\"},{\"marker\":{\"color\":\"LightSkyBlue\",\"line\":{\"color\":\"DarkSlateGrey\",\"width\":2},\"size\":8},\"mode\":\"markers\",\"name\":\"TP\",\"showlegend\":false,\"x\":[4],\"y\":[0.958523592085236],\"type\":\"scatter\"}],                        {\"template\":{\"data\":{\"histogram2dcontour\":[{\"type\":\"histogram2dcontour\",\"colorbar\":{\"outlinewidth\":0,\"ticks\":\"\"},\"colorscale\":[[0.0,\"#0d0887\"],[0.1111111111111111,\"#46039f\"],[0.2222222222222222,\"#7201a8\"],[0.3333333333333333,\"#9c179e\"],[0.4444444444444444,\"#bd3786\"],[0.5555555555555556,\"#d8576b\"],[0.6666666666666666,\"#ed7953\"],[0.7777777777777778,\"#fb9f3a\"],[0.8888888888888888,\"#fdca26\"],[1.0,\"#f0f921\"]]}],\"choropleth\":[{\"type\":\"choropleth\",\"colorbar\":{\"outlinewidth\":0,\"ticks\":\"\"}}],\"histogram2d\":[{\"type\":\"histogram2d\",\"colorbar\":{\"outlinewidth\":0,\"ticks\":\"\"},\"colorscale\":[[0.0,\"#0d0887\"],[0.1111111111111111,\"#46039f\"],[0.2222222222222222,\"#7201a8\"],[0.3333333333333333,\"#9c179e\"],[0.4444444444444444,\"#bd3786\"],[0.5555555555555556,\"#d8576b\"],[0.6666666666666666,\"#ed7953\"],[0.7777777777777778,\"#fb9f3a\"],[0.8888888888888888,\"#fdca26\"],[1.0,\"#f0f921\"]]}],\"heatmap\":[{\"type\":\"heatmap\",\"colorbar\":{\"outlinewidth\":0,\"ticks\":\"\"},\"colorscale\":[[0.0,\"#0d0887\"],[0.1111111111111111,\"#46039f\"],[0.2222222222222222,\"#7201a8\"],[0.3333333333333333,\"#9c179e\"],[0.4444444444444444,\"#bd3786\"],[0.5555555555555556,\"#d8576b\"],[0.6666666666666666,\"#ed7953\"],[0.7777777777777778,\"#fb9f3a\"],[0.8888888888888888,\"#fdca26\"],[1.0,\"#f0f921\"]]}],\"heatmapgl\":[{\"type\":\"heatmapgl\",\"colorbar\":{\"outlinewidth\":0,\"ticks\":\"\"},\"colorscale\":[[0.0,\"#0d0887\"],[0.1111111111111111,\"#46039f\"],[0.2222222222222222,\"#7201a8\"],[0.3333333333333333,\"#9c179e\"],[0.4444444444444444,\"#bd3786\"],[0.5555555555555556,\"#d8576b\"],[0.6666666666666666,\"#ed7953\"],[0.7777777777777778,\"#fb9f3a\"],[0.8888888888888888,\"#fdca26\"],[1.0,\"#f0f921\"]]}],\"contourcarpet\":[{\"type\":\"contourcarpet\",\"colorbar\":{\"outlinewidth\":0,\"ticks\":\"\"}}],\"contour\":[{\"type\":\"contour\",\"colorbar\":{\"outlinewidth\":0,\"ticks\":\"\"},\"colorscale\":[[0.0,\"#0d0887\"],[0.1111111111111111,\"#46039f\"],[0.2222222222222222,\"#7201a8\"],[0.3333333333333333,\"#9c179e\"],[0.4444444444444444,\"#bd3786\"],[0.5555555555555556,\"#d8576b\"],[0.6666666666666666,\"#ed7953\"],[0.7777777777777778,\"#fb9f3a\"],[0.8888888888888888,\"#fdca26\"],[1.0,\"#f0f921\"]]}],\"surface\":[{\"type\":\"surface\",\"colorbar\":{\"outlinewidth\":0,\"ticks\":\"\"},\"colorscale\":[[0.0,\"#0d0887\"],[0.1111111111111111,\"#46039f\"],[0.2222222222222222,\"#7201a8\"],[0.3333333333333333,\"#9c179e\"],[0.4444444444444444,\"#bd3786\"],[0.5555555555555556,\"#d8576b\"],[0.6666666666666666,\"#ed7953\"],[0.7777777777777778,\"#fb9f3a\"],[0.8888888888888888,\"#fdca26\"],[1.0,\"#f0f921\"]]}],\"mesh3d\":[{\"type\":\"mesh3d\",\"colorbar\":{\"outlinewidth\":0,\"ticks\":\"\"}}],\"scatter\":[{\"fillpattern\":{\"fillmode\":\"overlay\",\"size\":10,\"solidity\":0.2},\"type\":\"scatter\"}],\"parcoords\":[{\"type\":\"parcoords\",\"line\":{\"colorbar\":{\"outlinewidth\":0,\"ticks\":\"\"}}}],\"scatterpolargl\":[{\"type\":\"scatterpolargl\",\"marker\":{\"colorbar\":{\"outlinewidth\":0,\"ticks\":\"\"}}}],\"bar\":[{\"error_x\":{\"color\":\"#2a3f5f\"},\"error_y\":{\"color\":\"#2a3f5f\"},\"marker\":{\"line\":{\"color\":\"#E5ECF6\",\"width\":0.5},\"pattern\":{\"fillmode\":\"overlay\",\"size\":10,\"solidity\":0.2}},\"type\":\"bar\"}],\"scattergeo\":[{\"type\":\"scattergeo\",\"marker\":{\"colorbar\":{\"outlinewidth\":0,\"ticks\":\"\"}}}],\"scatterpolar\":[{\"type\":\"scatterpolar\",\"marker\":{\"colorbar\":{\"outlinewidth\":0,\"ticks\":\"\"}}}],\"histogram\":[{\"marker\":{\"pattern\":{\"fillmode\":\"overlay\",\"size\":10,\"solidity\":0.2}},\"type\":\"histogram\"}],\"scattergl\":[{\"type\":\"scattergl\",\"marker\":{\"colorbar\":{\"outlinewidth\":0,\"ticks\":\"\"}}}],\"scatter3d\":[{\"type\":\"scatter3d\",\"line\":{\"colorbar\":{\"outlinewidth\":0,\"ticks\":\"\"}},\"marker\":{\"colorbar\":{\"outlinewidth\":0,\"ticks\":\"\"}}}],\"scattermapbox\":[{\"type\":\"scattermapbox\",\"marker\":{\"colorbar\":{\"outlinewidth\":0,\"ticks\":\"\"}}}],\"scatterternary\":[{\"type\":\"scatterternary\",\"marker\":{\"colorbar\":{\"outlinewidth\":0,\"ticks\":\"\"}}}],\"scattercarpet\":[{\"type\":\"scattercarpet\",\"marker\":{\"colorbar\":{\"outlinewidth\":0,\"ticks\":\"\"}}}],\"carpet\":[{\"aaxis\":{\"endlinecolor\":\"#2a3f5f\",\"gridcolor\":\"white\",\"linecolor\":\"white\",\"minorgridcolor\":\"white\",\"startlinecolor\":\"#2a3f5f\"},\"baxis\":{\"endlinecolor\":\"#2a3f5f\",\"gridcolor\":\"white\",\"linecolor\":\"white\",\"minorgridcolor\":\"white\",\"startlinecolor\":\"#2a3f5f\"},\"type\":\"carpet\"}],\"table\":[{\"cells\":{\"fill\":{\"color\":\"#EBF0F8\"},\"line\":{\"color\":\"white\"}},\"header\":{\"fill\":{\"color\":\"#C8D4E3\"},\"line\":{\"color\":\"white\"}},\"type\":\"table\"}],\"barpolar\":[{\"marker\":{\"line\":{\"color\":\"#E5ECF6\",\"width\":0.5},\"pattern\":{\"fillmode\":\"overlay\",\"size\":10,\"solidity\":0.2}},\"type\":\"barpolar\"}],\"pie\":[{\"automargin\":true,\"type\":\"pie\"}]},\"layout\":{\"autotypenumbers\":\"strict\",\"colorway\":[\"#636efa\",\"#EF553B\",\"#00cc96\",\"#ab63fa\",\"#FFA15A\",\"#19d3f3\",\"#FF6692\",\"#B6E880\",\"#FF97FF\",\"#FECB52\"],\"font\":{\"color\":\"#2a3f5f\"},\"hovermode\":\"closest\",\"hoverlabel\":{\"align\":\"left\"},\"paper_bgcolor\":\"white\",\"plot_bgcolor\":\"#E5ECF6\",\"polar\":{\"bgcolor\":\"#E5ECF6\",\"angularaxis\":{\"gridcolor\":\"white\",\"linecolor\":\"white\",\"ticks\":\"\"},\"radialaxis\":{\"gridcolor\":\"white\",\"linecolor\":\"white\",\"ticks\":\"\"}},\"ternary\":{\"bgcolor\":\"#E5ECF6\",\"aaxis\":{\"gridcolor\":\"white\",\"linecolor\":\"white\",\"ticks\":\"\"},\"baxis\":{\"gridcolor\":\"white\",\"linecolor\":\"white\",\"ticks\":\"\"},\"caxis\":{\"gridcolor\":\"white\",\"linecolor\":\"white\",\"ticks\":\"\"}},\"coloraxis\":{\"colorbar\":{\"outlinewidth\":0,\"ticks\":\"\"}},\"colorscale\":{\"sequential\":[[0.0,\"#0d0887\"],[0.1111111111111111,\"#46039f\"],[0.2222222222222222,\"#7201a8\"],[0.3333333333333333,\"#9c179e\"],[0.4444444444444444,\"#bd3786\"],[0.5555555555555556,\"#d8576b\"],[0.6666666666666666,\"#ed7953\"],[0.7777777777777778,\"#fb9f3a\"],[0.8888888888888888,\"#fdca26\"],[1.0,\"#f0f921\"]],\"sequentialminus\":[[0.0,\"#0d0887\"],[0.1111111111111111,\"#46039f\"],[0.2222222222222222,\"#7201a8\"],[0.3333333333333333,\"#9c179e\"],[0.4444444444444444,\"#bd3786\"],[0.5555555555555556,\"#d8576b\"],[0.6666666666666666,\"#ed7953\"],[0.7777777777777778,\"#fb9f3a\"],[0.8888888888888888,\"#fdca26\"],[1.0,\"#f0f921\"]],\"diverging\":[[0,\"#8e0152\"],[0.1,\"#c51b7d\"],[0.2,\"#de77ae\"],[0.3,\"#f1b6da\"],[0.4,\"#fde0ef\"],[0.5,\"#f7f7f7\"],[0.6,\"#e6f5d0\"],[0.7,\"#b8e186\"],[0.8,\"#7fbc41\"],[0.9,\"#4d9221\"],[1,\"#276419\"]]},\"xaxis\":{\"gridcolor\":\"white\",\"linecolor\":\"white\",\"ticks\":\"\",\"title\":{\"standoff\":15},\"zerolinecolor\":\"white\",\"automargin\":true,\"zerolinewidth\":2},\"yaxis\":{\"gridcolor\":\"white\",\"linecolor\":\"white\",\"ticks\":\"\",\"title\":{\"standoff\":15},\"zerolinecolor\":\"white\",\"automargin\":true,\"zerolinewidth\":2},\"scene\":{\"xaxis\":{\"backgroundcolor\":\"#E5ECF6\",\"gridcolor\":\"white\",\"linecolor\":\"white\",\"showbackground\":true,\"ticks\":\"\",\"zerolinecolor\":\"white\",\"gridwidth\":2},\"yaxis\":{\"backgroundcolor\":\"#E5ECF6\",\"gridcolor\":\"white\",\"linecolor\":\"white\",\"showbackground\":true,\"ticks\":\"\",\"zerolinecolor\":\"white\",\"gridwidth\":2},\"zaxis\":{\"backgroundcolor\":\"#E5ECF6\",\"gridcolor\":\"white\",\"linecolor\":\"white\",\"showbackground\":true,\"ticks\":\"\",\"zerolinecolor\":\"white\",\"gridwidth\":2}},\"shapedefaults\":{\"line\":{\"color\":\"#2a3f5f\"}},\"annotationdefaults\":{\"arrowcolor\":\"#2a3f5f\",\"arrowhead\":0,\"arrowwidth\":1},\"geo\":{\"bgcolor\":\"white\",\"landcolor\":\"#E5ECF6\",\"subunitcolor\":\"white\",\"showland\":true,\"showlakes\":true,\"lakecolor\":\"white\"},\"title\":{\"x\":0.05},\"mapbox\":{\"style\":\"light\"}}},\"title\":{\"text\":\"Funciones de Votacion TP2\"}},                        {\"responsive\": true}                    ).then(function(){\n",
       "                            \n",
       "var gd = document.getElementById('17de3d4b-b73c-47b7-b6bc-2f3889c9ec1f');\n",
       "var x = new MutationObserver(function (mutations, observer) {{\n",
       "        var display = window.getComputedStyle(gd).display;\n",
       "        if (!display || display === 'none') {{\n",
       "            console.log([gd, 'removed!']);\n",
       "            Plotly.purge(gd);\n",
       "            observer.disconnect();\n",
       "        }}\n",
       "}});\n",
       "\n",
       "// Listen for the removal of the full notebook cells\n",
       "var notebookContainer = gd.closest('#notebook-container');\n",
       "if (notebookContainer) {{\n",
       "    x.observe(notebookContainer, {childList: true});\n",
       "}}\n",
       "\n",
       "// Listen for the clearing of the current output cell\n",
       "var outputEl = gd.closest('.output');\n",
       "if (outputEl) {{\n",
       "    x.observe(outputEl, {childList: true});\n",
       "}}\n",
       "\n",
       "                        })                };                });            </script>        </div>"
      ]
     },
     "metadata": {},
     "output_type": "display_data"
    }
   ],
   "source": [
    "# Graficas TP2\n",
    "index_TP2=[i for i in range(len(list_of_TP)) if len(list_of_TP[i]) == 2]\n",
    "list_TP2 = [list_of_TP[i] for i in index_TP2]\n",
    "list_voting_2=[lists_voting[i] for i in index_TP2]\n",
    "graph_voting_functions(list_voting_2,list_TP2)"
   ]
  },
  {
   "cell_type": "code",
   "execution_count": 50,
   "id": "d7154b1d-f73a-407e-9391-3224f2a8263d",
   "metadata": {},
   "outputs": [
    {
     "data": {
      "application/vnd.plotly.v1+json": {
       "config": {
        "plotlyServerURL": "https://plot.ly"
       },
       "data": [
        {
         "name": "('subsp_nebraskensis_419B', 'subsp_sepedonicus_ATCC33113', 'tessellarius_ATCC_33566')",
         "showlegend": false,
         "type": "scatter",
         "x": [
          0,
          1,
          2,
          3,
          4,
          5
         ],
         "y": [
          1,
          0.9951159951159951,
          0.9682539682539683,
          0.945054945054945,
          0.9413919413919414,
          0.8897028897028897
         ]
        },
        {
         "name": "('subsp_capsici_1101', 'insidiosus_ATCC_10253', 'subsp_michi_contigs')",
         "showlegend": false,
         "type": "scatter",
         "x": [
          0,
          1,
          2,
          3,
          4,
          5
         ],
         "y": [
          1,
          0.9621092516577202,
          0.961477739185349,
          0.957688664351121,
          0.9393748026523524,
          0.9261130407325545
         ]
        },
        {
         "marker": {
          "color": "LightSkyBlue",
          "line": {
           "color": "DarkSlateGrey",
           "width": 2
          },
          "size": 8
         },
         "mode": "markers",
         "name": "TP",
         "showlegend": false,
         "type": "scatter",
         "x": [
          5
         ],
         "y": [
          0.8897028897028897
         ]
        },
        {
         "marker": {
          "color": "LightSkyBlue",
          "line": {
           "color": "DarkSlateGrey",
           "width": 2
          },
          "size": 8
         },
         "mode": "markers",
         "name": "TP",
         "showlegend": false,
         "type": "scatter",
         "x": [
          2
         ],
         "y": [
          0.9682539682539683
         ]
        },
        {
         "marker": {
          "color": "LightSkyBlue",
          "line": {
           "color": "DarkSlateGrey",
           "width": 2
          },
          "size": 8
         },
         "mode": "markers",
         "name": "TP",
         "showlegend": false,
         "type": "scatter",
         "x": [
          3
         ],
         "y": [
          0.945054945054945
         ]
        },
        {
         "marker": {
          "color": "LightSkyBlue",
          "line": {
           "color": "DarkSlateGrey",
           "width": 2
          },
          "size": 8
         },
         "mode": "markers",
         "name": "TP",
         "showlegend": false,
         "type": "scatter",
         "x": [
          3
         ],
         "y": [
          0.957688664351121
         ]
        },
        {
         "marker": {
          "color": "LightSkyBlue",
          "line": {
           "color": "DarkSlateGrey",
           "width": 2
          },
          "size": 8
         },
         "mode": "markers",
         "name": "TP",
         "showlegend": false,
         "type": "scatter",
         "x": [
          4
         ],
         "y": [
          0.9393748026523524
         ]
        },
        {
         "marker": {
          "color": "LightSkyBlue",
          "line": {
           "color": "DarkSlateGrey",
           "width": 2
          },
          "size": 8
         },
         "mode": "markers",
         "name": "TP",
         "showlegend": false,
         "type": "scatter",
         "x": [
          0
         ],
         "y": [
          1
         ]
        }
       ],
       "layout": {
        "autosize": true,
        "template": {
         "data": {
          "bar": [
           {
            "error_x": {
             "color": "#2a3f5f"
            },
            "error_y": {
             "color": "#2a3f5f"
            },
            "marker": {
             "line": {
              "color": "#E5ECF6",
              "width": 0.5
             },
             "pattern": {
              "fillmode": "overlay",
              "size": 10,
              "solidity": 0.2
             }
            },
            "type": "bar"
           }
          ],
          "barpolar": [
           {
            "marker": {
             "line": {
              "color": "#E5ECF6",
              "width": 0.5
             },
             "pattern": {
              "fillmode": "overlay",
              "size": 10,
              "solidity": 0.2
             }
            },
            "type": "barpolar"
           }
          ],
          "carpet": [
           {
            "aaxis": {
             "endlinecolor": "#2a3f5f",
             "gridcolor": "white",
             "linecolor": "white",
             "minorgridcolor": "white",
             "startlinecolor": "#2a3f5f"
            },
            "baxis": {
             "endlinecolor": "#2a3f5f",
             "gridcolor": "white",
             "linecolor": "white",
             "minorgridcolor": "white",
             "startlinecolor": "#2a3f5f"
            },
            "type": "carpet"
           }
          ],
          "choropleth": [
           {
            "colorbar": {
             "outlinewidth": 0,
             "ticks": ""
            },
            "type": "choropleth"
           }
          ],
          "contour": [
           {
            "colorbar": {
             "outlinewidth": 0,
             "ticks": ""
            },
            "colorscale": [
             [
              0,
              "#0d0887"
             ],
             [
              0.1111111111111111,
              "#46039f"
             ],
             [
              0.2222222222222222,
              "#7201a8"
             ],
             [
              0.3333333333333333,
              "#9c179e"
             ],
             [
              0.4444444444444444,
              "#bd3786"
             ],
             [
              0.5555555555555556,
              "#d8576b"
             ],
             [
              0.6666666666666666,
              "#ed7953"
             ],
             [
              0.7777777777777778,
              "#fb9f3a"
             ],
             [
              0.8888888888888888,
              "#fdca26"
             ],
             [
              1,
              "#f0f921"
             ]
            ],
            "type": "contour"
           }
          ],
          "contourcarpet": [
           {
            "colorbar": {
             "outlinewidth": 0,
             "ticks": ""
            },
            "type": "contourcarpet"
           }
          ],
          "heatmap": [
           {
            "colorbar": {
             "outlinewidth": 0,
             "ticks": ""
            },
            "colorscale": [
             [
              0,
              "#0d0887"
             ],
             [
              0.1111111111111111,
              "#46039f"
             ],
             [
              0.2222222222222222,
              "#7201a8"
             ],
             [
              0.3333333333333333,
              "#9c179e"
             ],
             [
              0.4444444444444444,
              "#bd3786"
             ],
             [
              0.5555555555555556,
              "#d8576b"
             ],
             [
              0.6666666666666666,
              "#ed7953"
             ],
             [
              0.7777777777777778,
              "#fb9f3a"
             ],
             [
              0.8888888888888888,
              "#fdca26"
             ],
             [
              1,
              "#f0f921"
             ]
            ],
            "type": "heatmap"
           }
          ],
          "heatmapgl": [
           {
            "colorbar": {
             "outlinewidth": 0,
             "ticks": ""
            },
            "colorscale": [
             [
              0,
              "#0d0887"
             ],
             [
              0.1111111111111111,
              "#46039f"
             ],
             [
              0.2222222222222222,
              "#7201a8"
             ],
             [
              0.3333333333333333,
              "#9c179e"
             ],
             [
              0.4444444444444444,
              "#bd3786"
             ],
             [
              0.5555555555555556,
              "#d8576b"
             ],
             [
              0.6666666666666666,
              "#ed7953"
             ],
             [
              0.7777777777777778,
              "#fb9f3a"
             ],
             [
              0.8888888888888888,
              "#fdca26"
             ],
             [
              1,
              "#f0f921"
             ]
            ],
            "type": "heatmapgl"
           }
          ],
          "histogram": [
           {
            "marker": {
             "pattern": {
              "fillmode": "overlay",
              "size": 10,
              "solidity": 0.2
             }
            },
            "type": "histogram"
           }
          ],
          "histogram2d": [
           {
            "colorbar": {
             "outlinewidth": 0,
             "ticks": ""
            },
            "colorscale": [
             [
              0,
              "#0d0887"
             ],
             [
              0.1111111111111111,
              "#46039f"
             ],
             [
              0.2222222222222222,
              "#7201a8"
             ],
             [
              0.3333333333333333,
              "#9c179e"
             ],
             [
              0.4444444444444444,
              "#bd3786"
             ],
             [
              0.5555555555555556,
              "#d8576b"
             ],
             [
              0.6666666666666666,
              "#ed7953"
             ],
             [
              0.7777777777777778,
              "#fb9f3a"
             ],
             [
              0.8888888888888888,
              "#fdca26"
             ],
             [
              1,
              "#f0f921"
             ]
            ],
            "type": "histogram2d"
           }
          ],
          "histogram2dcontour": [
           {
            "colorbar": {
             "outlinewidth": 0,
             "ticks": ""
            },
            "colorscale": [
             [
              0,
              "#0d0887"
             ],
             [
              0.1111111111111111,
              "#46039f"
             ],
             [
              0.2222222222222222,
              "#7201a8"
             ],
             [
              0.3333333333333333,
              "#9c179e"
             ],
             [
              0.4444444444444444,
              "#bd3786"
             ],
             [
              0.5555555555555556,
              "#d8576b"
             ],
             [
              0.6666666666666666,
              "#ed7953"
             ],
             [
              0.7777777777777778,
              "#fb9f3a"
             ],
             [
              0.8888888888888888,
              "#fdca26"
             ],
             [
              1,
              "#f0f921"
             ]
            ],
            "type": "histogram2dcontour"
           }
          ],
          "mesh3d": [
           {
            "colorbar": {
             "outlinewidth": 0,
             "ticks": ""
            },
            "type": "mesh3d"
           }
          ],
          "parcoords": [
           {
            "line": {
             "colorbar": {
              "outlinewidth": 0,
              "ticks": ""
             }
            },
            "type": "parcoords"
           }
          ],
          "pie": [
           {
            "automargin": true,
            "type": "pie"
           }
          ],
          "scatter": [
           {
            "fillpattern": {
             "fillmode": "overlay",
             "size": 10,
             "solidity": 0.2
            },
            "type": "scatter"
           }
          ],
          "scatter3d": [
           {
            "line": {
             "colorbar": {
              "outlinewidth": 0,
              "ticks": ""
             }
            },
            "marker": {
             "colorbar": {
              "outlinewidth": 0,
              "ticks": ""
             }
            },
            "type": "scatter3d"
           }
          ],
          "scattercarpet": [
           {
            "marker": {
             "colorbar": {
              "outlinewidth": 0,
              "ticks": ""
             }
            },
            "type": "scattercarpet"
           }
          ],
          "scattergeo": [
           {
            "marker": {
             "colorbar": {
              "outlinewidth": 0,
              "ticks": ""
             }
            },
            "type": "scattergeo"
           }
          ],
          "scattergl": [
           {
            "marker": {
             "colorbar": {
              "outlinewidth": 0,
              "ticks": ""
             }
            },
            "type": "scattergl"
           }
          ],
          "scattermapbox": [
           {
            "marker": {
             "colorbar": {
              "outlinewidth": 0,
              "ticks": ""
             }
            },
            "type": "scattermapbox"
           }
          ],
          "scatterpolar": [
           {
            "marker": {
             "colorbar": {
              "outlinewidth": 0,
              "ticks": ""
             }
            },
            "type": "scatterpolar"
           }
          ],
          "scatterpolargl": [
           {
            "marker": {
             "colorbar": {
              "outlinewidth": 0,
              "ticks": ""
             }
            },
            "type": "scatterpolargl"
           }
          ],
          "scatterternary": [
           {
            "marker": {
             "colorbar": {
              "outlinewidth": 0,
              "ticks": ""
             }
            },
            "type": "scatterternary"
           }
          ],
          "surface": [
           {
            "colorbar": {
             "outlinewidth": 0,
             "ticks": ""
            },
            "colorscale": [
             [
              0,
              "#0d0887"
             ],
             [
              0.1111111111111111,
              "#46039f"
             ],
             [
              0.2222222222222222,
              "#7201a8"
             ],
             [
              0.3333333333333333,
              "#9c179e"
             ],
             [
              0.4444444444444444,
              "#bd3786"
             ],
             [
              0.5555555555555556,
              "#d8576b"
             ],
             [
              0.6666666666666666,
              "#ed7953"
             ],
             [
              0.7777777777777778,
              "#fb9f3a"
             ],
             [
              0.8888888888888888,
              "#fdca26"
             ],
             [
              1,
              "#f0f921"
             ]
            ],
            "type": "surface"
           }
          ],
          "table": [
           {
            "cells": {
             "fill": {
              "color": "#EBF0F8"
             },
             "line": {
              "color": "white"
             }
            },
            "header": {
             "fill": {
              "color": "#C8D4E3"
             },
             "line": {
              "color": "white"
             }
            },
            "type": "table"
           }
          ]
         },
         "layout": {
          "annotationdefaults": {
           "arrowcolor": "#2a3f5f",
           "arrowhead": 0,
           "arrowwidth": 1
          },
          "autotypenumbers": "strict",
          "coloraxis": {
           "colorbar": {
            "outlinewidth": 0,
            "ticks": ""
           }
          },
          "colorscale": {
           "diverging": [
            [
             0,
             "#8e0152"
            ],
            [
             0.1,
             "#c51b7d"
            ],
            [
             0.2,
             "#de77ae"
            ],
            [
             0.3,
             "#f1b6da"
            ],
            [
             0.4,
             "#fde0ef"
            ],
            [
             0.5,
             "#f7f7f7"
            ],
            [
             0.6,
             "#e6f5d0"
            ],
            [
             0.7,
             "#b8e186"
            ],
            [
             0.8,
             "#7fbc41"
            ],
            [
             0.9,
             "#4d9221"
            ],
            [
             1,
             "#276419"
            ]
           ],
           "sequential": [
            [
             0,
             "#0d0887"
            ],
            [
             0.1111111111111111,
             "#46039f"
            ],
            [
             0.2222222222222222,
             "#7201a8"
            ],
            [
             0.3333333333333333,
             "#9c179e"
            ],
            [
             0.4444444444444444,
             "#bd3786"
            ],
            [
             0.5555555555555556,
             "#d8576b"
            ],
            [
             0.6666666666666666,
             "#ed7953"
            ],
            [
             0.7777777777777778,
             "#fb9f3a"
            ],
            [
             0.8888888888888888,
             "#fdca26"
            ],
            [
             1,
             "#f0f921"
            ]
           ],
           "sequentialminus": [
            [
             0,
             "#0d0887"
            ],
            [
             0.1111111111111111,
             "#46039f"
            ],
            [
             0.2222222222222222,
             "#7201a8"
            ],
            [
             0.3333333333333333,
             "#9c179e"
            ],
            [
             0.4444444444444444,
             "#bd3786"
            ],
            [
             0.5555555555555556,
             "#d8576b"
            ],
            [
             0.6666666666666666,
             "#ed7953"
            ],
            [
             0.7777777777777778,
             "#fb9f3a"
            ],
            [
             0.8888888888888888,
             "#fdca26"
            ],
            [
             1,
             "#f0f921"
            ]
           ]
          },
          "colorway": [
           "#636efa",
           "#EF553B",
           "#00cc96",
           "#ab63fa",
           "#FFA15A",
           "#19d3f3",
           "#FF6692",
           "#B6E880",
           "#FF97FF",
           "#FECB52"
          ],
          "font": {
           "color": "#2a3f5f"
          },
          "geo": {
           "bgcolor": "white",
           "lakecolor": "white",
           "landcolor": "#E5ECF6",
           "showlakes": true,
           "showland": true,
           "subunitcolor": "white"
          },
          "hoverlabel": {
           "align": "left"
          },
          "hovermode": "closest",
          "mapbox": {
           "style": "light"
          },
          "paper_bgcolor": "white",
          "plot_bgcolor": "#E5ECF6",
          "polar": {
           "angularaxis": {
            "gridcolor": "white",
            "linecolor": "white",
            "ticks": ""
           },
           "bgcolor": "#E5ECF6",
           "radialaxis": {
            "gridcolor": "white",
            "linecolor": "white",
            "ticks": ""
           }
          },
          "scene": {
           "xaxis": {
            "backgroundcolor": "#E5ECF6",
            "gridcolor": "white",
            "gridwidth": 2,
            "linecolor": "white",
            "showbackground": true,
            "ticks": "",
            "zerolinecolor": "white"
           },
           "yaxis": {
            "backgroundcolor": "#E5ECF6",
            "gridcolor": "white",
            "gridwidth": 2,
            "linecolor": "white",
            "showbackground": true,
            "ticks": "",
            "zerolinecolor": "white"
           },
           "zaxis": {
            "backgroundcolor": "#E5ECF6",
            "gridcolor": "white",
            "gridwidth": 2,
            "linecolor": "white",
            "showbackground": true,
            "ticks": "",
            "zerolinecolor": "white"
           }
          },
          "shapedefaults": {
           "line": {
            "color": "#2a3f5f"
           }
          },
          "ternary": {
           "aaxis": {
            "gridcolor": "white",
            "linecolor": "white",
            "ticks": ""
           },
           "baxis": {
            "gridcolor": "white",
            "linecolor": "white",
            "ticks": ""
           },
           "bgcolor": "#E5ECF6",
           "caxis": {
            "gridcolor": "white",
            "linecolor": "white",
            "ticks": ""
           }
          },
          "title": {
           "x": 0.05
          },
          "xaxis": {
           "automargin": true,
           "gridcolor": "white",
           "linecolor": "white",
           "ticks": "",
           "title": {
            "standoff": 15
           },
           "zerolinecolor": "white",
           "zerolinewidth": 2
          },
          "yaxis": {
           "automargin": true,
           "gridcolor": "white",
           "linecolor": "white",
           "ticks": "",
           "title": {
            "standoff": 15
           },
           "zerolinecolor": "white",
           "zerolinewidth": 2
          }
         }
        },
        "title": {
         "text": "Funciones de Votacion TP3"
        },
        "xaxis": {
         "autorange": true,
         "range": [
          -0.3041825095057034,
          5.304182509505703
         ],
         "type": "linear"
        },
        "yaxis": {
         "autorange": true,
         "range": [
          0.879543945333419,
          1.0101589443694707
         ],
         "type": "linear"
        }
       }
      },
      "image/png": "[encoded data removed]",
      "text/html": [
       "<div>                            <div id=\"6ac1bd41-7ea2-4b46-bfcd-fc630a0bd8bd\" class=\"plotly-graph-div\" style=\"height:525px; width:100%;\"></div>            <script type=\"text/javascript\">                require([\"plotly\"], function(Plotly) {                    window.PLOTLYENV=window.PLOTLYENV || {};                                    if (document.getElementById(\"6ac1bd41-7ea2-4b46-bfcd-fc630a0bd8bd\")) {                    Plotly.newPlot(                        \"6ac1bd41-7ea2-4b46-bfcd-fc630a0bd8bd\",                        [{\"name\":\"('subsp_nebraskensis_419B', 'subsp_sepedonicus_ATCC33113', 'tessellarius_ATCC_33566')\",\"showlegend\":false,\"x\":[0,1,2,3,4,5],\"y\":[1.0,0.9951159951159951,0.9682539682539683,0.945054945054945,0.9413919413919414,0.8897028897028897],\"type\":\"scatter\"},{\"name\":\"('subsp_capsici_1101', 'insidiosus_ATCC_10253', 'subsp_michi_contigs')\",\"showlegend\":false,\"x\":[0,1,2,3,4,5],\"y\":[1.0,0.9621092516577202,0.961477739185349,0.957688664351121,0.9393748026523524,0.9261130407325545],\"type\":\"scatter\"},{\"marker\":{\"color\":\"LightSkyBlue\",\"line\":{\"color\":\"DarkSlateGrey\",\"width\":2},\"size\":8},\"mode\":\"markers\",\"name\":\"TP\",\"showlegend\":false,\"x\":[5],\"y\":[0.8897028897028897],\"type\":\"scatter\"},{\"marker\":{\"color\":\"LightSkyBlue\",\"line\":{\"color\":\"DarkSlateGrey\",\"width\":2},\"size\":8},\"mode\":\"markers\",\"name\":\"TP\",\"showlegend\":false,\"x\":[2],\"y\":[0.9682539682539683],\"type\":\"scatter\"},{\"marker\":{\"color\":\"LightSkyBlue\",\"line\":{\"color\":\"DarkSlateGrey\",\"width\":2},\"size\":8},\"mode\":\"markers\",\"name\":\"TP\",\"showlegend\":false,\"x\":[3],\"y\":[0.945054945054945],\"type\":\"scatter\"},{\"marker\":{\"color\":\"LightSkyBlue\",\"line\":{\"color\":\"DarkSlateGrey\",\"width\":2},\"size\":8},\"mode\":\"markers\",\"name\":\"TP\",\"showlegend\":false,\"x\":[3],\"y\":[0.957688664351121],\"type\":\"scatter\"},{\"marker\":{\"color\":\"LightSkyBlue\",\"line\":{\"color\":\"DarkSlateGrey\",\"width\":2},\"size\":8},\"mode\":\"markers\",\"name\":\"TP\",\"showlegend\":false,\"x\":[4],\"y\":[0.9393748026523524],\"type\":\"scatter\"},{\"marker\":{\"color\":\"LightSkyBlue\",\"line\":{\"color\":\"DarkSlateGrey\",\"width\":2},\"size\":8},\"mode\":\"markers\",\"name\":\"TP\",\"showlegend\":false,\"x\":[0],\"y\":[1.0],\"type\":\"scatter\"}],                        {\"template\":{\"data\":{\"histogram2dcontour\":[{\"type\":\"histogram2dcontour\",\"colorbar\":{\"outlinewidth\":0,\"ticks\":\"\"},\"colorscale\":[[0.0,\"#0d0887\"],[0.1111111111111111,\"#46039f\"],[0.2222222222222222,\"#7201a8\"],[0.3333333333333333,\"#9c179e\"],[0.4444444444444444,\"#bd3786\"],[0.5555555555555556,\"#d8576b\"],[0.6666666666666666,\"#ed7953\"],[0.7777777777777778,\"#fb9f3a\"],[0.8888888888888888,\"#fdca26\"],[1.0,\"#f0f921\"]]}],\"choropleth\":[{\"type\":\"choropleth\",\"colorbar\":{\"outlinewidth\":0,\"ticks\":\"\"}}],\"histogram2d\":[{\"type\":\"histogram2d\",\"colorbar\":{\"outlinewidth\":0,\"ticks\":\"\"},\"colorscale\":[[0.0,\"#0d0887\"],[0.1111111111111111,\"#46039f\"],[0.2222222222222222,\"#7201a8\"],[0.3333333333333333,\"#9c179e\"],[0.4444444444444444,\"#bd3786\"],[0.5555555555555556,\"#d8576b\"],[0.6666666666666666,\"#ed7953\"],[0.7777777777777778,\"#fb9f3a\"],[0.8888888888888888,\"#fdca26\"],[1.0,\"#f0f921\"]]}],\"heatmap\":[{\"type\":\"heatmap\",\"colorbar\":{\"outlinewidth\":0,\"ticks\":\"\"},\"colorscale\":[[0.0,\"#0d0887\"],[0.1111111111111111,\"#46039f\"],[0.2222222222222222,\"#7201a8\"],[0.3333333333333333,\"#9c179e\"],[0.4444444444444444,\"#bd3786\"],[0.5555555555555556,\"#d8576b\"],[0.6666666666666666,\"#ed7953\"],[0.7777777777777778,\"#fb9f3a\"],[0.8888888888888888,\"#fdca26\"],[1.0,\"#f0f921\"]]}],\"heatmapgl\":[{\"type\":\"heatmapgl\",\"colorbar\":{\"outlinewidth\":0,\"ticks\":\"\"},\"colorscale\":[[0.0,\"#0d0887\"],[0.1111111111111111,\"#46039f\"],[0.2222222222222222,\"#7201a8\"],[0.3333333333333333,\"#9c179e\"],[0.4444444444444444,\"#bd3786\"],[0.5555555555555556,\"#d8576b\"],[0.6666666666666666,\"#ed7953\"],[0.7777777777777778,\"#fb9f3a\"],[0.8888888888888888,\"#fdca26\"],[1.0,\"#f0f921\"]]}],\"contourcarpet\":[{\"type\":\"contourcarpet\",\"colorbar\":{\"outlinewidth\":0,\"ticks\":\"\"}}],\"contour\":[{\"type\":\"contour\",\"colorbar\":{\"outlinewidth\":0,\"ticks\":\"\"},\"colorscale\":[[0.0,\"#0d0887\"],[0.1111111111111111,\"#46039f\"],[0.2222222222222222,\"#7201a8\"],[0.3333333333333333,\"#9c179e\"],[0.4444444444444444,\"#bd3786\"],[0.5555555555555556,\"#d8576b\"],[0.6666666666666666,\"#ed7953\"],[0.7777777777777778,\"#fb9f3a\"],[0.8888888888888888,\"#fdca26\"],[1.0,\"#f0f921\"]]}],\"surface\":[{\"type\":\"surface\",\"colorbar\":{\"outlinewidth\":0,\"ticks\":\"\"},\"colorscale\":[[0.0,\"#0d0887\"],[0.1111111111111111,\"#46039f\"],[0.2222222222222222,\"#7201a8\"],[0.3333333333333333,\"#9c179e\"],[0.4444444444444444,\"#bd3786\"],[0.5555555555555556,\"#d8576b\"],[0.6666666666666666,\"#ed7953\"],[0.7777777777777778,\"#fb9f3a\"],[0.8888888888888888,\"#fdca26\"],[1.0,\"#f0f921\"]]}],\"mesh3d\":[{\"type\":\"mesh3d\",\"colorbar\":{\"outlinewidth\":0,\"ticks\":\"\"}}],\"scatter\":[{\"fillpattern\":{\"fillmode\":\"overlay\",\"size\":10,\"solidity\":0.2},\"type\":\"scatter\"}],\"parcoords\":[{\"type\":\"parcoords\",\"line\":{\"colorbar\":{\"outlinewidth\":0,\"ticks\":\"\"}}}],\"scatterpolargl\":[{\"type\":\"scatterpolargl\",\"marker\":{\"colorbar\":{\"outlinewidth\":0,\"ticks\":\"\"}}}],\"bar\":[{\"error_x\":{\"color\":\"#2a3f5f\"},\"error_y\":{\"color\":\"#2a3f5f\"},\"marker\":{\"line\":{\"color\":\"#E5ECF6\",\"width\":0.5},\"pattern\":{\"fillmode\":\"overlay\",\"size\":10,\"solidity\":0.2}},\"type\":\"bar\"}],\"scattergeo\":[{\"type\":\"scattergeo\",\"marker\":{\"colorbar\":{\"outlinewidth\":0,\"ticks\":\"\"}}}],\"scatterpolar\":[{\"type\":\"scatterpolar\",\"marker\":{\"colorbar\":{\"outlinewidth\":0,\"ticks\":\"\"}}}],\"histogram\":[{\"marker\":{\"pattern\":{\"fillmode\":\"overlay\",\"size\":10,\"solidity\":0.2}},\"type\":\"histogram\"}],\"scattergl\":[{\"type\":\"scattergl\",\"marker\":{\"colorbar\":{\"outlinewidth\":0,\"ticks\":\"\"}}}],\"scatter3d\":[{\"type\":\"scatter3d\",\"line\":{\"colorbar\":{\"outlinewidth\":0,\"ticks\":\"\"}},\"marker\":{\"colorbar\":{\"outlinewidth\":0,\"ticks\":\"\"}}}],\"scattermapbox\":[{\"type\":\"scattermapbox\",\"marker\":{\"colorbar\":{\"outlinewidth\":0,\"ticks\":\"\"}}}],\"scatterternary\":[{\"type\":\"scatterternary\",\"marker\":{\"colorbar\":{\"outlinewidth\":0,\"ticks\":\"\"}}}],\"scattercarpet\":[{\"type\":\"scattercarpet\",\"marker\":{\"colorbar\":{\"outlinewidth\":0,\"ticks\":\"\"}}}],\"carpet\":[{\"aaxis\":{\"endlinecolor\":\"#2a3f5f\",\"gridcolor\":\"white\",\"linecolor\":\"white\",\"minorgridcolor\":\"white\",\"startlinecolor\":\"#2a3f5f\"},\"baxis\":{\"endlinecolor\":\"#2a3f5f\",\"gridcolor\":\"white\",\"linecolor\":\"white\",\"minorgridcolor\":\"white\",\"startlinecolor\":\"#2a3f5f\"},\"type\":\"carpet\"}],\"table\":[{\"cells\":{\"fill\":{\"color\":\"#EBF0F8\"},\"line\":{\"color\":\"white\"}},\"header\":{\"fill\":{\"color\":\"#C8D4E3\"},\"line\":{\"color\":\"white\"}},\"type\":\"table\"}],\"barpolar\":[{\"marker\":{\"line\":{\"color\":\"#E5ECF6\",\"width\":0.5},\"pattern\":{\"fillmode\":\"overlay\",\"size\":10,\"solidity\":0.2}},\"type\":\"barpolar\"}],\"pie\":[{\"automargin\":true,\"type\":\"pie\"}]},\"layout\":{\"autotypenumbers\":\"strict\",\"colorway\":[\"#636efa\",\"#EF553B\",\"#00cc96\",\"#ab63fa\",\"#FFA15A\",\"#19d3f3\",\"#FF6692\",\"#B6E880\",\"#FF97FF\",\"#FECB52\"],\"font\":{\"color\":\"#2a3f5f\"},\"hovermode\":\"closest\",\"hoverlabel\":{\"align\":\"left\"},\"paper_bgcolor\":\"white\",\"plot_bgcolor\":\"#E5ECF6\",\"polar\":{\"bgcolor\":\"#E5ECF6\",\"angularaxis\":{\"gridcolor\":\"white\",\"linecolor\":\"white\",\"ticks\":\"\"},\"radialaxis\":{\"gridcolor\":\"white\",\"linecolor\":\"white\",\"ticks\":\"\"}},\"ternary\":{\"bgcolor\":\"#E5ECF6\",\"aaxis\":{\"gridcolor\":\"white\",\"linecolor\":\"white\",\"ticks\":\"\"},\"baxis\":{\"gridcolor\":\"white\",\"linecolor\":\"white\",\"ticks\":\"\"},\"caxis\":{\"gridcolor\":\"white\",\"linecolor\":\"white\",\"ticks\":\"\"}},\"coloraxis\":{\"colorbar\":{\"outlinewidth\":0,\"ticks\":\"\"}},\"colorscale\":{\"sequential\":[[0.0,\"#0d0887\"],[0.1111111111111111,\"#46039f\"],[0.2222222222222222,\"#7201a8\"],[0.3333333333333333,\"#9c179e\"],[0.4444444444444444,\"#bd3786\"],[0.5555555555555556,\"#d8576b\"],[0.6666666666666666,\"#ed7953\"],[0.7777777777777778,\"#fb9f3a\"],[0.8888888888888888,\"#fdca26\"],[1.0,\"#f0f921\"]],\"sequentialminus\":[[0.0,\"#0d0887\"],[0.1111111111111111,\"#46039f\"],[0.2222222222222222,\"#7201a8\"],[0.3333333333333333,\"#9c179e\"],[0.4444444444444444,\"#bd3786\"],[0.5555555555555556,\"#d8576b\"],[0.6666666666666666,\"#ed7953\"],[0.7777777777777778,\"#fb9f3a\"],[0.8888888888888888,\"#fdca26\"],[1.0,\"#f0f921\"]],\"diverging\":[[0,\"#8e0152\"],[0.1,\"#c51b7d\"],[0.2,\"#de77ae\"],[0.3,\"#f1b6da\"],[0.4,\"#fde0ef\"],[0.5,\"#f7f7f7\"],[0.6,\"#e6f5d0\"],[0.7,\"#b8e186\"],[0.8,\"#7fbc41\"],[0.9,\"#4d9221\"],[1,\"#276419\"]]},\"xaxis\":{\"gridcolor\":\"white\",\"linecolor\":\"white\",\"ticks\":\"\",\"title\":{\"standoff\":15},\"zerolinecolor\":\"white\",\"automargin\":true,\"zerolinewidth\":2},\"yaxis\":{\"gridcolor\":\"white\",\"linecolor\":\"white\",\"ticks\":\"\",\"title\":{\"standoff\":15},\"zerolinecolor\":\"white\",\"automargin\":true,\"zerolinewidth\":2},\"scene\":{\"xaxis\":{\"backgroundcolor\":\"#E5ECF6\",\"gridcolor\":\"white\",\"linecolor\":\"white\",\"showbackground\":true,\"ticks\":\"\",\"zerolinecolor\":\"white\",\"gridwidth\":2},\"yaxis\":{\"backgroundcolor\":\"#E5ECF6\",\"gridcolor\":\"white\",\"linecolor\":\"white\",\"showbackground\":true,\"ticks\":\"\",\"zerolinecolor\":\"white\",\"gridwidth\":2},\"zaxis\":{\"backgroundcolor\":\"#E5ECF6\",\"gridcolor\":\"white\",\"linecolor\":\"white\",\"showbackground\":true,\"ticks\":\"\",\"zerolinecolor\":\"white\",\"gridwidth\":2}},\"shapedefaults\":{\"line\":{\"color\":\"#2a3f5f\"}},\"annotationdefaults\":{\"arrowcolor\":\"#2a3f5f\",\"arrowhead\":0,\"arrowwidth\":1},\"geo\":{\"bgcolor\":\"white\",\"landcolor\":\"#E5ECF6\",\"subunitcolor\":\"white\",\"showland\":true,\"showlakes\":true,\"lakecolor\":\"white\"},\"title\":{\"x\":0.05},\"mapbox\":{\"style\":\"light\"}}},\"title\":{\"text\":\"Funciones de Votacion TP3\"}},                        {\"responsive\": true}                    ).then(function(){\n",
       "                            \n",
       "var gd = document.getElementById('6ac1bd41-7ea2-4b46-bfcd-fc630a0bd8bd');\n",
       "var x = new MutationObserver(function (mutations, observer) {{\n",
       "        var display = window.getComputedStyle(gd).display;\n",
       "        if (!display || display === 'none') {{\n",
       "            console.log([gd, 'removed!']);\n",
       "            Plotly.purge(gd);\n",
       "            observer.disconnect();\n",
       "        }}\n",
       "}});\n",
       "\n",
       "// Listen for the removal of the full notebook cells\n",
       "var notebookContainer = gd.closest('#notebook-container');\n",
       "if (notebookContainer) {{\n",
       "    x.observe(notebookContainer, {childList: true});\n",
       "}}\n",
       "\n",
       "// Listen for the clearing of the current output cell\n",
       "var outputEl = gd.closest('.output');\n",
       "if (outputEl) {{\n",
       "    x.observe(outputEl, {childList: true});\n",
       "}}\n",
       "\n",
       "                        })                };                });            </script>        </div>"
      ]
     },
     "metadata": {},
     "output_type": "display_data"
    }
   ],
   "source": [
    "# Graficas TP3\n",
    "index_TP3=[i for i in range(len(list_of_TP)) if len(list_of_TP[i]) == 3]\n",
    "list_TP3 = [list_of_TP[i] for i in index_TP3]\n",
    "list_voting_3=[lists_voting[i] for i in index_TP3]\n",
    "graph_voting_functions(list_voting_3,list_TP3)"
   ]
  },
  {
   "cell_type": "code",
   "execution_count": 51,
   "id": "91765445-75cc-438f-9a5a-c29998539503",
   "metadata": {},
   "outputs": [
    {
     "data": {
      "text/plain": [
       "['capsici', 'insidiosus']"
      ]
     },
     "execution_count": 51,
     "metadata": {},
     "output_type": "execute_result"
    }
   ],
   "source": [
    "getIDnames('MapeoReads-2TP_capsici-insidiosus-6organims.csv')"
   ]
  },
  {
   "cell_type": "code",
   "execution_count": 52,
   "id": "3de708f1-e80a-4462-a605-399bc3b4c4f6",
   "metadata": {},
   "outputs": [
    {
     "data": {
      "text/plain": [
       "['capsici', 'insidiosus', 'michi']"
      ]
     },
     "execution_count": 52,
     "metadata": {},
     "output_type": "execute_result"
    }
   ],
   "source": [
    "getIDnames('MapeoReads-3TP_capsici-insidiosus-michi-6organims.csv')"
   ]
  },
  {
   "cell_type": "code",
   "execution_count": 53,
   "id": "8203e8f2-d468-45d4-ba95-5b3abc4088eb",
   "metadata": {},
   "outputs": [
    {
     "data": {
      "text/plain": [
       "['insidiosus']"
      ]
     },
     "execution_count": 53,
     "metadata": {},
     "output_type": "execute_result"
    }
   ],
   "source": [
    "getIDnames('MapeoReads-TPinsidiosus-6organims.csv ')\n"
   ]
  },
  {
   "cell_type": "code",
   "execution_count": 54,
   "id": "0a16e795-6467-4bab-84d2-8a0dc9b04f9f",
   "metadata": {},
   "outputs": [
    {
     "data": {
      "text/plain": [
       "[]"
      ]
     },
     "execution_count": 54,
     "metadata": {},
     "output_type": "execute_result"
    }
   ],
   "source": [
    "getIDnames('ROM_1TP_CP019404.csv')"
   ]
  },
  {
   "cell_type": "code",
   "execution_count": 55,
   "id": "e907778b-76a4-487d-adcd-5751ada3adc0",
   "metadata": {},
   "outputs": [],
   "source": [
    "def get_name(file_string):\n",
    "    tp_list = []\n",
    "    start=file_string.find('_C')\n",
    "    end=file_string.find('.',start+1)\n",
    "    tp_list.append(file_string[start+1:end])\n",
    "    return tp_list"
   ]
  },
  {
   "cell_type": "code",
   "execution_count": 3,
   "id": "382e31c4-7dca-4879-a134-27d79bfbf68d",
   "metadata": {},
   "outputs": [
    {
     "data": {
      "text/plain": [
       "[(0,),\n",
       " (1,),\n",
       " (2,),\n",
       " (3,),\n",
       " (4,),\n",
       " (5,),\n",
       " (6,),\n",
       " (7,),\n",
       " (8,),\n",
       " (9,),\n",
       " (10,),\n",
       " (11,),\n",
       " (0, 1),\n",
       " (0, 2),\n",
       " (0, 3),\n",
       " (0, 4),\n",
       " (0, 5),\n",
       " (0, 6),\n",
       " (0, 7),\n",
       " (0, 8),\n",
       " (0, 9),\n",
       " (0, 10),\n",
       " (0, 11),\n",
       " (1, 2),\n",
       " (1, 3),\n",
       " (1, 4),\n",
       " (1, 5),\n",
       " (1, 6),\n",
       " (1, 7),\n",
       " (1, 8),\n",
       " (1, 9),\n",
       " (1, 10),\n",
       " (1, 11),\n",
       " (2, 3),\n",
       " (2, 4),\n",
       " (2, 5),\n",
       " (2, 6),\n",
       " (2, 7),\n",
       " (2, 8),\n",
       " (2, 9),\n",
       " (2, 10),\n",
       " (2, 11),\n",
       " (3, 4),\n",
       " (3, 5),\n",
       " (3, 6),\n",
       " (3, 7),\n",
       " (3, 8),\n",
       " (3, 9),\n",
       " (3, 10),\n",
       " (3, 11),\n",
       " (4, 5),\n",
       " (4, 6),\n",
       " (4, 7),\n",
       " (4, 8),\n",
       " (4, 9),\n",
       " (4, 10),\n",
       " (4, 11),\n",
       " (5, 6),\n",
       " (5, 7),\n",
       " (5, 8),\n",
       " (5, 9),\n",
       " (5, 10),\n",
       " (5, 11),\n",
       " (6, 7),\n",
       " (6, 8),\n",
       " (6, 9),\n",
       " (6, 10),\n",
       " (6, 11),\n",
       " (7, 8),\n",
       " (7, 9),\n",
       " (7, 10),\n",
       " (7, 11),\n",
       " (8, 9),\n",
       " (8, 10),\n",
       " (8, 11),\n",
       " (9, 10),\n",
       " (9, 11),\n",
       " (10, 11),\n",
       " (0, 1, 2),\n",
       " (0, 1, 3),\n",
       " (0, 1, 4),\n",
       " (0, 1, 5),\n",
       " (0, 1, 6),\n",
       " (0, 1, 7),\n",
       " (0, 1, 8),\n",
       " (0, 1, 9),\n",
       " (0, 1, 10),\n",
       " (0, 1, 11),\n",
       " (0, 2, 3),\n",
       " (0, 2, 4),\n",
       " (0, 2, 5),\n",
       " (0, 2, 6),\n",
       " (0, 2, 7),\n",
       " (0, 2, 8),\n",
       " (0, 2, 9),\n",
       " (0, 2, 10),\n",
       " (0, 2, 11),\n",
       " (0, 3, 4),\n",
       " (0, 3, 5),\n",
       " (0, 3, 6),\n",
       " (0, 3, 7),\n",
       " (0, 3, 8),\n",
       " (0, 3, 9),\n",
       " (0, 3, 10),\n",
       " (0, 3, 11),\n",
       " (0, 4, 5),\n",
       " (0, 4, 6),\n",
       " (0, 4, 7),\n",
       " (0, 4, 8),\n",
       " (0, 4, 9),\n",
       " (0, 4, 10),\n",
       " (0, 4, 11),\n",
       " (0, 5, 6),\n",
       " (0, 5, 7),\n",
       " (0, 5, 8),\n",
       " (0, 5, 9),\n",
       " (0, 5, 10),\n",
       " (0, 5, 11),\n",
       " (0, 6, 7),\n",
       " (0, 6, 8),\n",
       " (0, 6, 9),\n",
       " (0, 6, 10),\n",
       " (0, 6, 11),\n",
       " (0, 7, 8),\n",
       " (0, 7, 9),\n",
       " (0, 7, 10),\n",
       " (0, 7, 11),\n",
       " (0, 8, 9),\n",
       " (0, 8, 10),\n",
       " (0, 8, 11),\n",
       " (0, 9, 10),\n",
       " (0, 9, 11),\n",
       " (0, 10, 11),\n",
       " (1, 2, 3),\n",
       " (1, 2, 4),\n",
       " (1, 2, 5),\n",
       " (1, 2, 6),\n",
       " (1, 2, 7),\n",
       " (1, 2, 8),\n",
       " (1, 2, 9),\n",
       " (1, 2, 10),\n",
       " (1, 2, 11),\n",
       " (1, 3, 4),\n",
       " (1, 3, 5),\n",
       " (1, 3, 6),\n",
       " (1, 3, 7),\n",
       " (1, 3, 8),\n",
       " (1, 3, 9),\n",
       " (1, 3, 10),\n",
       " (1, 3, 11),\n",
       " (1, 4, 5),\n",
       " (1, 4, 6),\n",
       " (1, 4, 7),\n",
       " (1, 4, 8),\n",
       " (1, 4, 9),\n",
       " (1, 4, 10),\n",
       " (1, 4, 11),\n",
       " (1, 5, 6),\n",
       " (1, 5, 7),\n",
       " (1, 5, 8),\n",
       " (1, 5, 9),\n",
       " (1, 5, 10),\n",
       " (1, 5, 11),\n",
       " (1, 6, 7),\n",
       " (1, 6, 8),\n",
       " (1, 6, 9),\n",
       " (1, 6, 10),\n",
       " (1, 6, 11),\n",
       " (1, 7, 8),\n",
       " (1, 7, 9),\n",
       " (1, 7, 10),\n",
       " (1, 7, 11),\n",
       " (1, 8, 9),\n",
       " (1, 8, 10),\n",
       " (1, 8, 11),\n",
       " (1, 9, 10),\n",
       " (1, 9, 11),\n",
       " (1, 10, 11),\n",
       " (2, 3, 4),\n",
       " (2, 3, 5),\n",
       " (2, 3, 6),\n",
       " (2, 3, 7),\n",
       " (2, 3, 8),\n",
       " (2, 3, 9),\n",
       " (2, 3, 10),\n",
       " (2, 3, 11),\n",
       " (2, 4, 5),\n",
       " (2, 4, 6),\n",
       " (2, 4, 7),\n",
       " (2, 4, 8),\n",
       " (2, 4, 9),\n",
       " (2, 4, 10),\n",
       " (2, 4, 11),\n",
       " (2, 5, 6),\n",
       " (2, 5, 7),\n",
       " (2, 5, 8),\n",
       " (2, 5, 9),\n",
       " (2, 5, 10),\n",
       " (2, 5, 11),\n",
       " (2, 6, 7),\n",
       " (2, 6, 8),\n",
       " (2, 6, 9),\n",
       " (2, 6, 10),\n",
       " (2, 6, 11),\n",
       " (2, 7, 8),\n",
       " (2, 7, 9),\n",
       " (2, 7, 10),\n",
       " (2, 7, 11),\n",
       " (2, 8, 9),\n",
       " (2, 8, 10),\n",
       " (2, 8, 11),\n",
       " (2, 9, 10),\n",
       " (2, 9, 11),\n",
       " (2, 10, 11),\n",
       " (3, 4, 5),\n",
       " (3, 4, 6),\n",
       " (3, 4, 7),\n",
       " (3, 4, 8),\n",
       " (3, 4, 9),\n",
       " (3, 4, 10),\n",
       " (3, 4, 11),\n",
       " (3, 5, 6),\n",
       " (3, 5, 7),\n",
       " (3, 5, 8),\n",
       " (3, 5, 9),\n",
       " (3, 5, 10),\n",
       " (3, 5, 11),\n",
       " (3, 6, 7),\n",
       " (3, 6, 8),\n",
       " (3, 6, 9),\n",
       " (3, 6, 10),\n",
       " (3, 6, 11),\n",
       " (3, 7, 8),\n",
       " (3, 7, 9),\n",
       " (3, 7, 10),\n",
       " (3, 7, 11),\n",
       " (3, 8, 9),\n",
       " (3, 8, 10),\n",
       " (3, 8, 11),\n",
       " (3, 9, 10),\n",
       " (3, 9, 11),\n",
       " (3, 10, 11),\n",
       " (4, 5, 6),\n",
       " (4, 5, 7),\n",
       " (4, 5, 8),\n",
       " (4, 5, 9),\n",
       " (4, 5, 10),\n",
       " (4, 5, 11),\n",
       " (4, 6, 7),\n",
       " (4, 6, 8),\n",
       " (4, 6, 9),\n",
       " (4, 6, 10),\n",
       " (4, 6, 11),\n",
       " (4, 7, 8),\n",
       " (4, 7, 9),\n",
       " (4, 7, 10),\n",
       " (4, 7, 11),\n",
       " (4, 8, 9),\n",
       " (4, 8, 10),\n",
       " (4, 8, 11),\n",
       " (4, 9, 10),\n",
       " (4, 9, 11),\n",
       " (4, 10, 11),\n",
       " (5, 6, 7),\n",
       " (5, 6, 8),\n",
       " (5, 6, 9),\n",
       " (5, 6, 10),\n",
       " (5, 6, 11),\n",
       " (5, 7, 8),\n",
       " (5, 7, 9),\n",
       " (5, 7, 10),\n",
       " (5, 7, 11),\n",
       " (5, 8, 9),\n",
       " (5, 8, 10),\n",
       " (5, 8, 11),\n",
       " (5, 9, 10),\n",
       " (5, 9, 11),\n",
       " (5, 10, 11),\n",
       " (6, 7, 8),\n",
       " (6, 7, 9),\n",
       " (6, 7, 10),\n",
       " (6, 7, 11),\n",
       " (6, 8, 9),\n",
       " (6, 8, 10),\n",
       " (6, 8, 11),\n",
       " (6, 9, 10),\n",
       " (6, 9, 11),\n",
       " (6, 10, 11),\n",
       " (7, 8, 9),\n",
       " (7, 8, 10),\n",
       " (7, 8, 11),\n",
       " (7, 9, 10),\n",
       " (7, 9, 11),\n",
       " (7, 10, 11),\n",
       " (8, 9, 10),\n",
       " (8, 9, 11),\n",
       " (8, 10, 11),\n",
       " (9, 10, 11),\n",
       " (0, 1, 2, 3),\n",
       " (0, 1, 2, 4),\n",
       " (0, 1, 2, 5),\n",
       " (0, 1, 2, 6),\n",
       " (0, 1, 2, 7),\n",
       " (0, 1, 2, 8),\n",
       " (0, 1, 2, 9),\n",
       " (0, 1, 2, 10),\n",
       " (0, 1, 2, 11),\n",
       " (0, 1, 3, 4),\n",
       " (0, 1, 3, 5),\n",
       " (0, 1, 3, 6),\n",
       " (0, 1, 3, 7),\n",
       " (0, 1, 3, 8),\n",
       " (0, 1, 3, 9),\n",
       " (0, 1, 3, 10),\n",
       " (0, 1, 3, 11),\n",
       " (0, 1, 4, 5),\n",
       " (0, 1, 4, 6),\n",
       " (0, 1, 4, 7),\n",
       " (0, 1, 4, 8),\n",
       " (0, 1, 4, 9),\n",
       " (0, 1, 4, 10),\n",
       " (0, 1, 4, 11),\n",
       " (0, 1, 5, 6),\n",
       " (0, 1, 5, 7),\n",
       " (0, 1, 5, 8),\n",
       " (0, 1, 5, 9),\n",
       " (0, 1, 5, 10),\n",
       " (0, 1, 5, 11),\n",
       " (0, 1, 6, 7),\n",
       " (0, 1, 6, 8),\n",
       " (0, 1, 6, 9),\n",
       " (0, 1, 6, 10),\n",
       " (0, 1, 6, 11),\n",
       " (0, 1, 7, 8),\n",
       " (0, 1, 7, 9),\n",
       " (0, 1, 7, 10),\n",
       " (0, 1, 7, 11),\n",
       " (0, 1, 8, 9),\n",
       " (0, 1, 8, 10),\n",
       " (0, 1, 8, 11),\n",
       " (0, 1, 9, 10),\n",
       " (0, 1, 9, 11),\n",
       " (0, 1, 10, 11),\n",
       " (0, 2, 3, 4),\n",
       " (0, 2, 3, 5),\n",
       " (0, 2, 3, 6),\n",
       " (0, 2, 3, 7),\n",
       " (0, 2, 3, 8),\n",
       " (0, 2, 3, 9),\n",
       " (0, 2, 3, 10),\n",
       " (0, 2, 3, 11),\n",
       " (0, 2, 4, 5),\n",
       " (0, 2, 4, 6),\n",
       " (0, 2, 4, 7),\n",
       " (0, 2, 4, 8),\n",
       " (0, 2, 4, 9),\n",
       " (0, 2, 4, 10),\n",
       " (0, 2, 4, 11),\n",
       " (0, 2, 5, 6),\n",
       " (0, 2, 5, 7),\n",
       " (0, 2, 5, 8),\n",
       " (0, 2, 5, 9),\n",
       " (0, 2, 5, 10),\n",
       " (0, 2, 5, 11),\n",
       " (0, 2, 6, 7),\n",
       " (0, 2, 6, 8),\n",
       " (0, 2, 6, 9),\n",
       " (0, 2, 6, 10),\n",
       " (0, 2, 6, 11),\n",
       " (0, 2, 7, 8),\n",
       " (0, 2, 7, 9),\n",
       " (0, 2, 7, 10),\n",
       " (0, 2, 7, 11),\n",
       " (0, 2, 8, 9),\n",
       " (0, 2, 8, 10),\n",
       " (0, 2, 8, 11),\n",
       " (0, 2, 9, 10),\n",
       " (0, 2, 9, 11),\n",
       " (0, 2, 10, 11),\n",
       " (0, 3, 4, 5),\n",
       " (0, 3, 4, 6),\n",
       " (0, 3, 4, 7),\n",
       " (0, 3, 4, 8),\n",
       " (0, 3, 4, 9),\n",
       " (0, 3, 4, 10),\n",
       " (0, 3, 4, 11),\n",
       " (0, 3, 5, 6),\n",
       " (0, 3, 5, 7),\n",
       " (0, 3, 5, 8),\n",
       " (0, 3, 5, 9),\n",
       " (0, 3, 5, 10),\n",
       " (0, 3, 5, 11),\n",
       " (0, 3, 6, 7),\n",
       " (0, 3, 6, 8),\n",
       " (0, 3, 6, 9),\n",
       " (0, 3, 6, 10),\n",
       " (0, 3, 6, 11),\n",
       " (0, 3, 7, 8),\n",
       " (0, 3, 7, 9),\n",
       " (0, 3, 7, 10),\n",
       " (0, 3, 7, 11),\n",
       " (0, 3, 8, 9),\n",
       " (0, 3, 8, 10),\n",
       " (0, 3, 8, 11),\n",
       " (0, 3, 9, 10),\n",
       " (0, 3, 9, 11),\n",
       " (0, 3, 10, 11),\n",
       " (0, 4, 5, 6),\n",
       " (0, 4, 5, 7),\n",
       " (0, 4, 5, 8),\n",
       " (0, 4, 5, 9),\n",
       " (0, 4, 5, 10),\n",
       " (0, 4, 5, 11),\n",
       " (0, 4, 6, 7),\n",
       " (0, 4, 6, 8),\n",
       " (0, 4, 6, 9),\n",
       " (0, 4, 6, 10),\n",
       " (0, 4, 6, 11),\n",
       " (0, 4, 7, 8),\n",
       " (0, 4, 7, 9),\n",
       " (0, 4, 7, 10),\n",
       " (0, 4, 7, 11),\n",
       " (0, 4, 8, 9),\n",
       " (0, 4, 8, 10),\n",
       " (0, 4, 8, 11),\n",
       " (0, 4, 9, 10),\n",
       " (0, 4, 9, 11),\n",
       " (0, 4, 10, 11),\n",
       " (0, 5, 6, 7),\n",
       " (0, 5, 6, 8),\n",
       " (0, 5, 6, 9),\n",
       " (0, 5, 6, 10),\n",
       " (0, 5, 6, 11),\n",
       " (0, 5, 7, 8),\n",
       " (0, 5, 7, 9),\n",
       " (0, 5, 7, 10),\n",
       " (0, 5, 7, 11),\n",
       " (0, 5, 8, 9),\n",
       " (0, 5, 8, 10),\n",
       " (0, 5, 8, 11),\n",
       " (0, 5, 9, 10),\n",
       " (0, 5, 9, 11),\n",
       " (0, 5, 10, 11),\n",
       " (0, 6, 7, 8),\n",
       " (0, 6, 7, 9),\n",
       " (0, 6, 7, 10),\n",
       " (0, 6, 7, 11),\n",
       " (0, 6, 8, 9),\n",
       " (0, 6, 8, 10),\n",
       " (0, 6, 8, 11),\n",
       " (0, 6, 9, 10),\n",
       " (0, 6, 9, 11),\n",
       " (0, 6, 10, 11),\n",
       " (0, 7, 8, 9),\n",
       " (0, 7, 8, 10),\n",
       " (0, 7, 8, 11),\n",
       " (0, 7, 9, 10),\n",
       " (0, 7, 9, 11),\n",
       " (0, 7, 10, 11),\n",
       " (0, 8, 9, 10),\n",
       " (0, 8, 9, 11),\n",
       " (0, 8, 10, 11),\n",
       " (0, 9, 10, 11),\n",
       " (1, 2, 3, 4),\n",
       " (1, 2, 3, 5),\n",
       " (1, 2, 3, 6),\n",
       " (1, 2, 3, 7),\n",
       " (1, 2, 3, 8),\n",
       " (1, 2, 3, 9),\n",
       " (1, 2, 3, 10),\n",
       " (1, 2, 3, 11),\n",
       " (1, 2, 4, 5),\n",
       " (1, 2, 4, 6),\n",
       " (1, 2, 4, 7),\n",
       " (1, 2, 4, 8),\n",
       " (1, 2, 4, 9),\n",
       " (1, 2, 4, 10),\n",
       " (1, 2, 4, 11),\n",
       " (1, 2, 5, 6),\n",
       " (1, 2, 5, 7),\n",
       " (1, 2, 5, 8),\n",
       " (1, 2, 5, 9),\n",
       " (1, 2, 5, 10),\n",
       " (1, 2, 5, 11),\n",
       " (1, 2, 6, 7),\n",
       " (1, 2, 6, 8),\n",
       " (1, 2, 6, 9),\n",
       " (1, 2, 6, 10),\n",
       " (1, 2, 6, 11),\n",
       " (1, 2, 7, 8),\n",
       " (1, 2, 7, 9),\n",
       " (1, 2, 7, 10),\n",
       " (1, 2, 7, 11),\n",
       " (1, 2, 8, 9),\n",
       " (1, 2, 8, 10),\n",
       " (1, 2, 8, 11),\n",
       " (1, 2, 9, 10),\n",
       " (1, 2, 9, 11),\n",
       " (1, 2, 10, 11),\n",
       " (1, 3, 4, 5),\n",
       " (1, 3, 4, 6),\n",
       " (1, 3, 4, 7),\n",
       " (1, 3, 4, 8),\n",
       " (1, 3, 4, 9),\n",
       " (1, 3, 4, 10),\n",
       " (1, 3, 4, 11),\n",
       " (1, 3, 5, 6),\n",
       " (1, 3, 5, 7),\n",
       " (1, 3, 5, 8),\n",
       " (1, 3, 5, 9),\n",
       " (1, 3, 5, 10),\n",
       " (1, 3, 5, 11),\n",
       " (1, 3, 6, 7),\n",
       " (1, 3, 6, 8),\n",
       " (1, 3, 6, 9),\n",
       " (1, 3, 6, 10),\n",
       " (1, 3, 6, 11),\n",
       " (1, 3, 7, 8),\n",
       " (1, 3, 7, 9),\n",
       " (1, 3, 7, 10),\n",
       " (1, 3, 7, 11),\n",
       " (1, 3, 8, 9),\n",
       " (1, 3, 8, 10),\n",
       " (1, 3, 8, 11),\n",
       " (1, 3, 9, 10),\n",
       " (1, 3, 9, 11),\n",
       " (1, 3, 10, 11),\n",
       " (1, 4, 5, 6),\n",
       " (1, 4, 5, 7),\n",
       " (1, 4, 5, 8),\n",
       " (1, 4, 5, 9),\n",
       " (1, 4, 5, 10),\n",
       " (1, 4, 5, 11),\n",
       " (1, 4, 6, 7),\n",
       " (1, 4, 6, 8),\n",
       " (1, 4, 6, 9),\n",
       " (1, 4, 6, 10),\n",
       " (1, 4, 6, 11),\n",
       " (1, 4, 7, 8),\n",
       " (1, 4, 7, 9),\n",
       " (1, 4, 7, 10),\n",
       " (1, 4, 7, 11),\n",
       " (1, 4, 8, 9),\n",
       " (1, 4, 8, 10),\n",
       " (1, 4, 8, 11),\n",
       " (1, 4, 9, 10),\n",
       " (1, 4, 9, 11),\n",
       " (1, 4, 10, 11),\n",
       " (1, 5, 6, 7),\n",
       " (1, 5, 6, 8),\n",
       " (1, 5, 6, 9),\n",
       " (1, 5, 6, 10),\n",
       " (1, 5, 6, 11),\n",
       " (1, 5, 7, 8),\n",
       " (1, 5, 7, 9),\n",
       " (1, 5, 7, 10),\n",
       " (1, 5, 7, 11),\n",
       " (1, 5, 8, 9),\n",
       " (1, 5, 8, 10),\n",
       " (1, 5, 8, 11),\n",
       " (1, 5, 9, 10),\n",
       " (1, 5, 9, 11),\n",
       " (1, 5, 10, 11),\n",
       " (1, 6, 7, 8),\n",
       " (1, 6, 7, 9),\n",
       " (1, 6, 7, 10),\n",
       " (1, 6, 7, 11),\n",
       " (1, 6, 8, 9),\n",
       " (1, 6, 8, 10),\n",
       " (1, 6, 8, 11),\n",
       " (1, 6, 9, 10),\n",
       " (1, 6, 9, 11),\n",
       " (1, 6, 10, 11),\n",
       " (1, 7, 8, 9),\n",
       " (1, 7, 8, 10),\n",
       " (1, 7, 8, 11),\n",
       " (1, 7, 9, 10),\n",
       " (1, 7, 9, 11),\n",
       " (1, 7, 10, 11),\n",
       " (1, 8, 9, 10),\n",
       " (1, 8, 9, 11),\n",
       " (1, 8, 10, 11),\n",
       " (1, 9, 10, 11),\n",
       " (2, 3, 4, 5),\n",
       " (2, 3, 4, 6),\n",
       " (2, 3, 4, 7),\n",
       " (2, 3, 4, 8),\n",
       " (2, 3, 4, 9),\n",
       " (2, 3, 4, 10),\n",
       " (2, 3, 4, 11),\n",
       " (2, 3, 5, 6),\n",
       " (2, 3, 5, 7),\n",
       " (2, 3, 5, 8),\n",
       " (2, 3, 5, 9),\n",
       " (2, 3, 5, 10),\n",
       " (2, 3, 5, 11),\n",
       " (2, 3, 6, 7),\n",
       " (2, 3, 6, 8),\n",
       " (2, 3, 6, 9),\n",
       " (2, 3, 6, 10),\n",
       " (2, 3, 6, 11),\n",
       " (2, 3, 7, 8),\n",
       " (2, 3, 7, 9),\n",
       " (2, 3, 7, 10),\n",
       " (2, 3, 7, 11),\n",
       " (2, 3, 8, 9),\n",
       " (2, 3, 8, 10),\n",
       " (2, 3, 8, 11),\n",
       " (2, 3, 9, 10),\n",
       " (2, 3, 9, 11),\n",
       " (2, 3, 10, 11),\n",
       " (2, 4, 5, 6),\n",
       " (2, 4, 5, 7),\n",
       " (2, 4, 5, 8),\n",
       " (2, 4, 5, 9),\n",
       " (2, 4, 5, 10),\n",
       " (2, 4, 5, 11),\n",
       " (2, 4, 6, 7),\n",
       " (2, 4, 6, 8),\n",
       " (2, 4, 6, 9),\n",
       " (2, 4, 6, 10),\n",
       " (2, 4, 6, 11),\n",
       " (2, 4, 7, 8),\n",
       " (2, 4, 7, 9),\n",
       " (2, 4, 7, 10),\n",
       " (2, 4, 7, 11),\n",
       " (2, 4, 8, 9),\n",
       " (2, 4, 8, 10),\n",
       " (2, 4, 8, 11),\n",
       " (2, 4, 9, 10),\n",
       " (2, 4, 9, 11),\n",
       " (2, 4, 10, 11),\n",
       " (2, 5, 6, 7),\n",
       " (2, 5, 6, 8),\n",
       " (2, 5, 6, 9),\n",
       " (2, 5, 6, 10),\n",
       " (2, 5, 6, 11),\n",
       " (2, 5, 7, 8),\n",
       " (2, 5, 7, 9),\n",
       " (2, 5, 7, 10),\n",
       " (2, 5, 7, 11),\n",
       " (2, 5, 8, 9),\n",
       " (2, 5, 8, 10),\n",
       " (2, 5, 8, 11),\n",
       " (2, 5, 9, 10),\n",
       " (2, 5, 9, 11),\n",
       " (2, 5, 10, 11),\n",
       " (2, 6, 7, 8),\n",
       " (2, 6, 7, 9),\n",
       " (2, 6, 7, 10),\n",
       " (2, 6, 7, 11),\n",
       " (2, 6, 8, 9),\n",
       " (2, 6, 8, 10),\n",
       " (2, 6, 8, 11),\n",
       " (2, 6, 9, 10),\n",
       " (2, 6, 9, 11),\n",
       " (2, 6, 10, 11),\n",
       " (2, 7, 8, 9),\n",
       " (2, 7, 8, 10),\n",
       " (2, 7, 8, 11),\n",
       " (2, 7, 9, 10),\n",
       " (2, 7, 9, 11),\n",
       " (2, 7, 10, 11),\n",
       " (2, 8, 9, 10),\n",
       " (2, 8, 9, 11),\n",
       " (2, 8, 10, 11),\n",
       " (2, 9, 10, 11),\n",
       " (3, 4, 5, 6),\n",
       " (3, 4, 5, 7),\n",
       " (3, 4, 5, 8),\n",
       " (3, 4, 5, 9),\n",
       " (3, 4, 5, 10),\n",
       " (3, 4, 5, 11),\n",
       " (3, 4, 6, 7),\n",
       " (3, 4, 6, 8),\n",
       " (3, 4, 6, 9),\n",
       " (3, 4, 6, 10),\n",
       " (3, 4, 6, 11),\n",
       " (3, 4, 7, 8),\n",
       " (3, 4, 7, 9),\n",
       " (3, 4, 7, 10),\n",
       " (3, 4, 7, 11),\n",
       " (3, 4, 8, 9),\n",
       " (3, 4, 8, 10),\n",
       " (3, 4, 8, 11),\n",
       " (3, 4, 9, 10),\n",
       " (3, 4, 9, 11),\n",
       " (3, 4, 10, 11),\n",
       " (3, 5, 6, 7),\n",
       " (3, 5, 6, 8),\n",
       " (3, 5, 6, 9),\n",
       " (3, 5, 6, 10),\n",
       " (3, 5, 6, 11),\n",
       " (3, 5, 7, 8),\n",
       " (3, 5, 7, 9),\n",
       " (3, 5, 7, 10),\n",
       " (3, 5, 7, 11),\n",
       " (3, 5, 8, 9),\n",
       " (3, 5, 8, 10),\n",
       " (3, 5, 8, 11),\n",
       " (3, 5, 9, 10),\n",
       " (3, 5, 9, 11),\n",
       " (3, 5, 10, 11),\n",
       " (3, 6, 7, 8),\n",
       " (3, 6, 7, 9),\n",
       " (3, 6, 7, 10),\n",
       " (3, 6, 7, 11),\n",
       " (3, 6, 8, 9),\n",
       " (3, 6, 8, 10),\n",
       " (3, 6, 8, 11),\n",
       " (3, 6, 9, 10),\n",
       " (3, 6, 9, 11),\n",
       " (3, 6, 10, 11),\n",
       " (3, 7, 8, 9),\n",
       " (3, 7, 8, 10),\n",
       " (3, 7, 8, 11),\n",
       " (3, 7, 9, 10),\n",
       " (3, 7, 9, 11),\n",
       " (3, 7, 10, 11),\n",
       " (3, 8, 9, 10),\n",
       " (3, 8, 9, 11),\n",
       " (3, 8, 10, 11),\n",
       " (3, 9, 10, 11),\n",
       " (4, 5, 6, 7),\n",
       " (4, 5, 6, 8),\n",
       " (4, 5, 6, 9),\n",
       " (4, 5, 6, 10),\n",
       " (4, 5, 6, 11),\n",
       " (4, 5, 7, 8),\n",
       " (4, 5, 7, 9),\n",
       " (4, 5, 7, 10),\n",
       " (4, 5, 7, 11),\n",
       " (4, 5, 8, 9),\n",
       " (4, 5, 8, 10),\n",
       " (4, 5, 8, 11),\n",
       " (4, 5, 9, 10),\n",
       " (4, 5, 9, 11),\n",
       " (4, 5, 10, 11),\n",
       " (4, 6, 7, 8),\n",
       " (4, 6, 7, 9),\n",
       " (4, 6, 7, 10),\n",
       " (4, 6, 7, 11),\n",
       " (4, 6, 8, 9),\n",
       " (4, 6, 8, 10),\n",
       " (4, 6, 8, 11),\n",
       " (4, 6, 9, 10),\n",
       " (4, 6, 9, 11),\n",
       " (4, 6, 10, 11),\n",
       " (4, 7, 8, 9),\n",
       " (4, 7, 8, 10),\n",
       " (4, 7, 8, 11),\n",
       " (4, 7, 9, 10),\n",
       " (4, 7, 9, 11),\n",
       " (4, 7, 10, 11),\n",
       " (4, 8, 9, 10),\n",
       " (4, 8, 9, 11),\n",
       " (4, 8, 10, 11),\n",
       " (4, 9, 10, 11),\n",
       " (5, 6, 7, 8),\n",
       " (5, 6, 7, 9),\n",
       " (5, 6, 7, 10),\n",
       " (5, 6, 7, 11),\n",
       " (5, 6, 8, 9),\n",
       " (5, 6, 8, 10),\n",
       " (5, 6, 8, 11),\n",
       " (5, 6, 9, 10),\n",
       " (5, 6, 9, 11),\n",
       " (5, 6, 10, 11),\n",
       " (5, 7, 8, 9),\n",
       " (5, 7, 8, 10),\n",
       " (5, 7, 8, 11),\n",
       " (5, 7, 9, 10),\n",
       " (5, 7, 9, 11),\n",
       " (5, 7, 10, 11),\n",
       " (5, 8, 9, 10),\n",
       " (5, 8, 9, 11),\n",
       " (5, 8, 10, 11),\n",
       " (5, 9, 10, 11),\n",
       " (6, 7, 8, 9),\n",
       " (6, 7, 8, 10),\n",
       " (6, 7, 8, 11),\n",
       " (6, 7, 9, 10),\n",
       " (6, 7, 9, 11),\n",
       " (6, 7, 10, 11),\n",
       " (6, 8, 9, 10),\n",
       " (6, 8, 9, 11),\n",
       " (6, 8, 10, 11),\n",
       " (6, 9, 10, 11),\n",
       " (7, 8, 9, 10),\n",
       " (7, 8, 9, 11),\n",
       " (7, 8, 10, 11),\n",
       " (7, 9, 10, 11),\n",
       " (8, 9, 10, 11),\n",
       " (0, 1, 2, 3, 4),\n",
       " (0, 1, 2, 3, 5),\n",
       " (0, 1, 2, 3, 6),\n",
       " (0, 1, 2, 3, 7),\n",
       " (0, 1, 2, 3, 8),\n",
       " (0, 1, 2, 3, 9),\n",
       " (0, 1, 2, 3, 10),\n",
       " (0, 1, 2, 3, 11),\n",
       " (0, 1, 2, 4, 5),\n",
       " (0, 1, 2, 4, 6),\n",
       " (0, 1, 2, 4, 7),\n",
       " (0, 1, 2, 4, 8),\n",
       " (0, 1, 2, 4, 9),\n",
       " (0, 1, 2, 4, 10),\n",
       " (0, 1, 2, 4, 11),\n",
       " (0, 1, 2, 5, 6),\n",
       " (0, 1, 2, 5, 7),\n",
       " (0, 1, 2, 5, 8),\n",
       " (0, 1, 2, 5, 9),\n",
       " (0, 1, 2, 5, 10),\n",
       " (0, 1, 2, 5, 11),\n",
       " (0, 1, 2, 6, 7),\n",
       " (0, 1, 2, 6, 8),\n",
       " (0, 1, 2, 6, 9),\n",
       " (0, 1, 2, 6, 10),\n",
       " (0, 1, 2, 6, 11),\n",
       " (0, 1, 2, 7, 8),\n",
       " (0, 1, 2, 7, 9),\n",
       " (0, 1, 2, 7, 10),\n",
       " (0, 1, 2, 7, 11),\n",
       " (0, 1, 2, 8, 9),\n",
       " (0, 1, 2, 8, 10),\n",
       " (0, 1, 2, 8, 11),\n",
       " (0, 1, 2, 9, 10),\n",
       " (0, 1, 2, 9, 11),\n",
       " (0, 1, 2, 10, 11),\n",
       " (0, 1, 3, 4, 5),\n",
       " (0, 1, 3, 4, 6),\n",
       " (0, 1, 3, 4, 7),\n",
       " (0, 1, 3, 4, 8),\n",
       " (0, 1, 3, 4, 9),\n",
       " (0, 1, 3, 4, 10),\n",
       " (0, 1, 3, 4, 11),\n",
       " (0, 1, 3, 5, 6),\n",
       " (0, 1, 3, 5, 7),\n",
       " (0, 1, 3, 5, 8),\n",
       " (0, 1, 3, 5, 9),\n",
       " (0, 1, 3, 5, 10),\n",
       " (0, 1, 3, 5, 11),\n",
       " (0, 1, 3, 6, 7),\n",
       " (0, 1, 3, 6, 8),\n",
       " (0, 1, 3, 6, 9),\n",
       " (0, 1, 3, 6, 10),\n",
       " (0, 1, 3, 6, 11),\n",
       " (0, 1, 3, 7, 8),\n",
       " (0, 1, 3, 7, 9),\n",
       " (0, 1, 3, 7, 10),\n",
       " (0, 1, 3, 7, 11),\n",
       " (0, 1, 3, 8, 9),\n",
       " (0, 1, 3, 8, 10),\n",
       " (0, 1, 3, 8, 11),\n",
       " (0, 1, 3, 9, 10),\n",
       " (0, 1, 3, 9, 11),\n",
       " (0, 1, 3, 10, 11),\n",
       " (0, 1, 4, 5, 6),\n",
       " (0, 1, 4, 5, 7),\n",
       " (0, 1, 4, 5, 8),\n",
       " (0, 1, 4, 5, 9),\n",
       " (0, 1, 4, 5, 10),\n",
       " (0, 1, 4, 5, 11),\n",
       " (0, 1, 4, 6, 7),\n",
       " (0, 1, 4, 6, 8),\n",
       " (0, 1, 4, 6, 9),\n",
       " (0, 1, 4, 6, 10),\n",
       " (0, 1, 4, 6, 11),\n",
       " (0, 1, 4, 7, 8),\n",
       " (0, 1, 4, 7, 9),\n",
       " (0, 1, 4, 7, 10),\n",
       " (0, 1, 4, 7, 11),\n",
       " (0, 1, 4, 8, 9),\n",
       " (0, 1, 4, 8, 10),\n",
       " (0, 1, 4, 8, 11),\n",
       " (0, 1, 4, 9, 10),\n",
       " (0, 1, 4, 9, 11),\n",
       " (0, 1, 4, 10, 11),\n",
       " (0, 1, 5, 6, 7),\n",
       " (0, 1, 5, 6, 8),\n",
       " (0, 1, 5, 6, 9),\n",
       " (0, 1, 5, 6, 10),\n",
       " (0, 1, 5, 6, 11),\n",
       " (0, 1, 5, 7, 8),\n",
       " (0, 1, 5, 7, 9),\n",
       " (0, 1, 5, 7, 10),\n",
       " (0, 1, 5, 7, 11),\n",
       " (0, 1, 5, 8, 9),\n",
       " (0, 1, 5, 8, 10),\n",
       " (0, 1, 5, 8, 11),\n",
       " (0, 1, 5, 9, 10),\n",
       " (0, 1, 5, 9, 11),\n",
       " (0, 1, 5, 10, 11),\n",
       " (0, 1, 6, 7, 8),\n",
       " (0, 1, 6, 7, 9),\n",
       " (0, 1, 6, 7, 10),\n",
       " (0, 1, 6, 7, 11),\n",
       " (0, 1, 6, 8, 9),\n",
       " (0, 1, 6, 8, 10),\n",
       " (0, 1, 6, 8, 11),\n",
       " (0, 1, 6, 9, 10),\n",
       " (0, 1, 6, 9, 11),\n",
       " (0, 1, 6, 10, 11),\n",
       " (0, 1, 7, 8, 9),\n",
       " (0, 1, 7, 8, 10),\n",
       " (0, 1, 7, 8, 11),\n",
       " (0, 1, 7, 9, 10),\n",
       " (0, 1, 7, 9, 11),\n",
       " (0, 1, 7, 10, 11),\n",
       " (0, 1, 8, 9, 10),\n",
       " (0, 1, 8, 9, 11),\n",
       " (0, 1, 8, 10, 11),\n",
       " (0, 1, 9, 10, 11),\n",
       " (0, 2, 3, 4, 5),\n",
       " (0, 2, 3, 4, 6),\n",
       " (0, 2, 3, 4, 7),\n",
       " (0, 2, 3, 4, 8),\n",
       " (0, 2, 3, 4, 9),\n",
       " (0, 2, 3, 4, 10),\n",
       " (0, 2, 3, 4, 11),\n",
       " (0, 2, 3, 5, 6),\n",
       " (0, 2, 3, 5, 7),\n",
       " (0, 2, 3, 5, 8),\n",
       " (0, 2, 3, 5, 9),\n",
       " (0, 2, 3, 5, 10),\n",
       " (0, 2, 3, 5, 11),\n",
       " (0, 2, 3, 6, 7),\n",
       " (0, 2, 3, 6, 8),\n",
       " (0, 2, 3, 6, 9),\n",
       " (0, 2, 3, 6, 10),\n",
       " (0, 2, 3, 6, 11),\n",
       " (0, 2, 3, 7, 8),\n",
       " (0, 2, 3, 7, 9),\n",
       " (0, 2, 3, 7, 10),\n",
       " (0, 2, 3, 7, 11),\n",
       " (0, 2, 3, 8, 9),\n",
       " (0, 2, 3, 8, 10),\n",
       " (0, 2, 3, 8, 11),\n",
       " (0, 2, 3, 9, 10),\n",
       " (0, 2, 3, 9, 11),\n",
       " (0, 2, 3, 10, 11),\n",
       " (0, 2, 4, 5, 6),\n",
       " (0, 2, 4, 5, 7),\n",
       " (0, 2, 4, 5, 8),\n",
       " (0, 2, 4, 5, 9),\n",
       " (0, 2, 4, 5, 10),\n",
       " (0, 2, 4, 5, 11),\n",
       " (0, 2, 4, 6, 7),\n",
       " (0, 2, 4, 6, 8),\n",
       " (0, 2, 4, 6, 9),\n",
       " (0, 2, 4, 6, 10),\n",
       " (0, 2, 4, 6, 11),\n",
       " (0, 2, 4, 7, 8),\n",
       " (0, 2, 4, 7, 9),\n",
       " (0, 2, 4, 7, 10),\n",
       " (0, 2, 4, 7, 11),\n",
       " (0, 2, 4, 8, 9),\n",
       " (0, 2, 4, 8, 10),\n",
       " (0, 2, 4, 8, 11),\n",
       " (0, 2, 4, 9, 10),\n",
       " (0, 2, 4, 9, 11),\n",
       " (0, 2, 4, 10, 11),\n",
       " (0, 2, 5, 6, 7),\n",
       " (0, 2, 5, 6, 8),\n",
       " (0, 2, 5, 6, 9),\n",
       " (0, 2, 5, 6, 10),\n",
       " (0, 2, 5, 6, 11),\n",
       " (0, 2, 5, 7, 8),\n",
       " (0, 2, 5, 7, 9),\n",
       " (0, 2, 5, 7, 10),\n",
       " (0, 2, 5, 7, 11),\n",
       " (0, 2, 5, 8, 9),\n",
       " (0, 2, 5, 8, 10),\n",
       " (0, 2, 5, 8, 11),\n",
       " (0, 2, 5, 9, 10),\n",
       " (0, 2, 5, 9, 11),\n",
       " (0, 2, 5, 10, 11),\n",
       " (0, 2, 6, 7, 8),\n",
       " (0, 2, 6, 7, 9),\n",
       " (0, 2, 6, 7, 10),\n",
       " (0, 2, 6, 7, 11),\n",
       " (0, 2, 6, 8, 9),\n",
       " (0, 2, 6, 8, 10),\n",
       " (0, 2, 6, 8, 11),\n",
       " (0, 2, 6, 9, 10),\n",
       " (0, 2, 6, 9, 11),\n",
       " (0, 2, 6, 10, 11),\n",
       " (0, 2, 7, 8, 9),\n",
       " (0, 2, 7, 8, 10),\n",
       " (0, 2, 7, 8, 11),\n",
       " (0, 2, 7, 9, 10),\n",
       " (0, 2, 7, 9, 11),\n",
       " (0, 2, 7, 10, 11),\n",
       " (0, 2, 8, 9, 10),\n",
       " (0, 2, 8, 9, 11),\n",
       " (0, 2, 8, 10, 11),\n",
       " (0, 2, 9, 10, 11),\n",
       " (0, 3, 4, 5, 6),\n",
       " (0, 3, 4, 5, 7),\n",
       " (0, 3, 4, 5, 8),\n",
       " ...]"
      ]
     },
     "execution_count": 3,
     "metadata": {},
     "output_type": "execute_result"
    }
   ],
   "source": [
    "powerset(range(12))"
   ]
  }
 ],
 "metadata": {
  "kernelspec": {
   "display_name": "Python 3 (ipykernel)",
   "language": "python",
   "name": "python3"
  },
  "language_info": {
   "codemirror_mode": {
    "name": "ipython",
    "version": 3
   },
   "file_extension": ".py",
   "mimetype": "text/x-python",
   "name": "python",
   "nbconvert_exporter": "python",
   "pygments_lexer": "ipython3",
   "version": "3.7.12"
  }
 },
 "nbformat": 4,
 "nbformat_minor": 5
}
