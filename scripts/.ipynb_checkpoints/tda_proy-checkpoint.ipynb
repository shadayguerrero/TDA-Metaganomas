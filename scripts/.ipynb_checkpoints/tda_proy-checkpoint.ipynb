{
 "cells": [
  {
   "cell_type": "code",
   "execution_count": 10,
   "id": "60c63870",
   "metadata": {},
   "outputs": [],
   "source": [
    "import os\n",
    "import pandas as pd\n",
    "from termcolor import colored"
   ]
  },
  {
   "cell_type": "markdown",
   "id": "4d38c2c0",
   "metadata": {},
   "source": [
    "<center> <h1> Prueba clavibacter: </h1> </center>"
   ]
  },
  {
   "cell_type": "markdown",
   "id": "00cf2c8d",
   "metadata": {},
   "source": [
    "## * Se simularon 100000 reads por cada subespecie de clavibacter con el simulador Pymetaseem\n"
   ]
  },
  {
   "cell_type": "code",
   "execution_count": 2,
   "id": "e99c80e7",
   "metadata": {},
   "outputs": [],
   "source": [
    "ruta_a_csv = \"/home/shaday/GIT/TDA-Metaganomas/output-tda/CSV/\"\n",
    "\n",
    "## Listamos los archivos .csv (nos aseguramos de no considerar archivos ocultos): \n",
    "csv_files = [file for file in os.listdir(ruta_a_csv) if not file.startswith(\".\")]\n",
    "\n",
    "##Listamos las rutas a los .csv's:\n",
    "csv_files_paths = [ruta_a_csv + file for file in csv_files]"
   ]
  },
  {
   "cell_type": "code",
   "execution_count": 3,
   "id": "0fb65eb0",
   "metadata": {},
   "outputs": [],
   "source": [
    "## Lista con los nombres (ids) de clavibacter\n",
    "clavibacter_names = [org.replace(\".csv\", \"\") for org in csv_files]\n"
   ]
  },
  {
   "cell_type": "markdown",
   "id": "1af4ec29",
   "metadata": {},
   "source": [
    "## Encontramos el ranking de las subespecies de clavibacter para cada elección de ellas como TP:"
   ]
  },
  {
   "cell_type": "code",
   "execution_count": 4,
   "id": "0283b812",
   "metadata": {},
   "outputs": [],
   "source": [
    "## Importamos el módulo con la función del modelo de Ĉech\n",
    "import TDA_Voting as tda"
   ]
  },
  {
   "cell_type": "code",
   "execution_count": 14,
   "id": "c5d8a12a",
   "metadata": {},
   "outputs": [],
   "source": [
    "## Obtenemos el ranking de los organismos por cada elección de un TP:\n",
    "ranking = dict()\n",
    "for file in csv_files_paths:\n",
    "    tp = file.split(\"/\")[-1].replace(\".csv\",\"\")\n",
    "    df = pd.read_csv(file)\n",
    "    df.drop([\"Unnamed: 0\"], axis = 1, inplace = True)\n",
    "    df.rename(columns={\"Organims\":'Organism'},\n",
    "               inplace=True)\n",
    "    ranking[tp] = tda.ranking_function_cech(df)"
   ]
  },
  {
   "cell_type": "code",
   "execution_count": 15,
   "id": "37757a12",
   "metadata": {},
   "outputs": [
    {
     "name": "stdout",
     "output_type": "stream",
     "text": [
      "\u001b[31mTP: NEBRASKENSIS_419B\u001b[0m\n",
      "michi_contigs:1.0\n",
      "sepedonicus_ATCC33113:0.9733030255525944\n",
      "\u001b[34mNEBRASKENSIS_419B:0.9288132936196896\u001b[0m\n",
      "insidiosus_ATCC_10253:0.9184825207712808\n",
      "capsici_1101:0.8771437529393322\n",
      "tessellarius_ATCC_33566:0.8209437215864556\n",
      "\n",
      "\n",
      "\u001b[31mTP: INSIDIOSUS_ATCC_10253\u001b[0m\n",
      "sepedonicus_ATCC33113:1.0\n",
      "tessellarius_ATCC_33566:0.9657868608307132\n",
      "michi_contigs:0.9550306139334768\n",
      "capsici_1101:0.9251199735230846\n",
      "nebraskensis_419B:0.7818550388879696\n",
      "\u001b[34mINSIDIOSUS_ATCC_10253:0.0\u001b[0m\n",
      "\n",
      "\n",
      "\u001b[31mTP: SEPEDONICUS_ATCC33113\u001b[0m\n",
      "\u001b[34mSEPEDONICUS_ATCC33113:1.0\u001b[0m\n",
      "michi_contigs:0.9726314721155636\n",
      "insidiosus_ATCC_10253:0.9357397790896328\n",
      "nebraskensis_419B:0.920110286033255\n",
      "capsici_1101:0.8777719514876774\n",
      "tessellarius_ATCC_33566:0.8238129873644683\n",
      "\n",
      "\n",
      "\u001b[31mTP: TESSELLARIUS_ATCC_33566\u001b[0m\n",
      "michi_contigs:1.0\n",
      "\u001b[34mTESSELLARIUS_ATCC_33566:0.9802334268183656\u001b[0m\n",
      "sepedonicus_ATCC33113:0.961556831959634\n",
      "capsici_1101:0.9587767748888589\n",
      "nebraskensis_419B:0.944227401320221\n",
      "insidiosus_ATCC_10253:0.9286492841659216\n",
      "\n",
      "\n",
      "\u001b[31mTP: MICHI_CONTIGS\u001b[0m\n",
      "\u001b[34mMICHI_CONTIGS:1.0\u001b[0m\n",
      "insidiosus_ATCC_10253:0.94722861696476\n",
      "nebraskensis_419B:0.942234814945989\n",
      "sepedonicus_ATCC33113:0.9359837081636267\n",
      "capsici_1101:0.9192845758809988\n",
      "tessellarius_ATCC_33566:0.8792633256596423\n",
      "\n",
      "\n",
      "\u001b[31mTP: CAPSICI_1101\u001b[0m\n",
      "michi_contigs:1.0\n",
      "sepedonicus_ATCC33113:0.953361367484026\n",
      "insidiosus_ATCC_10253:0.9483643711430287\n",
      "nebraskensis_419B:0.942930478947081\n",
      "\u001b[34mCAPSICI_1101:0.9221779258369286\u001b[0m\n",
      "tessellarius_ATCC_33566:0.873245590082464\n",
      "\n",
      "\n"
     ]
    }
   ],
   "source": [
    "## Se muestran los votos asignados a cada organismo por cada elección de un TP:\n",
    "for TP in ranking.keys():\n",
    "    print(colored(\"TP: \"+TP.upper(), \"red\"))\n",
    "    for key, value in ranking[TP].items():\n",
    "        if key == TP:\n",
    "            print(colored(f\"{key.upper() }:{ value}\", \"blue\"))\n",
    "        else:    \n",
    "            print(f\"{key }:{ value}\")\n",
    "    print(\"\\n\")"
   ]
  },
  {
   "cell_type": "markdown",
   "id": "3f4392e1",
   "metadata": {},
   "source": [
    "<center> <h1> Prueba Salmonella </h1> </center>"
   ]
  },
  {
   "cell_type": "markdown",
   "id": "82e421b5",
   "metadata": {},
   "source": [
    "## * Se simularon 10000 reads por cepa de salmonella utilizando MCAW."
   ]
  },
  {
   "cell_type": "code",
   "execution_count": 5,
   "id": "69f98bd3",
   "metadata": {},
   "outputs": [],
   "source": [
    "## Path al directorio que contiene los .csv de salmonella\n",
    "path_to_csv = \"/home/cesar/TDA/TDA-Metaganomas/CSV/salmonella/1TP/12org/\""
   ]
  },
  {
   "cell_type": "code",
   "execution_count": 6,
   "id": "13d56e68",
   "metadata": {},
   "outputs": [],
   "source": [
    "## Listamos los archivos .csv (nos aseguramos de no considerar archivos ocultos): \n",
    "csv_files_salm = [file for file in os.listdir(path_to_csv) if not file.startswith(\".\")]\n",
    "\n",
    "##Listamos las rutas a los .csv's:\n",
    "csv_files_paths_salm = [path_to_csv + file for file in csv_files_salm]"
   ]
  },
  {
   "cell_type": "code",
   "execution_count": 19,
   "id": "e078b1ad",
   "metadata": {},
   "outputs": [
    {
     "data": {
      "text/plain": [
       "10000"
      ]
     },
     "execution_count": 19,
     "metadata": {},
     "output_type": "execute_result"
    }
   ],
   "source": [
    "DF = pd.read_csv(csv_files_paths_salm[0])\n",
    "len(DF[\"Qname\"].unique())"
   ]
  },
  {
   "cell_type": "code",
   "execution_count": 7,
   "id": "fc3893f1",
   "metadata": {},
   "outputs": [],
   "source": [
    "salmonella_names = [name.replace(\".csv\",\"\") for name in csv_files_salm]\n"
   ]
  },
  {
   "cell_type": "markdown",
   "id": "2a64327a",
   "metadata": {},
   "source": [
    "## Encontramos el ranking de las cepas de salmonella para cada elección de ellas como TP:"
   ]
  },
  {
   "cell_type": "code",
   "execution_count": 8,
   "id": "437a965e",
   "metadata": {},
   "outputs": [],
   "source": [
    "Ranking = dict()\n",
    "for file in csv_files_paths_salm:\n",
    "    tp = file.split(\"/\")[-1].replace(\".csv\",\"\")\n",
    "    df = pd.read_csv(file)\n",
    "    df.drop([\"Unnamed: 0\"], axis = 1, inplace = True)\n",
    "    df.rename(columns={\"Organims\":'Organism'},\n",
    "               inplace=True)\n",
    "    Ranking[tp] = tda.ranking_function_cech(df)"
   ]
  },
  {
   "cell_type": "code",
   "execution_count": 11,
   "id": "0dc57b6a",
   "metadata": {},
   "outputs": [
    {
     "name": "stdout",
     "output_type": "stream",
     "text": [
      "\u001b[31mTP: CP019408\u001b[0m\n",
      "CP019410:1.0\n",
      "CP019409:0.9863025125963496\n",
      "CP019405:0.9467950215222396\n",
      "CP019403:0.9377857119022991\n",
      "CP019411:0.931996396276152\n",
      "CP019116:0.9134939437418665\n",
      "CP019413:0.9097066969201508\n",
      "CP019412:0.8961927324902399\n",
      "CP019406:0.8623244018819447\n",
      "CP019407:0.8110380726750976\n",
      "CP019404:0.739280589942941\n",
      "\u001b[34mCP019408:0.0\u001b[0m\n",
      "\n",
      "\n",
      "\u001b[31mTP: CP019116\u001b[0m\n",
      "CP019411:1.0\n",
      "CP019410:0.9800516203039862\n",
      "CP019409:0.952979638657872\n",
      "CP019412:0.9378376828219099\n",
      "CP019403:0.9311499856610267\n",
      "CP019413:0.9267909377688558\n",
      "CP019405:0.9130140521938629\n",
      "CP019408:0.9078864353312303\n",
      "CP019407:0.876432463435618\n",
      "CP019406:0.8734614281617437\n",
      "CP019404:0.8122168052767422\n",
      "\u001b[34mCP019116:0.0\u001b[0m\n",
      "\n",
      "\n",
      "\u001b[31mTP: CP019412\u001b[0m\n",
      "CP019410:1.0\n",
      "CP019411:0.9898959298595766\n",
      "CP019409:0.9842469171002922\n",
      "CP019405:0.9726815881388552\n",
      "CP019403:0.9272221826217122\n",
      "CP019406:0.9216979114690997\n",
      "CP019413:0.9160132582507663\n",
      "CP019408:0.9123601111982322\n",
      "CP019404:0.8686470881744957\n",
      "CP019116:0.7156425974766555\n",
      "CP019407:0.7081759213058664\n",
      "\u001b[34mCP019412:0.0\u001b[0m\n",
      "\n",
      "\n",
      "\u001b[31mTP: CP019413\u001b[0m\n",
      "CP019409:1.0\n",
      "CP019406:0.9990343828671931\n",
      "CP019410:0.9974824981894679\n",
      "CP019408:0.9948442942373349\n",
      "CP019405:0.9802220919405455\n",
      "CP019403:0.9774114563575542\n",
      "CP019411:0.9714970514191124\n",
      "CP019412:0.9462358174983619\n",
      "CP019116:0.9074559437183157\n",
      "CP019404:0.8983170672828223\n",
      "CP019407:0.8567782874090423\n",
      "\u001b[34mCP019413:0.0\u001b[0m\n",
      "\n",
      "\n",
      "\u001b[31mTP: CP019410\u001b[0m\n",
      "CP019409:1.0\n",
      "CP019413:0.9865276228939992\n",
      "CP019405:0.9733114319298352\n",
      "CP019403:0.9685795231923807\n",
      "CP019406:0.9635612887669912\n",
      "CP019408:0.9240483438319419\n",
      "CP019411:0.8900057265137588\n",
      "CP019412:0.8612978088549986\n",
      "CP019404:0.8583893426564996\n",
      "CP019116:0.8448566864583019\n",
      "CP019407:0.8436511046143645\n",
      "\u001b[34mCP019410:0.0\u001b[0m\n",
      "\n",
      "\n",
      "\u001b[31mTP: CP019411\u001b[0m\n",
      "CP019410:1.0\n",
      "CP019405:0.9796731704314643\n",
      "CP019413:0.9715639810426541\n",
      "CP019409:0.970640733673909\n",
      "CP019412:0.961038961038961\n",
      "CP019403:0.9516064504216163\n",
      "CP019408:0.9240936788330153\n",
      "CP019406:0.9223395088323998\n",
      "CP019404:0.8955191727703576\n",
      "CP019116:0.7916230688742537\n",
      "CP019407:0.7512002215793685\n",
      "\u001b[34mCP019411:0.0\u001b[0m\n",
      "\n",
      "\n",
      "\u001b[31mTP: CP019403\u001b[0m\n",
      "CP019410:1.0\n",
      "CP019409:0.9879835829962513\n",
      "CP019411:0.9700404498377562\n",
      "CP019405:0.9427627387355351\n",
      "CP019408:0.9307611385221733\n",
      "CP019116:0.9214413773688344\n",
      "CP019404:0.9125661199271013\n",
      "CP019413:0.8967121542131543\n",
      "CP019412:0.8917040790623935\n",
      "CP019407:0.8748277548117527\n",
      "CP019406:0.8548695381606436\n",
      "\u001b[34mCP019403:0.0\u001b[0m\n",
      "\n",
      "\n",
      "\u001b[31mTP: CP019409\u001b[0m\n",
      "CP019410:1.0\n",
      "CP019406:0.9704408442908645\n",
      "CP019408:0.9441726876991429\n",
      "CP019405:0.9436341605708387\n",
      "CP019412:0.9285105237176323\n",
      "CP019403:0.9140301276010112\n",
      "CP019413:0.908854283534533\n",
      "CP019116:0.9054585708088378\n",
      "CP019411:0.8659815404867687\n",
      "CP019407:0.8540741073164894\n",
      "CP019404:0.8479408816885817\n",
      "\u001b[34mCP019409:0.0\u001b[0m\n",
      "\n",
      "\n",
      "\u001b[31mTP: CP019404\u001b[0m\n",
      "CP019410:1.0\n",
      "CP019409:0.9275611695540521\n",
      "CP019403:0.9107843520654909\n",
      "CP019116:0.9024415679219949\n",
      "CP019411:0.8980746418468838\n",
      "CP019405:0.8825362063796227\n",
      "CP019408:0.865915816093752\n",
      "CP019413:0.8569733943399424\n",
      "CP019412:0.8287382842542985\n",
      "CP019406:0.8063822298697744\n",
      "CP019407:0.7794376442063274\n",
      "\u001b[34mCP019404:0.0\u001b[0m\n",
      "\n",
      "\n",
      "\u001b[31mTP: CP019407\u001b[0m\n",
      "CP019410:1.0\n",
      "CP019405:0.9942193190357824\n",
      "CP019403:0.9686687091739407\n",
      "CP019413:0.9470296934312196\n",
      "CP019406:0.9396496907335684\n",
      "CP019116:0.9136558953311367\n",
      "CP019409:0.8906487850935507\n",
      "CP019412:0.8879318650403685\n",
      "CP019408:0.8812455440584234\n",
      "CP019411:0.8680077846503651\n",
      "CP019404:0.764957511994913\n",
      "\u001b[34mCP019407:0.0\u001b[0m\n",
      "\n",
      "\n",
      "\u001b[31mTP: CP019406\u001b[0m\n",
      "CP019410:1.0\n",
      "CP019405:0.9505879308392773\n",
      "CP019409:0.9453636760638556\n",
      "CP019403:0.9278794054377537\n",
      "CP019116:0.9053487958335356\n",
      "CP019411:0.8962912643343524\n",
      "CP019413:0.8927006000614618\n",
      "CP019408:0.8759765151147557\n",
      "CP019407:0.8601258349911851\n",
      "CP019412:0.8584437219984796\n",
      "CP019404:0.7339673605382762\n",
      "\u001b[34mCP019406:0.0\u001b[0m\n",
      "\n",
      "\n",
      "\u001b[31mTP: CP019405\u001b[0m\n",
      "CP019410:1.0\n",
      "CP019403:0.9670908662424671\n",
      "CP019409:0.9316399016934317\n",
      "CP019413:0.9265394067939265\n",
      "CP019406:0.8775881224118776\n",
      "CP019407:0.8586843079823587\n",
      "CP019408:0.8579268087398579\n",
      "CP019411:0.8507558159108508\n",
      "CP019116:0.847018819647847\n",
      "CP019412:0.8160960172373161\n",
      "CP019404:0.7522977477022523\n",
      "\u001b[34mCP019405:0.0\u001b[0m\n",
      "\n",
      "\n"
     ]
    }
   ],
   "source": [
    "for TP in Ranking.keys():\n",
    "    TP1 = TP.split(\"_\")[-1]\n",
    "    print(colored(\"TP: \"+TP1.upper(), \"red\"))\n",
    "    for key, value in Ranking[TP].items():\n",
    "        if key == TP1:\n",
    "            print(colored(f\"{key.upper() }:{ value}\", \"blue\"))\n",
    "        else:    \n",
    "            print(f\"{key }:{ value}\")\n",
    "    print(\"\\n\")"
   ]
  },
  {
   "cell_type": "markdown",
   "id": "b01e7827",
   "metadata": {},
   "source": [
    "<center> <h1> Probar contención de reads en los True Positive: </h1> </center>"
   ]
  },
  {
   "cell_type": "markdown",
   "id": "9f7b5d09",
   "metadata": {},
   "source": [
    "## Con Clavibacter:"
   ]
  },
  {
   "cell_type": "code",
   "execution_count": 90,
   "id": "f42befcd",
   "metadata": {},
   "outputs": [
    {
     "data": {
      "text/plain": [
       "['nebraskensis_419B',\n",
       " 'insidiosus_ATCC_10253',\n",
       " 'sepedonicus_ATCC33113',\n",
       " 'tessellarius_ATCC_33566',\n",
       " 'michi_contigs',\n",
       " 'capsici_1101']"
      ]
     },
     "execution_count": 90,
     "metadata": {},
     "output_type": "execute_result"
    }
   ],
   "source": [
    "clavibacter_names"
   ]
  },
  {
   "cell_type": "code",
   "execution_count": 122,
   "id": "8dd9e124",
   "metadata": {},
   "outputs": [
    {
     "name": "stdout",
     "output_type": "stream",
     "text": [
      "------------------------------61574 de 100000 reads mapearon al TP: nebraskensis_419B---------------\n",
      "\n",
      "Los reads que mapean a ['nebraskensis_419B'] están contenidos en los reads del TP: nebraskensis_419B \n",
      "\n",
      "Los reads que mapean a ['insidiosus_ATCC_10253', 'sepedonicus_ATCC33113', 'tessellarius_ATCC_33566', 'michi_contigs', 'capsici_1101'] no están contenidos en los reads del TP: nebraskensis_419B \n",
      "\n",
      "------------------------------------------------------------------------------------------\n",
      "\n",
      "\n",
      "------------------------------100000 de 100000 reads mapearon al TP: insidiosus_ATCC_10253---------------\n",
      "\n",
      "Los reads que mapean a ['nebraskensis_419B', 'insidiosus_ATCC_10253', 'sepedonicus_ATCC33113', 'tessellarius_ATCC_33566', 'michi_contigs', 'capsici_1101'] están contenidos en los reads del TP: insidiosus_ATCC_10253 \n",
      "\n",
      "Los reads que mapean a [] no están contenidos en los reads del TP: insidiosus_ATCC_10253 \n",
      "\n",
      "------------------------------------------------------------------------------------------\n",
      "\n",
      "\n",
      "------------------------------58908 de 100000 reads mapearon al TP: sepedonicus_ATCC33113---------------\n",
      "\n",
      "Los reads que mapean a ['sepedonicus_ATCC33113'] están contenidos en los reads del TP: sepedonicus_ATCC33113 \n",
      "\n",
      "Los reads que mapean a ['nebraskensis_419B', 'insidiosus_ATCC_10253', 'tessellarius_ATCC_33566', 'michi_contigs', 'capsici_1101'] no están contenidos en los reads del TP: sepedonicus_ATCC33113 \n",
      "\n",
      "------------------------------------------------------------------------------------------\n",
      "\n",
      "\n",
      "------------------------------52694 de 100000 reads mapearon al TP: tessellarius_ATCC_33566---------------\n",
      "\n",
      "Los reads que mapean a ['tessellarius_ATCC_33566'] están contenidos en los reads del TP: tessellarius_ATCC_33566 \n",
      "\n",
      "Los reads que mapean a ['nebraskensis_419B', 'insidiosus_ATCC_10253', 'sepedonicus_ATCC33113', 'michi_contigs', 'capsici_1101'] no están contenidos en los reads del TP: tessellarius_ATCC_33566 \n",
      "\n",
      "------------------------------------------------------------------------------------------\n",
      "\n",
      "\n",
      "------------------------------86670 de 100000 reads mapearon al TP: michi_contigs---------------\n",
      "\n",
      "Los reads que mapean a ['michi_contigs'] están contenidos en los reads del TP: michi_contigs \n",
      "\n",
      "Los reads que mapean a ['nebraskensis_419B', 'insidiosus_ATCC_10253', 'sepedonicus_ATCC33113', 'tessellarius_ATCC_33566', 'capsici_1101'] no están contenidos en los reads del TP: michi_contigs \n",
      "\n",
      "------------------------------------------------------------------------------------------\n",
      "\n",
      "\n",
      "------------------------------39317 de 100000 reads mapearon al TP: capsici_1101---------------\n",
      "\n",
      "Los reads que mapean a ['capsici_1101'] están contenidos en los reads del TP: capsici_1101 \n",
      "\n",
      "Los reads que mapean a ['nebraskensis_419B', 'insidiosus_ATCC_10253', 'sepedonicus_ATCC33113', 'tessellarius_ATCC_33566', 'michi_contigs'] no están contenidos en los reads del TP: capsici_1101 \n",
      "\n",
      "------------------------------------------------------------------------------------------\n",
      "\n",
      "\n"
     ]
    }
   ],
   "source": [
    "\n",
    "for file in csv_files_paths:\n",
    "    tp = file.split(\"/\")[-1].replace(\".csv\",\"\")\n",
    "    df = pd.read_csv(file)\n",
    "    df.drop([\"Unnamed: 0\"], axis = 1, inplace = True)\n",
    "    df.rename(columns={\"Organims\":'Organism'},\n",
    "               inplace=True)\n",
    "    lista_contenidos = list()\n",
    "    lista_no_contenidos = list()\n",
    "    for org in clavibacter_names:\n",
    "        \n",
    "        if tda.first_read(org, df).issubset(tda.first_read(tp, df)):\n",
    "            lista_contenidos.append(org)\n",
    "            \n",
    "        else:\n",
    "            lista_no_contenidos.append(org)\n",
    "    \n",
    "    print(f\"------------------------------{len(tda.first_read(tp, df))} de { 100000} reads mapearon al TP: {tp}---------------\\n\")\n",
    "    print(f\"Los reads que mapean a {lista_contenidos} están contenidos en los reads del TP: {tp} \\n\")\n",
    "    print(f\"Los reads que mapean a {lista_no_contenidos} no están contenidos en los reads del TP: {tp} \\n\")\n",
    "    print(\"------------------------------------------------------------------------------------------\")\n",
    "    print(\"\\n\")"
   ]
  },
  {
   "cell_type": "markdown",
   "id": "630a7dfd",
   "metadata": {},
   "source": [
    "###  Con Clavibacter vemos que el único caso en el que el TP contiene a los reads de todos los demás organismos es cuando de hecho todos los reads (los 100000)"
   ]
  },
  {
   "cell_type": "markdown",
   "id": "df467a66",
   "metadata": {},
   "source": [
    "## Con Salmonella:"
   ]
  },
  {
   "cell_type": "code",
   "execution_count": 117,
   "id": "78ffcce7",
   "metadata": {},
   "outputs": [
    {
     "data": {
      "text/plain": [
       "['ROM_1TP_CP019408',\n",
       " 'ROM_1TP_CP019116',\n",
       " 'ROM_1TP_CP019412',\n",
       " 'ROM_1TP_CP019413',\n",
       " 'ROM_1TP_CP019410',\n",
       " 'ROM_1TP_CP019411',\n",
       " 'ROM_1TP_CP019403',\n",
       " 'ROM_1TP_CP019409',\n",
       " 'ROM_1TP_CP019404',\n",
       " 'ROM_1TP_CP019407',\n",
       " 'ROM_1TP_CP019406',\n",
       " 'ROM_1TP_CP019405']"
      ]
     },
     "execution_count": 117,
     "metadata": {},
     "output_type": "execute_result"
    }
   ],
   "source": [
    "salmonella_names"
   ]
  },
  {
   "cell_type": "code",
   "execution_count": 120,
   "id": "f364fd7c",
   "metadata": {},
   "outputs": [
    {
     "name": "stdout",
     "output_type": "stream",
     "text": [
      "------------------------------10000 de 10000 reads mapearon al TP: CP019408---------------\n",
      "\n",
      "Los reads que mapean a ['ROM_1TP_CP019408', 'ROM_1TP_CP019116', 'ROM_1TP_CP019412', 'ROM_1TP_CP019413', 'ROM_1TP_CP019410', 'ROM_1TP_CP019411', 'ROM_1TP_CP019403', 'ROM_1TP_CP019409', 'ROM_1TP_CP019404', 'ROM_1TP_CP019407', 'ROM_1TP_CP019406', 'ROM_1TP_CP019405'] están contenidos en los reads del TP: CP019408 \n",
      "\n",
      "Los reads que mapean a [] no están contenidos en los reads del TP: CP019408 \n",
      "\n",
      "------------------------------------------------------------------------------------------\n",
      "\n",
      "\n",
      "------------------------------10000 de 10000 reads mapearon al TP: CP019116---------------\n",
      "\n",
      "Los reads que mapean a ['ROM_1TP_CP019408', 'ROM_1TP_CP019116', 'ROM_1TP_CP019412', 'ROM_1TP_CP019413', 'ROM_1TP_CP019410', 'ROM_1TP_CP019411', 'ROM_1TP_CP019403', 'ROM_1TP_CP019409', 'ROM_1TP_CP019404', 'ROM_1TP_CP019407', 'ROM_1TP_CP019406', 'ROM_1TP_CP019405'] están contenidos en los reads del TP: CP019116 \n",
      "\n",
      "Los reads que mapean a [] no están contenidos en los reads del TP: CP019116 \n",
      "\n",
      "------------------------------------------------------------------------------------------\n",
      "\n",
      "\n",
      "------------------------------10000 de 10000 reads mapearon al TP: CP019412---------------\n",
      "\n",
      "Los reads que mapean a ['ROM_1TP_CP019408', 'ROM_1TP_CP019116', 'ROM_1TP_CP019412', 'ROM_1TP_CP019413', 'ROM_1TP_CP019410', 'ROM_1TP_CP019411', 'ROM_1TP_CP019403', 'ROM_1TP_CP019409', 'ROM_1TP_CP019404', 'ROM_1TP_CP019407', 'ROM_1TP_CP019406', 'ROM_1TP_CP019405'] están contenidos en los reads del TP: CP019412 \n",
      "\n",
      "Los reads que mapean a [] no están contenidos en los reads del TP: CP019412 \n",
      "\n",
      "------------------------------------------------------------------------------------------\n",
      "\n",
      "\n",
      "------------------------------10000 de 10000 reads mapearon al TP: CP019413---------------\n",
      "\n",
      "Los reads que mapean a ['ROM_1TP_CP019408', 'ROM_1TP_CP019116', 'ROM_1TP_CP019412', 'ROM_1TP_CP019413', 'ROM_1TP_CP019410', 'ROM_1TP_CP019411', 'ROM_1TP_CP019403', 'ROM_1TP_CP019409', 'ROM_1TP_CP019404', 'ROM_1TP_CP019407', 'ROM_1TP_CP019406', 'ROM_1TP_CP019405'] están contenidos en los reads del TP: CP019413 \n",
      "\n",
      "Los reads que mapean a [] no están contenidos en los reads del TP: CP019413 \n",
      "\n",
      "------------------------------------------------------------------------------------------\n",
      "\n",
      "\n",
      "------------------------------10000 de 10000 reads mapearon al TP: CP019410---------------\n",
      "\n",
      "Los reads que mapean a ['ROM_1TP_CP019408', 'ROM_1TP_CP019116', 'ROM_1TP_CP019412', 'ROM_1TP_CP019413', 'ROM_1TP_CP019410', 'ROM_1TP_CP019411', 'ROM_1TP_CP019403', 'ROM_1TP_CP019409', 'ROM_1TP_CP019404', 'ROM_1TP_CP019407', 'ROM_1TP_CP019406', 'ROM_1TP_CP019405'] están contenidos en los reads del TP: CP019410 \n",
      "\n",
      "Los reads que mapean a [] no están contenidos en los reads del TP: CP019410 \n",
      "\n",
      "------------------------------------------------------------------------------------------\n",
      "\n",
      "\n",
      "------------------------------10000 de 10000 reads mapearon al TP: CP019411---------------\n",
      "\n",
      "Los reads que mapean a ['ROM_1TP_CP019408', 'ROM_1TP_CP019116', 'ROM_1TP_CP019412', 'ROM_1TP_CP019413', 'ROM_1TP_CP019410', 'ROM_1TP_CP019411', 'ROM_1TP_CP019403', 'ROM_1TP_CP019409', 'ROM_1TP_CP019404', 'ROM_1TP_CP019407', 'ROM_1TP_CP019406', 'ROM_1TP_CP019405'] están contenidos en los reads del TP: CP019411 \n",
      "\n",
      "Los reads que mapean a [] no están contenidos en los reads del TP: CP019411 \n",
      "\n",
      "------------------------------------------------------------------------------------------\n",
      "\n",
      "\n",
      "------------------------------10000 de 10000 reads mapearon al TP: CP019403---------------\n",
      "\n",
      "Los reads que mapean a ['ROM_1TP_CP019408', 'ROM_1TP_CP019116', 'ROM_1TP_CP019412', 'ROM_1TP_CP019413', 'ROM_1TP_CP019410', 'ROM_1TP_CP019411', 'ROM_1TP_CP019403', 'ROM_1TP_CP019409', 'ROM_1TP_CP019404', 'ROM_1TP_CP019407', 'ROM_1TP_CP019406', 'ROM_1TP_CP019405'] están contenidos en los reads del TP: CP019403 \n",
      "\n",
      "Los reads que mapean a [] no están contenidos en los reads del TP: CP019403 \n",
      "\n",
      "------------------------------------------------------------------------------------------\n",
      "\n",
      "\n",
      "------------------------------10000 de 10000 reads mapearon al TP: CP019409---------------\n",
      "\n",
      "Los reads que mapean a ['ROM_1TP_CP019408', 'ROM_1TP_CP019116', 'ROM_1TP_CP019412', 'ROM_1TP_CP019413', 'ROM_1TP_CP019410', 'ROM_1TP_CP019411', 'ROM_1TP_CP019403', 'ROM_1TP_CP019409', 'ROM_1TP_CP019404', 'ROM_1TP_CP019407', 'ROM_1TP_CP019406', 'ROM_1TP_CP019405'] están contenidos en los reads del TP: CP019409 \n",
      "\n",
      "Los reads que mapean a [] no están contenidos en los reads del TP: CP019409 \n",
      "\n",
      "------------------------------------------------------------------------------------------\n",
      "\n",
      "\n",
      "------------------------------10000 de 10000 reads mapearon al TP: CP019404---------------\n",
      "\n",
      "Los reads que mapean a ['ROM_1TP_CP019408', 'ROM_1TP_CP019116', 'ROM_1TP_CP019412', 'ROM_1TP_CP019413', 'ROM_1TP_CP019410', 'ROM_1TP_CP019411', 'ROM_1TP_CP019403', 'ROM_1TP_CP019409', 'ROM_1TP_CP019404', 'ROM_1TP_CP019407', 'ROM_1TP_CP019406', 'ROM_1TP_CP019405'] están contenidos en los reads del TP: CP019404 \n",
      "\n",
      "Los reads que mapean a [] no están contenidos en los reads del TP: CP019404 \n",
      "\n",
      "------------------------------------------------------------------------------------------\n",
      "\n",
      "\n",
      "------------------------------10000 de 10000 reads mapearon al TP: CP019407---------------\n",
      "\n",
      "Los reads que mapean a ['ROM_1TP_CP019408', 'ROM_1TP_CP019116', 'ROM_1TP_CP019412', 'ROM_1TP_CP019413', 'ROM_1TP_CP019410', 'ROM_1TP_CP019411', 'ROM_1TP_CP019403', 'ROM_1TP_CP019409', 'ROM_1TP_CP019404', 'ROM_1TP_CP019407', 'ROM_1TP_CP019406', 'ROM_1TP_CP019405'] están contenidos en los reads del TP: CP019407 \n",
      "\n",
      "Los reads que mapean a [] no están contenidos en los reads del TP: CP019407 \n",
      "\n",
      "------------------------------------------------------------------------------------------\n",
      "\n",
      "\n",
      "------------------------------10000 de 10000 reads mapearon al TP: CP019406---------------\n",
      "\n",
      "Los reads que mapean a ['ROM_1TP_CP019408', 'ROM_1TP_CP019116', 'ROM_1TP_CP019412', 'ROM_1TP_CP019413', 'ROM_1TP_CP019410', 'ROM_1TP_CP019411', 'ROM_1TP_CP019403', 'ROM_1TP_CP019409', 'ROM_1TP_CP019404', 'ROM_1TP_CP019407', 'ROM_1TP_CP019406', 'ROM_1TP_CP019405'] están contenidos en los reads del TP: CP019406 \n",
      "\n",
      "Los reads que mapean a [] no están contenidos en los reads del TP: CP019406 \n",
      "\n",
      "------------------------------------------------------------------------------------------\n",
      "\n",
      "\n",
      "------------------------------10000 de 10000 reads mapearon al TP: CP019405---------------\n",
      "\n",
      "Los reads que mapean a ['ROM_1TP_CP019408', 'ROM_1TP_CP019116', 'ROM_1TP_CP019412', 'ROM_1TP_CP019413', 'ROM_1TP_CP019410', 'ROM_1TP_CP019411', 'ROM_1TP_CP019403', 'ROM_1TP_CP019409', 'ROM_1TP_CP019404', 'ROM_1TP_CP019407', 'ROM_1TP_CP019406', 'ROM_1TP_CP019405'] están contenidos en los reads del TP: CP019405 \n",
      "\n",
      "Los reads que mapean a [] no están contenidos en los reads del TP: CP019405 \n",
      "\n",
      "------------------------------------------------------------------------------------------\n",
      "\n",
      "\n"
     ]
    }
   ],
   "source": [
    "\n",
    "for file in csv_files_paths_salm:\n",
    "    tp = file.split(\"/\")[-1].replace(\".csv\",\"\").split(\"_\")[-1]\n",
    "    df = pd.read_csv(file)\n",
    "    df.drop([\"Unnamed: 0\"], axis = 1, inplace = True)\n",
    "    df.rename(columns={\"Organims\":'Organism'},\n",
    "               inplace=True)\n",
    "    lista_contenidos = list()\n",
    "    lista_no_contenidos = list()\n",
    "    for org in salmonella_names:\n",
    "        \n",
    "        if tda.first_read(org, df).issubset(tda.first_read(tp, df)):\n",
    "            lista_contenidos.append(org)\n",
    "            \n",
    "        else:\n",
    "            lista_no_contenidos.append(org)\n",
    "    \n",
    "    print(f\"------------------------------{len(tda.first_read(tp, df))} de { 10000} reads mapearon al TP: {tp}---------------\\n\")\n",
    "    print(f\"Los reads que mapean a {lista_contenidos} están contenidos en los reads del TP: {tp} \\n\")\n",
    "    print(f\"Los reads que mapean a {lista_no_contenidos} no están contenidos en los reads del TP: {tp} \\n\")\n",
    "    print(\"------------------------------------------------------------------------------------------\")\n",
    "    print(\"\\n\")"
   ]
  },
  {
   "cell_type": "markdown",
   "id": "1104c804",
   "metadata": {},
   "source": [
    "<center> <h1> Prueba con ejemplo de juguete </h1> </center>"
   ]
  },
  {
   "cell_type": "markdown",
   "id": "a38bb983",
   "metadata": {},
   "source": [
    "### Creamos un diccionario con 4 conjuntos de tal manera que sus elementos satisfagan las mismas condiciones del paper:"
   ]
  },
  {
   "cell_type": "code",
   "execution_count": 28,
   "id": "cad06841",
   "metadata": {},
   "outputs": [],
   "source": [
    "Dicc = {\"A\": ['x1','x2','x3'],\n",
    "       \"B\": ['x4','x5','x6','x7'],\n",
    "       \"C\": ['x8', 'x9'],\n",
    "       \"D\": ['x10','x11','x12'],\n",
    "       \"AB\": ['x13','x14','x15','x16','x17','x18'],\n",
    "       \"AC\": ['x19','x20','x21','x22','x23'],\n",
    "       \"AD\": ['x24','x25', 'x26','x27'],\n",
    "       \"BC\": [\"x28\",\"x29\", \"x30\", \"x31\", \"x32\", \"x33\"],\n",
    "       \"BD\": [\"x34\", \"x35\", \"x36\", \"x37\"],\n",
    "       \"CD\": [\"x38\", \"x39\", \"x40\", \"x41\", \"x42\"],\n",
    "       \"ABC\": [\"x43\", \"x44\", \"x45\"],\n",
    "       \"ABD\": [\"x46\",\"x47\", \"x48\",\"x49\"],\n",
    "       \"ACD\": [\"x50\", \"x51\"],\n",
    "       \"BCD\": [\"x52\", \"x53\", \"x54\"],\n",
    "       \"ABCD\": [\"x55\", \"x56\"]}"
   ]
  },
  {
   "cell_type": "markdown",
   "id": "90e934a3",
   "metadata": {},
   "source": []
  },
  {
   "cell_type": "markdown",
   "id": "f1d8f542",
   "metadata": {},
   "source": [
    "### Con el diccionario anterior formamos un dataframe del tipo de los data frames que hemos estado utilizando:"
   ]
  },
  {
   "cell_type": "code",
   "execution_count": 21,
   "id": "312fd65c",
   "metadata": {},
   "outputs": [],
   "source": [
    "col1 = []\n",
    "col2 = []\n",
    "for key in Dicc.keys():\n",
    "    for i in range(len(key)):\n",
    "        for j in range(len(Dicc[key])):\n",
    "            col1.append(Dicc[key][j])\n",
    "            col2.append(key[i])\n",
    "data = {'Qname': col1, \"Organism\": col2}\n",
    "DF = pd.DataFrame.from_dict(data)"
   ]
  },
  {
   "cell_type": "markdown",
   "id": "14383b89",
   "metadata": {},
   "source": [
    "## Cuando no hay un \"organismo\" que contiene los reads de todos los demás:"
   ]
  },
  {
   "cell_type": "code",
   "execution_count": 32,
   "id": "1ad98a4d",
   "metadata": {},
   "outputs": [],
   "source": [
    "Organismos = [\"A\", \"B\", \"C\", \"D\"]"
   ]
  },
  {
   "cell_type": "code",
   "execution_count": 30,
   "id": "cfa8255f",
   "metadata": {},
   "outputs": [],
   "source": [
    "A = tda.first_read(\"A\", DF)\n",
    "B = tda.first_read(\"B\", DF)\n",
    "C = tda.first_read(\"C\", DF)\n",
    "D = tda.first_read(\"D\", DF)\n",
    "\n",
    "dicc_card = {\"A\": len(A),\n",
    "             \"B\": len(B),\n",
    "             \"C\": len(C),\n",
    "             \"D\": len(D)}"
   ]
  },
  {
   "cell_type": "code",
   "execution_count": 29,
   "id": "e2486bc5",
   "metadata": {},
   "outputs": [
    {
     "data": {
      "text/plain": [
       "{'C': 1.0,\n",
       " 'A': 0.9615384615384616,\n",
       " 'D': 0.9615384615384616,\n",
       " 'B': 0.9230769230769231}"
      ]
     },
     "execution_count": 29,
     "metadata": {},
     "output_type": "execute_result"
    }
   ],
   "source": [
    "tda.ranking_function_cech(DF)"
   ]
  },
  {
   "cell_type": "code",
   "execution_count": 31,
   "id": "88382a76",
   "metadata": {},
   "outputs": [
    {
     "data": {
      "text/plain": [
       "{'A': 29, 'B': 32, 'C': 28, 'D': 27}"
      ]
     },
     "execution_count": 31,
     "metadata": {},
     "output_type": "execute_result"
    }
   ],
   "source": [
    "dicc_card"
   ]
  },
  {
   "cell_type": "markdown",
   "id": "4b8f7908",
   "metadata": {},
   "source": [
    "## Consideramos el caso en que hay un conjunto que contiene a todos los reads"
   ]
  },
  {
   "cell_type": "code",
   "execution_count": 35,
   "id": "26ea9b7e",
   "metadata": {},
   "outputs": [],
   "source": [
    "Organismos2 = [\"A\", \"B\", \"C\", \"D\", \"E\"]\n",
    "Index_organismos2 = range(len(Organismos2))"
   ]
  },
  {
   "cell_type": "code",
   "execution_count": 37,
   "id": "71df64cb",
   "metadata": {},
   "outputs": [
    {
     "data": {
      "text/plain": [
       "56"
      ]
     },
     "execution_count": 37,
     "metadata": {},
     "output_type": "execute_result"
    }
   ],
   "source": [
    "DD=dict()\n",
    "Index_sets_organismos2=tda.powerset(Index_organismos2)\n",
    "Col1 = [\"x\" + str(i) for i in range(1,57)]\n",
    "Col2 = [\"E\" for i in range(1,57) ]\n",
    "len(Col1)"
   ]
  },
  {
   "cell_type": "code",
   "execution_count": null,
   "id": "9d2d15ab",
   "metadata": {},
   "outputs": [],
   "source": []
  }
 ],
 "metadata": {
  "kernelspec": {
   "display_name": "Python 3 (ipykernel)",
   "language": "python",
   "name": "python3"
  },
  "language_info": {
   "codemirror_mode": {
    "name": "ipython",
    "version": 3
   },
   "file_extension": ".py",
   "mimetype": "text/x-python",
   "name": "python",
   "nbconvert_exporter": "python",
   "pygments_lexer": "ipython3",
   "version": "3.7.12"
  }
 },
 "nbformat": 4,
 "nbformat_minor": 5
}
