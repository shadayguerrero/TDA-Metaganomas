{
 "cells": [
  {
   "cell_type": "code",
   "execution_count": 1,
   "id": "306cd491",
   "metadata": {},
   "outputs": [],
   "source": [
    "import pandas as pd\n",
    "import seaborn as sb\n",
    "import csv\n",
    "from sympy import FiniteSet\n",
    "\n",
    "import pysam\n",
    "import os\n",
    "import math\n",
    "import random\n",
    "import numpy as np\n",
    "\n",
    "from pathlib import Path\n",
    "from random import seed\n",
    "from random import randint\n",
    "from functools import reduce\n",
    "\n",
    "from operator import add as concat\n",
    "\n",
    "from itertools import combinations\n",
    "from itertools import chain, combinations\n"
   ]
  },
  {
   "cell_type": "code",
   "execution_count": 2,
   "id": "b3b912f6-f13c-47c7-b52d-7ba081f07e8a",
   "metadata": {},
   "outputs": [],
   "source": [
    "def listdir_nohidden(path):\n",
    "    for f in os.listdir(path):\n",
    "        if not f.startswith('.'):\n",
    "            yield f"
   ]
  },
  {
   "cell_type": "markdown",
   "id": "e8cca1bd",
   "metadata": {},
   "source": [
    "# Cargar las direcciones"
   ]
  },
  {
   "cell_type": "code",
   "execution_count": 3,
   "id": "24a1765d",
   "metadata": {},
   "outputs": [],
   "source": [
    "ruta_reads = '/home/shaday/GIT/TDA-Metaganomas/ReadsSimulados/clavibacter/read_100M/'\n",
    "ruta_genomas = \"/home/shaday/GIT/TDA-Metaganomas/genomes/clavibacter\"  ##Se queda igual\n",
    "ruta_db = '/home/shaday/GIT/TDA-Metaganomas/output-tda/db-bowtie/clavibacter/'     ##Se queda igual\n",
    "ruta_ids_db = \"/home/shaday/GIT/TDA-Metaganomas/output-tda/db-bowtie/DB_clavibacter.txt\"\n",
    "ruta_output_bowtie = \"/home/shaday/GIT/TDA-Metaganomas/output-tda/\"\n",
    "ruta_csv_files = \"\""
   ]
  },
  {
   "cell_type": "markdown",
   "id": "c0209f73-3972-467f-b54d-ca519da73db3",
   "metadata": {},
   "source": [
    "# Crear base de datos de bowtie ( correr solo una vez)"
   ]
  },
  {
   "cell_type": "code",
   "execution_count": null,
   "id": "4a22cfc2-da5e-4473-8817-3b5fc64498f0",
   "metadata": {},
   "outputs": [],
   "source": [
    "%%bash -s \"$ruta_genomas\" \"$ruta_db\" \"$ruta_ids_db\"\n",
    "source /opt/anaconda3/etc/profile.d/conda.sh\n",
    "conda activate metagenomics\n",
    "ls $1/*fna | while read line; \n",
    "do \n",
    "    base=$(echo $line|cut -d'_' --complement -s -f1,2,3 |cut -d'.' -f1);\n",
    "    #base=$(basename ${line} .fna)\n",
    "    bowtie2-build $line $2$base;\n",
    "    echo \"$base\" >> $3\n",
    "done"
   ]
  },
  {
   "cell_type": "code",
   "execution_count": 5,
   "id": "24ef3deb",
   "metadata": {},
   "outputs": [
    {
     "data": {
      "text/plain": [
       "['capsici_1101',\n",
       " 'insidiosus_ATCC_10253',\n",
       " 'michi_contigs',\n",
       " 'nebraskensis_419B',\n",
       " 'sepedonicus_ATCC33113',\n",
       " 'tessellarius_ATCC_33566']"
      ]
     },
     "execution_count": 5,
     "metadata": {},
     "output_type": "execute_result"
    }
   ],
   "source": [
    "contenido = list(os.listdir(ruta_genomas))\n",
    "contenido = [na for na in contenido if \"fna\" in na]\n",
    "contenido.sort()\n",
    "contenido\n",
    "contenido_names = [contenido[i][32:-4] for i in range(len(contenido))]\n",
    "contenido_names\n"
   ]
  },
  {
   "cell_type": "code",
   "execution_count": 6,
   "id": "6d0c53cd",
   "metadata": {},
   "outputs": [],
   "source": [
    "for folder1 in contenido_names:\n",
    "    os.makedirs(ruta_output_bowtie +folder1)\n",
    "    os.makedirs(ruta_output_bowtie +folder1+'/sam')\n",
    "    os.makedirs(ruta_output_bowtie +folder1+'/sorted')\n",
    "  "
   ]
  },
  {
   "cell_type": "markdown",
   "id": "faa3a23a",
   "metadata": {},
   "source": [
    "## Correr bowtie"
   ]
  },
  {
   "cell_type": "code",
   "execution_count": null,
   "id": "00c54513",
   "metadata": {},
   "outputs": [],
   "source": [
    "%%bash -s \"$ruta_reads\" \"$ruta_db\" \"$ruta_ids_db\" \"$ruta_output_bowtie\"\n",
    "source /opt/anaconda3/etc/profile.d/conda.sh\n",
    "conda activate metagenomics\n",
    "ls $1*R1.fastq.gz | while read lectura\n",
    "do\n",
    "    id=$(basename ${lectura} _R1.fastq.gz)\n",
    "    cat $3 | while read line\n",
    "    do\n",
    "        bowtie2 -x $2$line -1 $1${id}_R1.fastq.gz -2 $1${id}_R2.fastq.gz --no-unal -p 12 -S $4$id/sam/TP_${id}_to_${line}.sam  \n",
    "    done\n",
    "done;"
   ]
  },
  {
   "cell_type": "markdown",
   "id": "ef12315f-5732-42ef-ad1e-8b1bba2670ca",
   "metadata": {},
   "source": [
    "Ordenar los archivos `sam`"
   ]
  },
  {
   "cell_type": "code",
   "execution_count": 8,
   "id": "bcd8f8d9",
   "metadata": {},
   "outputs": [],
   "source": [
    "for i in contenido_names:\n",
    "    p=list(os.listdir(ruta_output_bowtie+i+\"/sam/\"))\n",
    "    for j in p:\n",
    "        pysam.sort(\"-o\", ruta_output_bowtie+i+\"/sorted/\"+j, ruta_output_bowtie+i+\"/sam/\"+j)"
   ]
  },
  {
   "cell_type": "markdown",
   "id": "a508de97-0f75-4b49-831a-b1f5c819cd97",
   "metadata": {},
   "source": [
    "# Construir CSV"
   ]
  },
  {
   "cell_type": "code",
   "execution_count": 11,
   "id": "50c873cc-f253-4c22-b1d6-a90cae491306",
   "metadata": {},
   "outputs": [],
   "source": [
    "for i in contenido_names:\n",
    "    df=[]\n",
    "    p=list(listdir_nohidden(ruta_output_bowtie+i+\"/sorted/\"))\n",
    "    for j in p:\n",
    "        samfile = pysam.AlignmentFile(ruta_output_bowtie+i+\"/sorted/\"+j, \"rb\")\n",
    "        dftt=[]\n",
    "        for read in samfile.fetch():\n",
    "            r=str(read).split(\"\\t\")\n",
    "            dftt.append(r[:6])\n",
    "        samfile.close()\n",
    "        dftt=pd.DataFrame(dftt, columns=['Qname','Flag', 'Rname', 'Pos','MapQ','CIGAR'])\n",
    "        dftt['Organims']=j.split(\"_to_\")[1].split(\".\")[0]\n",
    "        df.append(dftt)\n",
    "    df=pd.concat(df)\n",
    "    df.to_csv(ruta_output_bowtie+'CSV/'+i+\".csv\")\n",
    "        "
   ]
  }
 ],
 "metadata": {
  "kernelspec": {
   "display_name": "Python 3 (ipykernel)",
   "language": "python",
   "name": "python3"
  },
  "language_info": {
   "codemirror_mode": {
    "name": "ipython",
    "version": 3
   },
   "file_extension": ".py",
   "mimetype": "text/x-python",
   "name": "python",
   "nbconvert_exporter": "python",
   "pygments_lexer": "ipython3",
   "version": "3.7.12"
  }
 },
 "nbformat": 4,
 "nbformat_minor": 5
}
