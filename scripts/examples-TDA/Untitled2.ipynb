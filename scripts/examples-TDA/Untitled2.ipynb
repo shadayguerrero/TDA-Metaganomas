{
 "cells": [
  {
   "cell_type": "code",
   "execution_count": 2,
   "id": "c09e78be-7cb3-4593-aaff-938a66e4b31a",
   "metadata": {},
   "outputs": [],
   "source": [
    "import pandas as pd\n",
    "import seaborn as sb\n",
    "import csv\n",
    "from sympy import FiniteSet\n",
    "\n",
    "#import pysam\n",
    "import os\n",
    "import math\n",
    "import random\n",
    "import numpy as np"
   ]
  },
  {
   "cell_type": "code",
   "execution_count": 11,
   "id": "4805faba-7ed1-4719-a538-7126fe24439b",
   "metadata": {},
   "outputs": [
    {
     "name": "stdout",
     "output_type": "stream",
     "text": [
      "1.36\n",
      "1.0\n",
      "0.68\n",
      "0.5\n",
      "0.37\n",
      "0.36\n",
      "0.0\n",
      "[frozenset({0})]\n"
     ]
    }
   ],
   "source": [
    "import numpy as np\n",
    "\n",
    "def get_fvalues(Dy):\n",
    "    fvalues = []\n",
    "\n",
    "    for dx in Dy:\n",
    "        fvalues.extend(dx)\n",
    "\n",
    "    return sorted(np.unique(fvalues), reverse=True) # returns sorted unique values\n",
    "\n",
    "def example():\n",
    "\n",
    "    Xs = [0, 1, 2]\n",
    "    Y = [[0],       #A = 001\n",
    "         [1],       #B = 010\n",
    "         [2],       #C = 100\n",
    "         [0,1],     #A,B = 011\n",
    "         [0,2],     #A,C = 101\n",
    "         [1,2],     #B,C = 110\n",
    "         [0,1,2]]   #A,B,C = 111\n",
    "\n",
    "    Dy = [[1.36, 0, 0],       #A\n",
    "         [0, 1, 0],           #B\n",
    "         [0, 0, 1],           #C\n",
    "         [0.68, 0.68, 0],     #A,B\n",
    "         [0.5, 0, 0.5],       #A,C\n",
    "         [0, 0, 0],           #B,C\n",
    "         [0.36, 0.36, 0.37]]  #A,B, C\n",
    "    T = get_fvalues(Dy)\n",
    "    maxT = max(T) # esto es para invertir los fvalues al añadirlos a gudhi\n",
    "    Yt = {}\n",
    "\n",
    "    for t in T:\n",
    "        print(t)\n",
    "        if t not in Yt:\n",
    "            Yt.update({t: []})\n",
    "        for i, dy in enumerate(Dy):\n",
    "            for j, dx in enumerate(dy):\n",
    "                if dx >= t:\n",
    "                    frznYt = frozenset(Y[i]) # set\n",
    "                    if frznYt not in Yt[t]:\n",
    "                        Yt[t].append(frznYt)\n",
    "                    for xs in Yt[t]:\n",
    "                        if xs != frznYt:\n",
    "                            inter = xs.intersection(frznYt)\n",
    "                            if len(inter) > 0 and len(inter)== min(len(frznYt), len(xs)):\n",
    "                                result = set([frznYt, frozenset(inter)])\n",
    "                                if result not in Yt[t]:\n",
    "                                    Yt[t].append(result)\n",
    "\n",
    "    #print(Yt)\n",
    "    print(Yt[1.36])\n",
    "\n",
    "\n",
    "if __name__ == '__main__':\n",
    "    example()\n"
   ]
  },
  {
   "cell_type": "code",
   "execution_count": 9,
   "id": "8710f963-7ade-44cc-acb6-c566277b0eac",
   "metadata": {},
   "outputs": [
    {
     "ename": "NameError",
     "evalue": "name 'Yt' is not defined",
     "output_type": "error",
     "traceback": [
      "\u001b[0;31m---------------------------------------------------------------------------\u001b[0m",
      "\u001b[0;31mNameError\u001b[0m                                 Traceback (most recent call last)",
      "\u001b[0;32m<ipython-input-9-339ed2b60f8e>\u001b[0m in \u001b[0;36m<module>\u001b[0;34m\u001b[0m\n\u001b[0;32m----> 1\u001b[0;31m \u001b[0mYt\u001b[0m\u001b[0;34m[\u001b[0m\u001b[0;36m0\u001b[0m\u001b[0;34m]\u001b[0m\u001b[0;34m\u001b[0m\u001b[0;34m\u001b[0m\u001b[0m\n\u001b[0m",
      "\u001b[0;31mNameError\u001b[0m: name 'Yt' is not defined"
     ]
    }
   ],
   "source": []
  }
 ],
 "metadata": {
  "kernelspec": {
   "display_name": "Python 3",
   "language": "python",
   "name": "python3"
  },
  "language_info": {
   "codemirror_mode": {
    "name": "ipython",
    "version": 3
   },
   "file_extension": ".py",
   "mimetype": "text/x-python",
   "name": "python",
   "nbconvert_exporter": "python",
   "pygments_lexer": "ipython3",
   "version": "3.8.8"
  }
 },
 "nbformat": 4,
 "nbformat_minor": 5
}
