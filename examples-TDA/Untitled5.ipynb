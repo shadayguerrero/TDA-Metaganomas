{
 "cells": [
  {
   "cell_type": "code",
   "execution_count": 6,
   "id": "3158054c",
   "metadata": {},
   "outputs": [
    {
     "ename": "TypeError",
     "evalue": "number of elements must be an integer, not Set partitions of {1, 2, 3}",
     "output_type": "error",
     "traceback": [
      "\u001b[0;31m---------------------------------------------------------------------------\u001b[0m",
      "\u001b[0;31mTypeError\u001b[0m                                 Traceback (most recent call last)",
      "File \u001b[0;32m/home/betterlab/sage/src/sage/combinat/posets/poset_examples.py:286\u001b[0m, in \u001b[0;36mPosets.ChainPoset\u001b[0;34m(n, facade)\u001b[0m\n\u001b[1;32m    285\u001b[0m \u001b[38;5;28;01mtry\u001b[39;00m:\n\u001b[0;32m--> 286\u001b[0m     n \u001b[38;5;241m=\u001b[39m \u001b[43mInteger\u001b[49m\u001b[43m(\u001b[49m\u001b[43mn\u001b[49m\u001b[43m)\u001b[49m\n\u001b[1;32m    287\u001b[0m \u001b[38;5;28;01mexcept\u001b[39;00m \u001b[38;5;167;01mTypeError\u001b[39;00m:\n",
      "File \u001b[0;32m/home/betterlab/sage/src/sage/rings/integer.pyx:717\u001b[0m, in \u001b[0;36msage.rings.integer.Integer.__init__\u001b[0;34m()\u001b[0m\n\u001b[1;32m    716\u001b[0m \n\u001b[0;32m--> 717\u001b[0m                 raise TypeError(\"unable to coerce %s to an integer\" % type(x))\n\u001b[1;32m    718\u001b[0m \n",
      "\u001b[0;31mTypeError\u001b[0m: unable to coerce <class 'sage.combinat.set_partition.SetPartitions_set_with_category'> to an integer",
      "\nDuring handling of the above exception, another exception occurred:\n",
      "\u001b[0;31mTypeError\u001b[0m                                 Traceback (most recent call last)",
      "Input \u001b[0;32mIn [6]\u001b[0m, in \u001b[0;36m<cell line: 3>\u001b[0;34m()\u001b[0m\n\u001b[1;32m      1\u001b[0m P \u001b[38;5;241m=\u001b[39m SetPartitions(Integer(\u001b[38;5;241m3\u001b[39m))\n\u001b[1;32m      2\u001b[0m P\n\u001b[0;32m----> 3\u001b[0m \u001b[43mposets\u001b[49m\u001b[38;5;241;43m.\u001b[39;49m\u001b[43mChainPoset\u001b[49m\u001b[43m(\u001b[49m\u001b[43mP\u001b[49m\u001b[43m)\u001b[49m\n",
      "File \u001b[0;32m/home/betterlab/sage/src/sage/combinat/posets/poset_examples.py:288\u001b[0m, in \u001b[0;36mPosets.ChainPoset\u001b[0;34m(n, facade)\u001b[0m\n\u001b[1;32m    286\u001b[0m     n \u001b[38;5;241m=\u001b[39m Integer(n)\n\u001b[1;32m    287\u001b[0m \u001b[38;5;28;01mexcept\u001b[39;00m \u001b[38;5;167;01mTypeError\u001b[39;00m:\n\u001b[0;32m--> 288\u001b[0m     \u001b[38;5;28;01mraise\u001b[39;00m \u001b[38;5;167;01mTypeError\u001b[39;00m(\u001b[38;5;124m\"\u001b[39m\u001b[38;5;124mnumber of elements must be an integer, not \u001b[39m\u001b[38;5;132;01m{0}\u001b[39;00m\u001b[38;5;124m\"\u001b[39m\u001b[38;5;241m.\u001b[39mformat(n))\n\u001b[1;32m    289\u001b[0m \u001b[38;5;28;01mif\u001b[39;00m n \u001b[38;5;241m<\u001b[39m \u001b[38;5;241m0\u001b[39m:\n\u001b[1;32m    290\u001b[0m     \u001b[38;5;28;01mraise\u001b[39;00m \u001b[38;5;167;01mValueError\u001b[39;00m(\u001b[38;5;124m\"\u001b[39m\u001b[38;5;124mnumber of elements must be non-negative, not \u001b[39m\u001b[38;5;132;01m{0}\u001b[39;00m\u001b[38;5;124m\"\u001b[39m\u001b[38;5;241m.\u001b[39mformat(n))\n",
      "\u001b[0;31mTypeError\u001b[0m: number of elements must be an integer, not Set partitions of {1, 2, 3}"
     ]
    }
   ],
   "source": [
    "P = SetPartitions(3)\n",
    "P\n",
    "posets.ChainPoset(P)"
   ]
  }
 ],
 "metadata": {
  "kernelspec": {
   "display_name": "SageMath 9.7",
   "language": "sage",
   "name": "sagemath"
  },
  "language_info": {
   "codemirror_mode": {
    "name": "ipython",
    "version": 3
   },
   "file_extension": ".py",
   "mimetype": "text/x-python",
   "name": "python",
   "nbconvert_exporter": "python",
   "pygments_lexer": "ipython3",
   "version": "3.8.10"
  }
 },
 "nbformat": 4,
 "nbformat_minor": 5
}
