{
 "cells": [
  {
   "cell_type": "markdown",
   "id": "b3dbd0c5-9244-4334-be12-6907ca7aef3f",
   "metadata": {},
   "source": [
    "from itertools import chain, combinations\n",
    "\n",
    "def powerset(iterable):\n",
    "    # Función auxiliar para obtener todos los subconjuntos de un conjunto\n",
    "    s = list(iterable)\n",
    "    return chain.from_iterable(combinations(s, r) for r in range(len(s)+1))\n",
    "\n",
    "def chains(X):\n",
    "    # Función que devuelve las cadenas de un conjunto parcialmente ordenado\n",
    "    P = list(powerset(X))\n",
    "    P.sort(key=len)  # Ordenamos los subconjuntos por tamaño\n",
    "    chains = [[] for _ in range(len(P))]  # Creamos una lista vacía por cada subconjunto\n",
    "    chains[0] = [set()]  # La cadena vacía es el primer elemento\n",
    "    for i in range(1, len(P)):\n",
    "        for j in range(i):\n",
    "            if set(P[j]).issubset(set(P[i])):\n",
    "                chains[i].append(set(P[j]))\n",
    "    return chains\n",
    "\n",
    "if __name__ == '__main__':\n",
    "    X = {1, 2, 3,4}\n",
    "    C = chains(X)\n",
    "    print(\"Cadenas de 2^X ordenadas por inclusión:\")\n",
    "    for c in C:\n",
    "        print(c)\n"
   ]
  },
  {
   "cell_type": "code",
   "execution_count": null,
   "id": "0d1f11e8-acb9-4cfa-aa70-5c86f7688a78",
   "metadata": {},
   "outputs": [],
   "source": []
  },
  {
   "cell_type": "code",
   "execution_count": 7,
   "id": "f13b3781-cdb0-40d7-bda4-76eab2a65adf",
   "metadata": {},
   "outputs": [],
   "source": [
    "from itertools import chain, combinations\n",
    "\n",
    "def powerset(iterable):\n",
    "    s = list(iterable)\n",
    "    return chain.from_iterable(combinations(s, r) for r in range(len(s) + 1))\n",
    "\n",
    "def Delta_X_d(X, a, l, t):\n",
    "    Delta_X = list(powerset(X))\n",
    "    Delta_X_d_t = []\n",
    "    for Y in Delta_X:\n",
    "        Y_d = set(Y)\n",
    "        for i in range(len(Y)):\n",
    "            X_i = Y[i]\n",
    "            d_X_i = a[Y]/l[Y][X_i]\n",
    "            if d_X_i < t:\n",
    "                Y_d.discard(X_i)\n",
    "        if Y_d:\n",
    "            Delta_X_d_t.append(tuple(Y_d))\n",
    "    return set(Delta_X_d_t)\n"
   ]
  },
  {
   "cell_type": "code",
   "execution_count": null,
   "id": "3ac82e21-1272-4abf-baf2-ab897e50b241",
   "metadata": {},
   "outputs": [],
   "source": []
  },
  {
   "cell_type": "markdown",
   "id": "b8845fb1-01a6-40b4-8f29-f27e501417e1",
   "metadata": {},
   "source": [
    "Para utilizar este código, proporciona los siguientes parámetros:\n",
    "\n",
    "X: una lista o conjunto de elementos que representan los vértices del complejo simplicial $\\Delta_X$.\n",
    "a: un diccionario cuyas claves son subconjuntos de $X$ y cuyos valores son la suma de las longitudes de los reads en $S_Y$ para cada subconjunto $Y \\subseteq X$.\n",
    "l: un diccionario anidado cuyas claves son subconjuntos de $X$ y cuyos valores son diccionarios que asignan a cada vértice de $X$ la longitud del genoma de ese vértice cubierto por los reads en $S_Y$ para cada subconjunto $Y \\subseteq X$.\n",
    "t: un valor numérico que representa el valor umbral para la función $d_Y$.\n",
    "El código devuelve el conjunto de vértices de $\\Delta'_ {X,d} (t)$ en forma de tuplas. Cada tupla contiene los vértices en un orden específico, según la inclusión en subconjuntos.\n",
    "\n"
   ]
  },
  {
   "cell_type": "code",
   "execution_count": 13,
   "id": "adb851c0-9b4d-4b6d-99f0-c7e8b85fa7d3",
   "metadata": {},
   "outputs": [
    {
     "data": {
      "text/plain": [
       "[(),\n",
       " ('A',),\n",
       " ('B',),\n",
       " ('C',),\n",
       " ('A', 'B'),\n",
       " ('A', 'C'),\n",
       " ('B', 'C'),\n",
       " ('A', 'B', 'C')]"
      ]
     },
     "execution_count": 13,
     "metadata": {},
     "output_type": "execute_result"
    }
   ],
   "source": [
    "X=[\"A\",\"B\",\"C\"]\n",
    "list(powerset(X))"
   ]
  }
 ],
 "metadata": {
  "kernelspec": {
   "display_name": "Python 3 (ipykernel)",
   "language": "python",
   "name": "python3"
  },
  "language_info": {
   "codemirror_mode": {
    "name": "ipython",
    "version": 3
   },
   "file_extension": ".py",
   "mimetype": "text/x-python",
   "name": "python",
   "nbconvert_exporter": "python",
   "pygments_lexer": "ipython3",
   "version": "3.8.12"
  }
 },
 "nbformat": 4,
 "nbformat_minor": 5
}
