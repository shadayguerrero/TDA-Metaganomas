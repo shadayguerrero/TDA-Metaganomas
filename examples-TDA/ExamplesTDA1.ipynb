{
 "cells": [
  {
   "cell_type": "code",
   "execution_count": 1,
   "id": "9bf106f6-de92-494f-9aad-a0609244ac54",
   "metadata": {},
   "outputs": [],
   "source": [
    "from IPython.display import Image\n",
    "from os import chdir\n",
    "import numpy as np\n",
    "import gudhi as gd\n",
    "import matplotlib.pyplot as plt\n",
    "import argparse\n"
   ]
  },
  {
   "cell_type": "markdown",
   "id": "5ddb8b8a-bd33-4b01-b2b4-f70ffdf4d642",
   "metadata": {},
   "source": [
    "Crear un simplex tree basio, para luego ir agregando los simplejos"
   ]
  },
  {
   "cell_type": "code",
   "execution_count": 68,
   "id": "3f1b519e-a6ee-4992-8608-bfb187d1eced",
   "metadata": {},
   "outputs": [],
   "source": [
    "st = gd.SimplexTree()\n"
   ]
  },
  {
   "cell_type": "code",
   "execution_count": 69,
   "id": "3c19eb7c-a17e-435a-b518-5f61b7ffbf3c",
   "metadata": {},
   "outputs": [
    {
     "data": {
      "text/plain": [
       "True"
      ]
     },
     "execution_count": 69,
     "metadata": {},
     "output_type": "execute_result"
    }
   ],
   "source": [
    "st.insert([0, 1],filtration=0.0)\n",
    "st.insert([0, 2],filtration=0.0)\n",
    "st.insert([0, 3],filtration=0.0)\n",
    "st.insert([1, 2],filtration=0.0)\n",
    "st.insert([1, 3],filtration=0.0)\n",
    "st.insert([2, 3],filtration=0.0)\n",
    "\n",
    "st.insert([0, 1, 2], filtration=1)\n",
    "st.insert([ 1, 2,3], filtration=1.5)\n",
    "st.insert([ 0, 1,3], filtration=1.5)\n",
    "st.insert([ 0, 2,3], filtration=1.5)\n",
    "#st.insert([0,1,2,3],filtration=2)"
   ]
  },
  {
   "cell_type": "code",
   "execution_count": 74,
   "id": "f5284150-1b4a-4e07-9ffb-4a1bebd4bd69",
   "metadata": {},
   "outputs": [
    {
     "data": {
      "text/plain": [
       "7"
      ]
     },
     "execution_count": 74,
     "metadata": {},
     "output_type": "execute_result"
    }
   ],
   "source": [
    "st.num_simplices()"
   ]
  },
  {
   "cell_type": "code",
   "execution_count": 68,
   "id": "834e0644-fd95-4480-aa12-7db99b2e00e2",
   "metadata": {},
   "outputs": [
    {
     "data": {
      "text/plain": [
       "4"
      ]
     },
     "execution_count": 68,
     "metadata": {},
     "output_type": "execute_result"
    }
   ],
   "source": [
    "st.num_vertices()"
   ]
  },
  {
   "cell_type": "code",
   "execution_count": 39,
   "id": "accf19a8-680c-456b-a934-4230c65bac6a",
   "metadata": {},
   "outputs": [
    {
     "data": {
      "text/plain": [
       "True"
      ]
     },
     "execution_count": 39,
     "metadata": {},
     "output_type": "execute_result"
    }
   ],
   "source": [
    "st.insert([4],filtration=0.5)"
   ]
  },
  {
   "cell_type": "code",
   "execution_count": 70,
   "id": "4c45f2b6-865d-4713-a850-173d7b82a50f",
   "metadata": {},
   "outputs": [
    {
     "data": {
      "text/plain": [
       "[(1, (0.0, 1.5)), (1, (0.0, 1.5)), (1, (0.0, 1.0)), (0, (0.0, inf))]"
      ]
     },
     "execution_count": 70,
     "metadata": {},
     "output_type": "execute_result"
    }
   ],
   "source": [
    "st.persistence()"
   ]
  },
  {
   "cell_type": "code",
   "execution_count": 71,
   "id": "57d21eff-db47-457a-819a-0a0ea440cf14",
   "metadata": {},
   "outputs": [
    {
     "data": {
      "text/plain": [
       "[([2, 1], [2, 1, 0]), ([3, 1], [3, 1, 0]), ([3, 2], [3, 2, 0]), ([0], [])]"
      ]
     },
     "execution_count": 71,
     "metadata": {},
     "output_type": "execute_result"
    }
   ],
   "source": [
    "st.persistence_pairs()"
   ]
  },
  {
   "cell_type": "code",
   "execution_count": 53,
   "id": "d194dc06-fda7-4251-892e-01fb97671feb",
   "metadata": {},
   "outputs": [],
   "source": [
    "st.get_filtration()\n",
    "st.compute_persistence()\n"
   ]
  },
  {
   "cell_type": "code",
   "execution_count": 26,
   "id": "01639565-793f-4a16-8a07-372780322977",
   "metadata": {},
   "outputs": [
    {
     "data": {
      "text/plain": [
       "True"
      ]
     },
     "execution_count": 26,
     "metadata": {},
     "output_type": "execute_result"
    }
   ],
   "source": [
    "st.insert([0],filtration=32)"
   ]
  },
  {
   "cell_type": "code",
   "execution_count": 55,
   "id": "cf9b0677-1f08-4037-8cf1-6207ab7c170a",
   "metadata": {},
   "outputs": [
    {
     "data": {
      "text/plain": [
       "True"
      ]
     },
     "execution_count": 55,
     "metadata": {},
     "output_type": "execute_result"
    }
   ],
   "source": [
    "#agregar 0-simplejos\n",
    "st.insert([0])\n",
    "st.insert([1])\n",
    "st.insert([2])\n",
    "st.insert([3])\n",
    "st.insert([4])\n"
   ]
  },
  {
   "cell_type": "code",
   "execution_count": 56,
   "id": "7f76b89f-f76e-4210-8768-7b7afa66665d",
   "metadata": {},
   "outputs": [
    {
     "data": {
      "text/plain": [
       "True"
      ]
     },
     "execution_count": 56,
     "metadata": {},
     "output_type": "execute_result"
    }
   ],
   "source": [
    "#agregar la arista 0-2 en la filtracion 1\n",
    "st.insert([0, 2],filtration=1.0)\n",
    "st.insert([3, 4],filtration=1.0)"
   ]
  },
  {
   "cell_type": "code",
   "execution_count": 57,
   "id": "183529ea-dfac-4b85-b188-bcdbd7d0cea2",
   "metadata": {},
   "outputs": [
    {
     "data": {
      "text/plain": [
       "True"
      ]
     },
     "execution_count": 57,
     "metadata": {},
     "output_type": "execute_result"
    }
   ],
   "source": [
    "st.insert([0, 1],filtration=2.0)"
   ]
  },
  {
   "cell_type": "code",
   "execution_count": 58,
   "id": "3a787c0d-719d-4d12-a178-1403f13f872b",
   "metadata": {},
   "outputs": [
    {
     "data": {
      "text/plain": [
       "True"
      ]
     },
     "execution_count": 58,
     "metadata": {},
     "output_type": "execute_result"
    }
   ],
   "source": [
    "st.insert([1, 2],filtration=3.0)"
   ]
  },
  {
   "cell_type": "code",
   "execution_count": 59,
   "id": "7b34162e-022a-4c18-a469-3c8d8d06dae0",
   "metadata": {},
   "outputs": [
    {
     "data": {
      "text/plain": [
       "True"
      ]
     },
     "execution_count": 59,
     "metadata": {},
     "output_type": "execute_result"
    }
   ],
   "source": [
    "st.insert([0, 1,2],filtration=4.0)"
   ]
  },
  {
   "cell_type": "code",
   "execution_count": 60,
   "id": "3868f2bc-e19e-4a08-9475-bbe631b6553d",
   "metadata": {},
   "outputs": [
    {
     "data": {
      "text/plain": [
       "5"
      ]
     },
     "execution_count": 60,
     "metadata": {},
     "output_type": "execute_result"
    }
   ],
   "source": [
    "st.num_vertices()"
   ]
  },
  {
   "cell_type": "code",
   "execution_count": 61,
   "id": "a7008479-9c20-4f47-b11b-3a41eeb00ec0",
   "metadata": {},
   "outputs": [
    {
     "data": {
      "text/plain": [
       "10"
      ]
     },
     "execution_count": 61,
     "metadata": {},
     "output_type": "execute_result"
    }
   ],
   "source": [
    "st.num_simplices()"
   ]
  },
  {
   "cell_type": "code",
   "execution_count": 62,
   "id": "265ef000-637a-4fe2-9382-dcedb4311a1b",
   "metadata": {},
   "outputs": [
    {
     "name": "stdout",
     "output_type": "stream",
     "text": [
      "([0, 1, 2], 4.0)\n",
      "([0, 1], 2.0)\n",
      "([0, 2], 1.0)\n",
      "([0], 0.0)\n",
      "([1, 2], 3.0)\n",
      "([1], 0.0)\n",
      "([2], 0.0)\n",
      "([3, 4], 1.0)\n",
      "([3], 0.0)\n",
      "([4], 0.0)\n"
     ]
    }
   ],
   "source": [
    "for sk_value in st.get_skeleton(2):\n",
    "    print(sk_value)"
   ]
  },
  {
   "cell_type": "code",
   "execution_count": 36,
   "id": "8ccc748c-764c-4109-bdfe-709ee6139e2a",
   "metadata": {},
   "outputs": [],
   "source": [
    "st.compute_persistence()"
   ]
  },
  {
   "cell_type": "code",
   "execution_count": 63,
   "id": "30ba63b7-18a9-4834-88a7-90939673525c",
   "metadata": {},
   "outputs": [
    {
     "data": {
      "text/plain": [
       "[(1, (3.0, 4.0)),\n",
       " (0, (0.0, inf)),\n",
       " (0, (0.0, inf)),\n",
       " (0, (0.0, 2.0)),\n",
       " (0, (0.0, 1.0)),\n",
       " (0, (0.0, 1.0))]"
      ]
     },
     "execution_count": 63,
     "metadata": {},
     "output_type": "execute_result"
    }
   ],
   "source": [
    "st.persistence()"
   ]
  },
  {
   "cell_type": "code",
   "execution_count": null,
   "id": "317f9cd4-5bcf-40d4-bc4c-6576ddb9ef9f",
   "metadata": {},
   "outputs": [],
   "source": []
  },
  {
   "cell_type": "code",
   "execution_count": 67,
   "id": "6e3aceae-8c68-4136-ac59-acd388734747",
   "metadata": {},
   "outputs": [
    {
     "name": "stdout",
     "output_type": "stream",
     "text": [
      "diag= [(1, (3.0, 4.0)), (0, (0.0, inf)), (0, (0.0, inf)), (0, (0.0, 2.0)), (0, (0.0, 1.0)), (0, (0.0, 1.0))]\n"
     ]
    },
    {
     "data": {
      "image/png": "[encoded data removed]",
      "text/plain": [
       "<Figure size 640x480 with 1 Axes>"
      ]
     },
     "metadata": {},
     "output_type": "display_data"
    }
   ],
   "source": [
    "diag = st.persistence()\n",
    "diag = st.persistence(homology_coeff_field=2, min_persistence=0)\n",
    "print(\"diag=\", diag)\n",
    "\n",
    "gd.plot_persistence_diagram(diag,legend=True)\n",
    "\n",
    "#plt.grid(color = 'black', linestyle = '-', linewidth = 1)\n",
    "plt.savefig('persistencediagram.png' , dpi=600, transparent=True)\n",
    "plt.xticks(size=15)\n",
    "plt.yticks(size=15)\n",
    "plt.show()"
   ]
  },
  {
   "cell_type": "code",
   "execution_count": 39,
   "id": "5a2dfdb3-64ff-4651-a501-ed111d09543d",
   "metadata": {},
   "outputs": [
    {
     "data": {
      "image/png": "[encoded data removed]",
      "text/plain": [
       "<Figure size 640x480 with 1 Axes>"
      ]
     },
     "metadata": {},
     "output_type": "display_data"
    }
   ],
   "source": [
    "gd.plot_persistence_barcode(diag,legend=True)\n",
    "#plt.savefig('persistence_barcode.svg' , dpi=1200)\n",
    "#plt.grid(color = 'black', linestyle = '-', linewidth = 1)\n",
    "plt.savefig('persistencebar.png' , dpi=600, transparent=True)\n",
    "plt.xticks(size=15)\n",
    "plt.yticks(size=15)\n",
    "plt.show()"
   ]
  }
 ],
 "metadata": {
  "kernelspec": {
   "display_name": "Python 3 (ipykernel)",
   "language": "python",
   "name": "python3"
  },
  "language_info": {
   "codemirror_mode": {
    "name": "ipython",
    "version": 3
   },
   "file_extension": ".py",
   "mimetype": "text/x-python",
   "name": "python",
   "nbconvert_exporter": "python",
   "pygments_lexer": "ipython3",
   "version": "3.7.12"
  }
 },
 "nbformat": 4,
 "nbformat_minor": 5
}
