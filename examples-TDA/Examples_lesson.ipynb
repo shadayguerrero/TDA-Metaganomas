{
 "cells": [
  {
   "attachments": {},
   "cell_type": "markdown",
   "id": "c5372433-9ce5-4d3c-a028-d355b4259406",
   "metadata": {},
   "source": [
    "# **Introduction to GUDHI and Simplicial Homology**\n",
    "\n",
    "Welcome to this lesson on using GUDHI and exploring simplicial homology. GUDHI (Geometry Understanding in Higher Dimensions) is an open-source C++ library that provides algorithms and data structures for the analysis of geometric data. It offers a wide range of tools for topological data analysis, including simplicial complexes and computations of their homology.\n",
    "## **1. Library**"
   ]
  },
  {
   "cell_type": "code",
   "execution_count": 12,
   "id": "8f2d235f-4d69-4d45-a2ac-5c8f0b1a4380",
   "metadata": {},
   "outputs": [],
   "source": [
    "from IPython.display import Image\n",
    "from os import chdir\n",
    "import numpy as np\n",
    "import gudhi as gd\n",
    "import matplotlib.pyplot as plt\n",
    "import argparse\n"
   ]
  },
  {
   "attachments": {},
   "cell_type": "markdown",
   "id": "2529cb65-b41f-4016-bb58-849fae318d9d",
   "metadata": {},
   "source": [
    "## **Example 1:** SimplexTree and Manual Filtration\n",
    "The SimplexTree data structure in GUDHI allows efficient manipulation of simplicial complexes. You can demonstrate its usage by creating a SimplexTree object, adding simplices manually, and then filtering the complex based on a filtration value."
   ]
  },
  {
   "attachments": {},
   "cell_type": "markdown",
   "id": "220a0d2a-b1c1-44f6-afd7-13d057a2ec3d",
   "metadata": {},
   "source": [
    "With the following command, you can create a SimplexTree object named ´st´, which we will use to add the information of your filtered simplicial complex:"
   ]
  },
  {
   "cell_type": "code",
   "execution_count": 2,
   "id": "50f9a012-8c39-49ec-a97d-9c3df3804cf8",
   "metadata": {},
   "outputs": [],
   "source": [
    "st = gd.SimplexTree()  ## "
   ]
  },
  {
   "attachments": {},
   "cell_type": "markdown",
   "id": "de4bbc20-4c85-496c-b5e7-9b612eff8ea2",
   "metadata": {},
   "source": [
    "In GUDHI, you can use the 'st.insert()' function to add simplices to a SimplexTree data structure. Additionally, you have the flexibility to specify the filtration level of each simplex. If no filtration level is specified, it is assumed to be added at filtration time 0."
   ]
  },
  {
   "cell_type": "code",
   "execution_count": 8,
   "id": "27d5bda1-7741-4d47-8997-ba3519a3e4c4",
   "metadata": {},
   "outputs": [
    {
     "data": {
      "text/plain": [
       "False"
      ]
     },
     "execution_count": 8,
     "metadata": {},
     "output_type": "execute_result"
    }
   ],
   "source": [
    "#insert 0-simplex (the vertex), \n",
    "st.insert([0])\n",
    "st.insert([1])\n"
   ]
  },
  {
   "attachments": {},
   "cell_type": "markdown",
   "id": "127e0813-2169-47ad-bacc-96b8dd81a8f4",
   "metadata": {},
   "source": [
    "Now let's insert 1-simplices at different filtration levels. If adding a simplex requires a lower-dimensional simplex to be present, the missing simplices will be automatically completed.\n",
    "\n",
    "Here's an example of inserting 1-simplices into the SimplexTree at various filtration levels:"
   ]
  },
  {
   "cell_type": "code",
   "execution_count": 9,
   "id": "9617efae-644b-41e2-8f76-697d92a08a86",
   "metadata": {},
   "outputs": [
    {
     "data": {
      "text/plain": [
       "False"
      ]
     },
     "execution_count": 9,
     "metadata": {},
     "output_type": "execute_result"
    }
   ],
   "source": [
    "# Insert 1-simplices at different filtration levels\n",
    "st.insert([0, 1], filtration=0.5)\n",
    "st.insert([1, 2], filtration=0.8)\n",
    "st.insert([0, 2], filtration=1.2)"
   ]
  },
  {
   "attachments": {},
   "cell_type": "markdown",
   "id": "df7458c4-41b2-4949-a90c-df852decfca1",
   "metadata": {},
   "source": [
    "In the code snippet above, we create a SimplexTree object named st. We then insert three 1-simplices into the SimplexTree at filtration levels of 0.5, 0.8, and 1.2, respectively. The 1-simplices are defined by specifying their vertices as lists [v1, v2], where v1 and v2 are the indices of the vertices.\n",
    "\n",
    "If any lower-dimensional simplices are missing, GUDHI's SimplexTree will automatically complete them. For example, when inserting the 1-simplex [1, 2] at filtration level 0.8, if the 0-simplex [1] or [2] was not already present, GUDHI will add it to the SimplexTree.\n",
    "\n",
    "This approach allows you to gradually build the simplicial complex by inserting simplices at different filtration levels, and GUDHI takes care of maintaining the necessary lower-dimensional simplices.\n",
    "\n",
    "Remember to provide clear instructions and explanations for each step and encourage learners to experiment with different filtration levels and simplex insertions to gain a better understanding of how GUDHI's SimplexTree handles complex construction and completion."
   ]
  },
  {
   "attachments": {},
   "cell_type": "markdown",
   "id": "d3cdacd1-088c-4d62-8c49-8b840140849e",
   "metadata": {},
   "source": [
    "You can use the st.num_vertices() and st.num_simplices() commands to see the number of vertices and simplices, respectively, in your simplicial complex stored in the st SimplexTree object."
   ]
  },
  {
   "cell_type": "code",
   "execution_count": 10,
   "id": "8ce7d65e-cc6b-4116-9e19-57db2eb1fbf9",
   "metadata": {},
   "outputs": [
    {
     "name": "stdout",
     "output_type": "stream",
     "text": [
      "Number of vertices: 3\n",
      "Number of simplices: 6\n"
     ]
    }
   ],
   "source": [
    "num_vertices = st.num_vertices()\n",
    "num_simplices = st.num_simplices()\n",
    "\n",
    "print(\"Number of vertices:\", num_vertices)\n",
    "print(\"Number of simplices:\", num_simplices)"
   ]
  },
  {
   "attachments": {},
   "cell_type": "markdown",
   "id": "4d9f0726-1e29-4425-9d4b-668b1447e7b4",
   "metadata": {},
   "source": [
    "The st.persistence() function in GUDHI's SimplexTree is used to compute the persistence diagram of the simplicial complex. The persistence diagram provides a compact representation of the birth and death of topological features as the filtration parameter varies.\n",
    "\n",
    "Here's an example of how to use st.persistence():"
   ]
  },
  {
   "cell_type": "code",
   "execution_count": 14,
   "id": "6404a477-a06a-4aaa-a954-133bf6c9627c",
   "metadata": {},
   "outputs": [
    {
     "name": "stdout",
     "output_type": "stream",
     "text": [
      "Dimension: [1]\n",
      "Birth simplex: [1, 0]\n"
     ]
    },
    {
     "ename": "IndexError",
     "evalue": "tuple index out of range",
     "output_type": "error",
     "traceback": [
      "\u001b[0;31m---------------------------------------------------------------------------\u001b[0m",
      "\u001b[0;31mIndexError\u001b[0m                                Traceback (most recent call last)",
      "\u001b[0;32m/tmp/ipykernel_2438548/3835966768.py\u001b[0m in \u001b[0;36m<module>\u001b[0;34m\u001b[0m\n\u001b[1;32m      9\u001b[0m     \u001b[0mprint\u001b[0m\u001b[0;34m(\u001b[0m\u001b[0;34m\"Dimension:\"\u001b[0m\u001b[0;34m,\u001b[0m \u001b[0mpair\u001b[0m\u001b[0;34m[\u001b[0m\u001b[0;36m0\u001b[0m\u001b[0;34m]\u001b[0m\u001b[0;34m)\u001b[0m\u001b[0;34m\u001b[0m\u001b[0;34m\u001b[0m\u001b[0m\n\u001b[1;32m     10\u001b[0m     \u001b[0mprint\u001b[0m\u001b[0;34m(\u001b[0m\u001b[0;34m\"Birth simplex:\"\u001b[0m\u001b[0;34m,\u001b[0m \u001b[0mpair\u001b[0m\u001b[0;34m[\u001b[0m\u001b[0;36m1\u001b[0m\u001b[0;34m]\u001b[0m\u001b[0;34m)\u001b[0m\u001b[0;34m\u001b[0m\u001b[0;34m\u001b[0m\u001b[0m\n\u001b[0;32m---> 11\u001b[0;31m     \u001b[0mprint\u001b[0m\u001b[0;34m(\u001b[0m\u001b[0;34m\"Death simplex:\"\u001b[0m\u001b[0;34m,\u001b[0m \u001b[0mpair\u001b[0m\u001b[0;34m[\u001b[0m\u001b[0;36m2\u001b[0m\u001b[0;34m]\u001b[0m\u001b[0;34m)\u001b[0m\u001b[0;34m\u001b[0m\u001b[0;34m\u001b[0m\u001b[0m\n\u001b[0m\u001b[1;32m     12\u001b[0m     \u001b[0mprint\u001b[0m\u001b[0;34m(\u001b[0m\u001b[0;34m\"Persistence:\"\u001b[0m\u001b[0;34m,\u001b[0m \u001b[0mpair\u001b[0m\u001b[0;34m[\u001b[0m\u001b[0;36m2\u001b[0m\u001b[0;34m]\u001b[0m \u001b[0;34m-\u001b[0m \u001b[0mpair\u001b[0m\u001b[0;34m[\u001b[0m\u001b[0;36m1\u001b[0m\u001b[0;34m]\u001b[0m\u001b[0;34m)\u001b[0m\u001b[0;34m\u001b[0m\u001b[0;34m\u001b[0m\u001b[0m\n\u001b[1;32m     13\u001b[0m     \u001b[0mprint\u001b[0m\u001b[0;34m(\u001b[0m\u001b[0;34m)\u001b[0m\u001b[0;34m\u001b[0m\u001b[0;34m\u001b[0m\u001b[0m\n",
      "\u001b[0;31mIndexError\u001b[0m: tuple index out of range"
     ]
    }
   ],
   "source": [
    "\n",
    "# Compute the persistence diagram\n",
    "persistence_diagram = st.persistence()\n",
    "\n",
    "# Print the persistence diagram\n",
    "for point in persistence_diagram:\n",
    "    birth = point[0]\n",
    "    death = point[1]\n",
    "    print(\"Birth:\", birth)\n",
    "    print(\"Death:\", death)\n",
    "    print()"
   ]
  }
 ],
 "metadata": {
  "kernelspec": {
   "display_name": "Python 3 (ipykernel)",
   "language": "python",
   "name": "python3"
  },
  "language_info": {
   "codemirror_mode": {
    "name": "ipython",
    "version": 3
   },
   "file_extension": ".py",
   "mimetype": "text/x-python",
   "name": "python",
   "nbconvert_exporter": "python",
   "pygments_lexer": "ipython3",
   "version": "3.7.12"
  }
 },
 "nbformat": 4,
 "nbformat_minor": 5
}
