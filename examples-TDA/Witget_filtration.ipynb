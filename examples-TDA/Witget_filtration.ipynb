{
 "cells": [
  {
   "cell_type": "code",
   "execution_count": null,
   "id": "44cc1b84-db9c-41d1-89ac-d6354128e2ea",
   "metadata": {},
   "outputs": [],
   "source": [
    "import numpy as np\n",
    "import gudhi\n",
    "import matplotlib.pyplot as plt\n",
    "\n",
    "# Generar datos aleatorios\n",
    "data = np.random.random((50,2))\n",
    "\n",
    "# Calcular complejo simplicial de Vietoris-Rips\n",
    "Rips_complex = gudhi.RipsComplex(points=data, max_edge_length=0.3)\n",
    "Rips_simplex_tree = Rips_complex.create_simplex_tree(max_dimension=2)\n",
    "\n",
    "# Crear figura interactiva\n",
    "fig = plt.figure(figsize=(8,6))\n",
    "ax = fig.add_subplot(111)\n",
    "plt.subplots_adjust(bottom=0.25)\n",
    "\n",
    "# Plot inicial\n",
    "eps_init = 0.1\n",
    "triangles = np.array([s[0] for s in Rips_simplex_tree.get_skeleton(2) if len(s[0])==3 and s[1] <= eps_init])\n",
    "plt.triplot(data[:,0], data[:,1], triangles, color='gray', alpha=0.5)\n",
    "plt.scatter(data[:, 0], data[:, 1], color='black', alpha=0.5)\n",
    "plt.title(f\"Vietoris-Rips filtration with $\\epsilon={eps_init:.2f}$\")\n",
    "plt.grid(color='black', linestyle='-', linewidth=1)\n",
    "plt.xticks(size=15)\n",
    "plt.yticks(size=15)\n",
    "\n",
    "# Definir barra deslizante\n",
    "axcolor = 'lightgoldenrodyellow'\n",
    "ax_eps = plt.axes([0.2, 0.1, 0.6, 0.03], facecolor=axcolor)\n",
    "slider_eps = plt.Slider(ax_eps, 'Eps', 0.0, 0.5, valinit=eps_init)\n",
    "\n",
    "# Función de actualización de la gráfica\n",
    "def update(val):\n",
    "    eps = slider_eps.val\n",
    "    ax.clear()\n",
    "    triangles = np.array([s[0] for s in Rips_simplex_tree.get_skeleton(2) if len(s[0])==3 and s[1] <= eps])\n",
    "    plt.triplot(data[:,0], data[:,1], triangles, color='gray', alpha=0.5)\n",
    "    plt.scatter(data[:, 0], data[:, 1], color='black', alpha=0.5)\n",
    "    plt.title(f\"Vietoris-Rips filtration with $\\epsilon={eps:.2f}$\")\n",
    "    plt.grid(color='black', linestyle='-', linewidth=1)\n",
    "    plt.xticks(size=15)\n",
    "    plt.yticks(size=15)\n",
    "    \n",
    "    # Gráfico de diagrama de persistencia\n",
    "    plt.subplot(1, 2, 2)\n",
    "    persistence = Rips_simplex_tree.persistence()\n",
    "    gudhi.plot_persistence_barcode(persistence, axes=plt.gca(), legend=True)\n",
    "    plt.title(\"Persistence barcode\", size=15)\n",
    "    \n",
    "    fig.canvas.draw_idle()\n",
    "\n",
    "# Asignar función de actualización a la barra deslizante\n",
    "slider_eps.on_changed(update)\n",
    "\n",
    "\n",
    "# Mostrar gráfica inicial\n",
    "#plt.show()\n",
    "\n"
   ]
  },
  {
   "cell_type": "code",
   "execution_count": 10,
   "id": "d861e4d2-bd63-43a0-8ea0-619fdd7f8b63",
   "metadata": {},
   "outputs": [],
   "source": [
    "import numpy as np\n",
    "import gudhi\n",
    "import matplotlib.pyplot as plt\n",
    "from ipywidgets import interact, FloatSlider\n",
    "from ipywidgets import interactive\n",
    "\n",
    "# Generar los datos aleatorios\n",
    "np.random.seed(1234)\n",
    "data = np.random.uniform(size=(50,2))\n",
    "\n",
    "# Calcular la homología persistente con Vietoris-Rips\n",
    "Rips_complex = gudhi.RipsComplex(points=data, max_edge_length=0.3)\n",
    "Rips_simplex_tree = Rips_complex.create_simplex_tree(max_dimension=2)\n",
    "diag = Rips_simplex_tree.persistence()\n",
    "\n",
    "# Definir la función que muestra la gráfica para un valor dado de eps\n",
    "def plot_filtration(eps):\n",
    "    triangles = np.array([s[0] for s in Rips_simplex_tree.get_skeleton(2) if len(s[0])==3 and s[1] <= eps])\n",
    "    plt.triplot(data[:,0], data[:,1], triangles)\n",
    "    plt.plot(data[:,0], data[:,1], '.')\n",
    "    plt.title(f\"Vietoris-Rips filtration with $\\epsilon={eps:.2f}$\")\n",
    "    plt.grid(color='black', linestyle='-', linewidth=1)\n",
    "    plt.xticks(size=15)\n",
    "    plt.yticks(size=15)\n",
    "    plt.show()\n",
    "\n",
    "# Crear el slider para cambiar el valor de eps\n",
    "#eps_slider = FloatSlider(min=0, max=0.5, step=0.01, value=0)\n",
    "eps_slider = (0, 5, 0.1) # Rango y paso del slider\n",
    "# Crear la función interactiva\n",
    "#interact(plot_filtration, eps=eps_slider)\n",
    "#widgets.interactive(plot_filtration, eps=eps_slider)\n",
    "interactive_plot = interactive(plot_filtration, eps=eps_slider)\n",
    "output = interactive_plot.children[-1]\n",
    "output.layout.height = '350px'\n",
    "#interactive_plot\n",
    "\n"
   ]
  },
  {
   "cell_type": "code",
   "execution_count": null,
   "id": "0bd00775-26fb-4819-98bd-7007d140217c",
   "metadata": {},
   "outputs": [],
   "source": [
    "interactive_plot"
   ]
  },
  {
   "cell_type": "code",
   "execution_count": 11,
   "id": "f03ea6f9-cdb8-4f67-9b31-3a1d8e23f2ab",
   "metadata": {},
   "outputs": [
    {
     "data": {
      "application/vnd.jupyter.widget-view+json": {
       "model_id": "03318cf4998b4d4897ef88737fc4a8be",
       "version_major": 2,
       "version_minor": 0
      },
      "text/plain": [
       "interactive(children=(FloatSlider(value=0.1, description='$\\\\epsilon$', max=0.5, step=0.01), Output()), _dom_c…"
      ]
     },
     "execution_count": 11,
     "metadata": {},
     "output_type": "execute_result"
    }
   ],
   "source": [
    "import numpy as np\n",
    "import gudhi\n",
    "import ipywidgets as widgets\n",
    "from IPython.display import display\n",
    "import matplotlib.pyplot as plt\n",
    "from sklearn import datasets\n",
    "data, labels = datasets.make_circles(n_samples=100, noise=0.06, factor=0.3)\n",
    "\n",
    "# Generate random points\n",
    "np.random.seed(42)\n",
    "#data = np.random.random((25, 2))\n",
    "\n",
    "# Compute Vietoris-Rips complex\n",
    "Rips_complex = gudhi.RipsComplex(points=data, max_edge_length=0.1)\n",
    "Rips_simplex_tree = Rips_complex.create_simplex_tree(max_dimension=3)\n",
    "\n",
    "# # Define plot function\n",
    "# def plot_filtration(epsilon):\n",
    "#     # Compute simplex at epsilon\n",
    "#     triangles = np.array([s[0] for s in Rips_simplex_tree.get_skeleton(2) if len(s[0])==3 and s[1] <= epsilon])\n",
    "\n",
    "#     # Plot triangulation\n",
    "#     plt.figure(figsize=(8, 8))\n",
    "#     plt.triplot(data[:, 0], data[:, 1], triangles, color='black', alpha=0.5)\n",
    "#     plt.scatter(data[:, 0], data[:, 1], color='black', alpha=0.5)\n",
    "\n",
    "\n",
    "\n",
    "    \n",
    "def plot_filtration(epsilon):\n",
    "    # Compute simplex at epsilon\n",
    "    triangles = np.array([s[0] for s in Rips_simplex_tree.get_skeleton(2) if len(s[0])==3 and s[1] <= epsilon])\n",
    "\n",
    "    # Plot triangulation with circles at each point\n",
    "    plt.figure(figsize=(8, 8))\n",
    "    ax = plt.gca()\n",
    "    for i in range(len(data)):\n",
    "        x, y = data[i]\n",
    "        circle = plt.Circle((x, y), epsilon, fill=True, color='orange', alpha=0.1)\n",
    "        ax.add_artist(circle)\n",
    "    plt.triplot(data[:, 0], data[:, 1], triangles, color='black', alpha=0.5)\n",
    "    plt.scatter(data[:, 0], data[:, 1], color='black', alpha=0.5)\n",
    "    \n",
    "    plt.show()\n",
    "# Create slider widget\n",
    "epsilon_slider = widgets.FloatSlider(value=0.1, min=0, max=0.5, step=0.01, description=r'$\\epsilon$')\n",
    "\n",
    "# Update plot on slider change\n",
    "widgets.interactive(plot_filtration, epsilon=epsilon_slider)\n"
   ]
  },
  {
   "cell_type": "code",
   "execution_count": 9,
   "id": "bea201e4",
   "metadata": {},
   "outputs": [
    {
     "data": {
      "text/plain": [
       "array([1, 1, 1, 0, 0, 0, 0, 1, 0, 0, 0, 0, 1, 0, 1, 0, 1, 1, 0, 0, 1, 1,\n",
       "       0, 0, 1, 0, 0, 1, 0, 1, 0, 0, 1, 0, 1, 0, 1, 1, 0, 0, 0, 0, 0, 1,\n",
       "       0, 0, 1, 0, 1, 0, 0, 0, 0, 0, 0, 1, 0, 1, 0, 1, 1, 1, 1, 0, 1, 1,\n",
       "       0, 1, 1, 1, 1, 0, 1, 0, 1, 1, 1, 0, 1, 1, 1, 1, 0, 0, 0, 1, 0, 0,\n",
       "       0, 1, 1, 1, 1, 1, 0, 1, 1, 0, 1, 1])"
      ]
     },
     "execution_count": 9,
     "metadata": {},
     "output_type": "execute_result"
    }
   ],
   "source": [
    "labels"
   ]
  },
  {
   "cell_type": "code",
   "execution_count": null,
   "id": "c4cb0a0d-deaf-41d4-9ced-7ce537fd60fa",
   "metadata": {},
   "outputs": [],
   "source": [
    "import numpy as np\n",
    "import gudhi\n",
    "import matplotlib.pyplot as plt\n",
    "from ipywidgets import interact, FloatSlider\n",
    "\n",
    "# Generar los datos aleatorios\n",
    "np.random.seed(1234)\n",
    "data = np.random.uniform(size=(50,2))\n",
    "\n",
    "# Calcular la homología persistente con Vietoris-Rips\n",
    "Rips_complex = gudhi.RipsComplex(points=data, max_edge_length=0.3)\n",
    "Rips_simplex_tree = Rips_complex.create_simplex_tree(max_dimension=2)\n",
    "diag = Rips_simplex_tree.persistence()\n",
    "\n",
    "# Definir la función que muestra la gráfica para un valor dado de eps\n",
    "def plot_filtration(eps):\n",
    "    triangles = np.array([s[0] for s in Rips_simplex_tree.get_skeleton(2) if len(s[0])==3 and s[1] <= eps])\n",
    "    plt.triplot(data[:,0], data[:,1], triangles)\n",
    "    plt.plot(data[:,0], data[:,1], '.')\n",
    "    plt.title(f\"Vietoris-Rips filtration with $\\epsilon={eps:.2f}$\")\n",
    "    plt.grid(color='black', linestyle='-', linewidth=1)\n",
    "    plt.xticks(size=15)\n",
    "    plt.yticks(size=15)\n",
    "    plt.show()\n",
    "\n",
    "# Crear el slider para cambiar el valor de eps\n",
    "eps_slider = FloatSlider(min=0, max=0.5, step=0.01, value=0)\n",
    "\n",
    "# Crear la función interactiva\n",
    "interact(plot_filtration, eps=eps_slider)\n",
    "\n"
   ]
  },
  {
   "cell_type": "code",
   "execution_count": 21,
   "id": "584d26fc-f0ed-41ba-9859-08622452f6d1",
   "metadata": {},
   "outputs": [
    {
     "ename": "ImportError",
     "evalue": "cannot import name 'persistence_images' from 'persim' (/miniconda3/envs/TDA/lib/python3.7/site-packages/persim/__init__.py)",
     "output_type": "error",
     "traceback": [
      "\u001b[0;31m---------------------------------------------------------------------------\u001b[0m",
      "\u001b[0;31mImportError\u001b[0m                               Traceback (most recent call last)",
      "\u001b[0;32m/tmp/ipykernel_410278/1188741417.py\u001b[0m in \u001b[0;36m<module>\u001b[0;34m\u001b[0m\n\u001b[0;32m----> 1\u001b[0;31m \u001b[0;32mfrom\u001b[0m \u001b[0mpersim\u001b[0m \u001b[0;32mimport\u001b[0m \u001b[0mpersistence_images\u001b[0m\u001b[0;34m\u001b[0m\u001b[0;34m\u001b[0m\u001b[0m\n\u001b[0m\u001b[1;32m      2\u001b[0m \u001b[0mdiag\u001b[0m\u001b[0;34m=\u001b[0m\u001b[0mRips_simplex_tree\u001b[0m\u001b[0;34m.\u001b[0m\u001b[0mpersistence\u001b[0m\u001b[0;34m(\u001b[0m\u001b[0;34m)\u001b[0m\u001b[0;34m\u001b[0m\u001b[0;34m\u001b[0m\u001b[0m\n\u001b[1;32m      3\u001b[0m \u001b[0;32mwith\u001b[0m \u001b[0mopen\u001b[0m\u001b[0;34m(\u001b[0m\u001b[0;34m\"complejo_simplicial.gudhi\"\u001b[0m\u001b[0;34m,\u001b[0m \u001b[0;34m\"wb\"\u001b[0m\u001b[0;34m)\u001b[0m \u001b[0;32mas\u001b[0m \u001b[0mf\u001b[0m\u001b[0;34m:\u001b[0m\u001b[0;34m\u001b[0m\u001b[0;34m\u001b[0m\u001b[0m\n\u001b[1;32m      4\u001b[0m     \u001b[0mpersistence_images\u001b[0m\u001b[0;34m.\u001b[0m\u001b[0mwrite_persistence_diagram\u001b[0m\u001b[0;34m(\u001b[0m\u001b[0mf\u001b[0m\u001b[0;34m,\u001b[0m \u001b[0mdiag\u001b[0m\u001b[0;34m)\u001b[0m\u001b[0;34m\u001b[0m\u001b[0;34m\u001b[0m\u001b[0m\n",
      "\u001b[0;31mImportError\u001b[0m: cannot import name 'persistence_images' from 'persim' (/miniconda3/envs/TDA/lib/python3.7/site-packages/persim/__init__.py)"
     ]
    }
   ],
   "source": [
    "from persim import persistence_images\n",
    "diag=Rips_simplex_tree.persistence()\n",
    "with open(\"complejo_simplicial.gudhi\", \"wb\") as f:\n",
    "    persistence_images.write_persistence_diagram(f, diag)\n"
   ]
  }
 ],
 "metadata": {
  "kernelspec": {
   "display_name": "Python 3 (ipykernel)",
   "language": "python",
   "name": "python3"
  },
  "language_info": {
   "codemirror_mode": {
    "name": "ipython",
    "version": 3
   },
   "file_extension": ".py",
   "mimetype": "text/x-python",
   "name": "python",
   "nbconvert_exporter": "python",
   "pygments_lexer": "ipython3",
   "version": "3.7.12"
  }
 },
 "nbformat": 4,
 "nbformat_minor": 5
}
