{
 "cells": [
  {
   "cell_type": "code",
   "execution_count": 14,
   "id": "44cc1b84-db9c-41d1-89ac-d6354128e2ea",
   "metadata": {},
   "outputs": [
    {
     "data": {
      "image/png": "[encoded data removed]",
      "text/plain": [
       "<Figure size 576x432 with 2 Axes>"
      ]
     },
     "metadata": {
      "needs_background": "light"
     },
     "output_type": "display_data"
    }
   ],
   "source": [
    "import numpy as np\n",
    "import gudhi\n",
    "import matplotlib.pyplot as plt\n",
    "\n",
    "# Generar datos aleatorios\n",
    "data = np.random.random((50,2))\n",
    "\n",
    "# Calcular complejo simplicial de Vietoris-Rips\n",
    "Rips_complex = gudhi.RipsComplex(points=data, max_edge_length=0.3)\n",
    "Rips_simplex_tree = Rips_complex.create_simplex_tree(max_dimension=2)\n",
    "\n",
    "# Crear figura interactiva\n",
    "fig = plt.figure(figsize=(8,6))\n",
    "ax = fig.add_subplot(111)\n",
    "plt.subplots_adjust(bottom=0.25)\n",
    "\n",
    "# Plot inicial\n",
    "eps_init = 0.1\n",
    "triangles = np.array([s[0] for s in Rips_simplex_tree.get_skeleton(2) if len(s[0])==3 and s[1] <= eps_init])\n",
    "plt.triplot(data[:,0], data[:,1], triangles, color='gray', alpha=0.5)\n",
    "plt.scatter(data[:, 0], data[:, 1], color='black', alpha=0.5)\n",
    "plt.title(f\"Vietoris-Rips filtration with $\\epsilon={eps_init:.2f}$\")\n",
    "plt.grid(color='black', linestyle='-', linewidth=1)\n",
    "plt.xticks(size=15)\n",
    "plt.yticks(size=15)\n",
    "\n",
    "# Definir barra deslizante\n",
    "axcolor = 'lightgoldenrodyellow'\n",
    "ax_eps = plt.axes([0.2, 0.1, 0.6, 0.03], facecolor=axcolor)\n",
    "slider_eps = plt.Slider(ax_eps, 'Eps', 0.0, 0.5, valinit=eps_init)\n",
    "\n",
    "# Función de actualización de la gráfica\n",
    "def update(val):\n",
    "    eps = slider_eps.val\n",
    "    ax.clear()\n",
    "    triangles = np.array([s[0] for s in Rips_simplex_tree.get_skeleton(2) if len(s[0])==3 and s[1] <= eps])\n",
    "    plt.triplot(data[:,0], data[:,1], triangles, color='gray', alpha=0.5)\n",
    "    plt.scatter(data[:, 0], data[:, 1], color='black', alpha=0.5)\n",
    "    plt.title(f\"Vietoris-Rips filtration with $\\epsilon={eps:.2f}$\")\n",
    "    plt.grid(color='black', linestyle='-', linewidth=1)\n",
    "    plt.xticks(size=15)\n",
    "    plt.yticks(size=15)\n",
    "    \n",
    "    # Gráfico de diagrama de persistencia\n",
    "    plt.subplot(1, 2, 2)\n",
    "    persistence = Rips_simplex_tree.persistence()\n",
    "    gudhi.plot_persistence_barcode(persistence, axes=plt.gca(), legend=True)\n",
    "    plt.title(\"Persistence barcode\", size=15)\n",
    "    \n",
    "    fig.canvas.draw_idle()\n",
    "\n",
    "# Asignar función de actualización a la barra deslizante\n",
    "slider_eps.on_changed(update)\n",
    "\n",
    "\n",
    "# Mostrar gráfica inicial\n",
    "plt.show()\n",
    "\n"
   ]
  },
  {
   "cell_type": "code",
   "execution_count": 19,
   "id": "d861e4d2-bd63-43a0-8ea0-619fdd7f8b63",
   "metadata": {},
   "outputs": [
    {
     "data": {
      "application/vnd.jupyter.widget-view+json": {
       "model_id": "c61657814db5436cb48c98ccd5293601",
       "version_major": 2,
       "version_minor": 0
      },
      "text/plain": [
       "interactive(children=(FloatSlider(value=0.0, description='eps', max=0.5, step=0.01), Output()), _dom_classes=(…"
      ]
     },
     "metadata": {},
     "output_type": "display_data"
    },
    {
     "data": {
      "text/plain": [
       "<function __main__.plot_filtration(eps)>"
      ]
     },
     "execution_count": 19,
     "metadata": {},
     "output_type": "execute_result"
    }
   ],
   "source": [
    "import numpy as np\n",
    "import gudhi\n",
    "import matplotlib.pyplot as plt\n",
    "from ipywidgets import interact, FloatSlider\n",
    "\n",
    "# Generar los datos aleatorios\n",
    "np.random.seed(1234)\n",
    "data = np.random.uniform(size=(50,2))\n",
    "\n",
    "# Calcular la homología persistente con Vietoris-Rips\n",
    "Rips_complex = gudhi.RipsComplex(points=data, max_edge_length=0.3)\n",
    "Rips_simplex_tree = Rips_complex.create_simplex_tree(max_dimension=2)\n",
    "diag = Rips_simplex_tree.persistence()\n",
    "\n",
    "# Definir la función que muestra la gráfica para un valor dado de eps\n",
    "def plot_filtration(eps):\n",
    "    triangles = np.array([s[0] for s in Rips_simplex_tree.get_skeleton(2) if len(s[0])==3 and s[1] <= eps])\n",
    "    plt.triplot(data[:,0], data[:,1], triangles)\n",
    "    plt.plot(data[:,0], data[:,1], '.')\n",
    "    plt.title(f\"Vietoris-Rips filtration with $\\epsilon={eps:.2f}$\")\n",
    "    plt.grid(color='black', linestyle='-', linewidth=1)\n",
    "    plt.xticks(size=15)\n",
    "    plt.yticks(size=15)\n",
    "    plt.show()\n",
    "\n",
    "# Crear el slider para cambiar el valor de eps\n",
    "eps_slider = FloatSlider(min=0, max=0.5, step=0.01, value=0)\n",
    "\n",
    "# Crear la función interactiva\n",
    "interact(plot_filtration, eps=eps_slider)\n",
    "\n"
   ]
  },
  {
   "cell_type": "code",
   "execution_count": 20,
   "id": "f03ea6f9-cdb8-4f67-9b31-3a1d8e23f2ab",
   "metadata": {},
   "outputs": [
    {
     "data": {
      "application/vnd.jupyter.widget-view+json": {
       "model_id": "7511611c3fc34599ae2fcb736ae95d7b",
       "version_major": 2,
       "version_minor": 0
      },
      "text/plain": [
       "interactive(children=(FloatSlider(value=0.1, description='$\\\\epsilon$', max=0.3, step=0.01), Output()), _dom_c…"
      ]
     },
     "metadata": {},
     "output_type": "display_data"
    }
   ],
   "source": [
    "import numpy as np\n",
    "import gudhi\n",
    "import ipywidgets as widgets\n",
    "from IPython.display import display\n",
    "import matplotlib.pyplot as plt\n",
    "from sklearn import datasets\n",
    "data, labels = datasets.make_circles(n_samples=100, noise=0.06, factor=0.5)\n",
    "\n",
    "# Generate random points\n",
    "np.random.seed(42)\n",
    "#data = np.random.random((25, 2))\n",
    "\n",
    "# Compute Vietoris-Rips complex\n",
    "Rips_complex = gudhi.RipsComplex(points=data, max_edge_length=0.3)\n",
    "Rips_simplex_tree = Rips_complex.create_simplex_tree(max_dimension=3)\n",
    "\n",
    "# Define plot function\n",
    "def plot_filtration(epsilon):\n",
    "    # Compute simplex at epsilon\n",
    "    triangles = np.array([s[0] for s in Rips_simplex_tree.get_skeleton(2) if len(s[0])==3 and s[1] <= epsilon])\n",
    "\n",
    "    # Plot triangulation\n",
    "    plt.figure(figsize=(8, 8))\n",
    "    plt.triplot(data[:, 0], data[:, 1], triangles, color='black', alpha=0.5)\n",
    "    plt.scatter(data[:, 0], data[:, 1], color='black', alpha=0.5)\n",
    "\n",
    "    # Plot persistence barcode\n",
    "    plt.figure(figsize=(8, 4))\n",
    "    gudhi.plot_persistence_barcode(Rips_simplex_tree.persistence(), legend=True)\n",
    "    plt.xlim(0, epsilon)\n",
    "\n",
    "# Create slider widget\n",
    "epsilon_slider = widgets.FloatSlider(value=0.1, min=0, max=0.3, step=0.01, description=r'$\\epsilon$')\n",
    "\n",
    "# Update plot on slider change\n",
    "widgets.interactive(plot_filtration, epsilon=epsilon_slider)\n"
   ]
  }
 ],
 "metadata": {
  "kernelspec": {
   "display_name": "Python 3 (ipykernel)",
   "language": "python",
   "name": "python3"
  },
  "language_info": {
   "codemirror_mode": {
    "name": "ipython",
    "version": 3
   },
   "file_extension": ".py",
   "mimetype": "text/x-python",
   "name": "python",
   "nbconvert_exporter": "python",
   "pygments_lexer": "ipython3",
   "version": "3.8.12"
  }
 },
 "nbformat": 4,
 "nbformat_minor": 5
}
