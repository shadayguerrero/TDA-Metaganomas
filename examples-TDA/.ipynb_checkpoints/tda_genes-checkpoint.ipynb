{
 "cells": [
  {
   "cell_type": "code",
   "execution_count": null,
   "id": "3667e1b7",
   "metadata": {},
   "outputs": [],
   "source": [
    "url=\"https://github.com/paumayell/pangenomics/blob/gh-pages/files/familias_minis.csv\""
   ]
  },
  {
   "cell_type": "code",
   "execution_count": 1,
   "id": "fb1dd112",
   "metadata": {},
   "outputs": [],
   "source": [
    "import pandas as pd\n",
    "import numpy as np\n",
    "import umap\n",
    "import umap.plot\n",
    "import gudhi as gd\n",
    "import matplotlib.pyplot as plt\n",
    "#from umap import UMAPTransformer\n",
    "from scipy.spatial.distance import pdist, squareform"
   ]
  },
  {
   "cell_type": "code",
   "execution_count": 15,
   "id": "856f7497",
   "metadata": {},
   "outputs": [
    {
     "data": {
      "text/html": [
       "<div>\n",
       "<style scoped>\n",
       "    .dataframe tbody tr th:only-of-type {\n",
       "        vertical-align: middle;\n",
       "    }\n",
       "\n",
       "    .dataframe tbody tr th {\n",
       "        vertical-align: top;\n",
       "    }\n",
       "\n",
       "    .dataframe thead th {\n",
       "        text-align: right;\n",
       "    }\n",
       "</style>\n",
       "<table border=\"1\" class=\"dataframe\">\n",
       "  <thead>\n",
       "    <tr style=\"text-align: right;\">\n",
       "      <th></th>\n",
       "      <th>g_A909</th>\n",
       "      <th>g_2603V</th>\n",
       "      <th>g_515</th>\n",
       "      <th>g_NEM316</th>\n",
       "    </tr>\n",
       "  </thead>\n",
       "  <tbody>\n",
       "    <tr>\n",
       "      <th>A909|MGIDGNCP_01408</th>\n",
       "      <td>1</td>\n",
       "      <td>1</td>\n",
       "      <td>1</td>\n",
       "      <td>1</td>\n",
       "    </tr>\n",
       "    <tr>\n",
       "      <th>A909|MGIDGNCP_00096</th>\n",
       "      <td>1</td>\n",
       "      <td>1</td>\n",
       "      <td>1</td>\n",
       "      <td>1</td>\n",
       "    </tr>\n",
       "    <tr>\n",
       "      <th>A909|MGIDGNCP_01343</th>\n",
       "      <td>1</td>\n",
       "      <td>0</td>\n",
       "      <td>0</td>\n",
       "      <td>1</td>\n",
       "    </tr>\n",
       "    <tr>\n",
       "      <th>A909|MGIDGNCP_01221</th>\n",
       "      <td>1</td>\n",
       "      <td>0</td>\n",
       "      <td>1</td>\n",
       "      <td>0</td>\n",
       "    </tr>\n",
       "    <tr>\n",
       "      <th>A909|MGIDGNCP_01268</th>\n",
       "      <td>1</td>\n",
       "      <td>1</td>\n",
       "      <td>1</td>\n",
       "      <td>1</td>\n",
       "    </tr>\n",
       "    <tr>\n",
       "      <th>A909|MGIDGNCP_00580</th>\n",
       "      <td>1</td>\n",
       "      <td>1</td>\n",
       "      <td>1</td>\n",
       "      <td>1</td>\n",
       "    </tr>\n",
       "    <tr>\n",
       "      <th>A909|MGIDGNCP_00352</th>\n",
       "      <td>1</td>\n",
       "      <td>1</td>\n",
       "      <td>1</td>\n",
       "      <td>1</td>\n",
       "    </tr>\n",
       "    <tr>\n",
       "      <th>A909|MGIDGNCP_00064</th>\n",
       "      <td>1</td>\n",
       "      <td>1</td>\n",
       "      <td>1</td>\n",
       "      <td>1</td>\n",
       "    </tr>\n",
       "    <tr>\n",
       "      <th>A909|MGIDGNCP_00627</th>\n",
       "      <td>1</td>\n",
       "      <td>0</td>\n",
       "      <td>0</td>\n",
       "      <td>0</td>\n",
       "    </tr>\n",
       "    <tr>\n",
       "      <th>A909|MGIDGNCP_01082</th>\n",
       "      <td>1</td>\n",
       "      <td>1</td>\n",
       "      <td>0</td>\n",
       "      <td>0</td>\n",
       "    </tr>\n",
       "    <tr>\n",
       "      <th>A909|MGIDGNCP_00877</th>\n",
       "      <td>1</td>\n",
       "      <td>1</td>\n",
       "      <td>1</td>\n",
       "      <td>1</td>\n",
       "    </tr>\n",
       "    <tr>\n",
       "      <th>A909|MGIDGNCP_00405</th>\n",
       "      <td>1</td>\n",
       "      <td>1</td>\n",
       "      <td>1</td>\n",
       "      <td>1</td>\n",
       "    </tr>\n",
       "    <tr>\n",
       "      <th>2603V|GBPINHCM_00748</th>\n",
       "      <td>0</td>\n",
       "      <td>1</td>\n",
       "      <td>0</td>\n",
       "      <td>0</td>\n",
       "    </tr>\n",
       "    <tr>\n",
       "      <th>2603V|GBPINHCM_01226</th>\n",
       "      <td>0</td>\n",
       "      <td>1</td>\n",
       "      <td>0</td>\n",
       "      <td>0</td>\n",
       "    </tr>\n",
       "    <tr>\n",
       "      <th>515|LHMFJANI_01625</th>\n",
       "      <td>0</td>\n",
       "      <td>0</td>\n",
       "      <td>1</td>\n",
       "      <td>1</td>\n",
       "    </tr>\n",
       "  </tbody>\n",
       "</table>\n",
       "</div>"
      ],
      "text/plain": [
       "                     g_A909 g_2603V g_515 g_NEM316\n",
       "A909|MGIDGNCP_01408       1       1     1        1\n",
       "A909|MGIDGNCP_00096       1       1     1        1\n",
       "A909|MGIDGNCP_01343       1       0     0        1\n",
       "A909|MGIDGNCP_01221       1       0     1        0\n",
       "A909|MGIDGNCP_01268       1       1     1        1\n",
       "A909|MGIDGNCP_00580       1       1     1        1\n",
       "A909|MGIDGNCP_00352       1       1     1        1\n",
       "A909|MGIDGNCP_00064       1       1     1        1\n",
       "A909|MGIDGNCP_00627       1       0     0        0\n",
       "A909|MGIDGNCP_01082       1       1     0        0\n",
       "A909|MGIDGNCP_00877       1       1     1        1\n",
       "A909|MGIDGNCP_00405       1       1     1        1\n",
       "2603V|GBPINHCM_00748      0       1     0        0\n",
       "2603V|GBPINHCM_01226      0       1     0        0\n",
       "515|LHMFJANI_01625        0       0     1        1"
      ]
     },
     "execution_count": 15,
     "metadata": {},
     "output_type": "execute_result"
    }
   ],
   "source": [
    "df = pd.read_csv(\"/home/shaday/GIT/pangenomics/files/familias_minis.csv\", index_col=0)\n",
    "df_filled = df.fillna(0)\n",
    "df=df_filled.replace(to_replace=r'.+', value=1, regex=True)\n",
    "df"
   ]
  },
  {
   "cell_type": "code",
   "execution_count": 7,
   "id": "dd919cc7-c0fb-4ae0-b59a-d3a6bef832d1",
   "metadata": {},
   "outputs": [],
   "source": [
    "c=[1,0,0,1]"
   ]
  },
  {
   "cell_type": "code",
   "execution_count": 16,
   "id": "577b731f-c2ae-40c1-af04-0798c9e7ceb7",
   "metadata": {},
   "outputs": [],
   "source": [
    "df.loc['anti']=c"
   ]
  },
  {
   "cell_type": "code",
   "execution_count": 17,
   "id": "e10af72d-4bc4-41db-835e-ede3373ec018",
   "metadata": {},
   "outputs": [
    {
     "data": {
      "text/html": [
       "<div>\n",
       "<style scoped>\n",
       "    .dataframe tbody tr th:only-of-type {\n",
       "        vertical-align: middle;\n",
       "    }\n",
       "\n",
       "    .dataframe tbody tr th {\n",
       "        vertical-align: top;\n",
       "    }\n",
       "\n",
       "    .dataframe thead th {\n",
       "        text-align: right;\n",
       "    }\n",
       "</style>\n",
       "<table border=\"1\" class=\"dataframe\">\n",
       "  <thead>\n",
       "    <tr style=\"text-align: right;\">\n",
       "      <th></th>\n",
       "      <th>g_A909</th>\n",
       "      <th>g_2603V</th>\n",
       "      <th>g_515</th>\n",
       "      <th>g_NEM316</th>\n",
       "    </tr>\n",
       "  </thead>\n",
       "  <tbody>\n",
       "    <tr>\n",
       "      <th>515|LHMFJANI_01625</th>\n",
       "      <td>0</td>\n",
       "      <td>0</td>\n",
       "      <td>1</td>\n",
       "      <td>1</td>\n",
       "    </tr>\n",
       "    <tr>\n",
       "      <th>anti</th>\n",
       "      <td>1</td>\n",
       "      <td>0</td>\n",
       "      <td>0</td>\n",
       "      <td>1</td>\n",
       "    </tr>\n",
       "  </tbody>\n",
       "</table>\n",
       "</div>"
      ],
      "text/plain": [
       "                   g_A909 g_2603V g_515 g_NEM316\n",
       "515|LHMFJANI_01625      0       0     1        1\n",
       "anti                    1       0     0        1"
      ]
     },
     "execution_count": 17,
     "metadata": {},
     "output_type": "execute_result"
    }
   ],
   "source": [
    "df=df.iloc[-2:]\n",
    "df"
   ]
  },
  {
   "cell_type": "code",
   "execution_count": 18,
   "id": "0ea31fce",
   "metadata": {},
   "outputs": [
    {
     "name": "stdout",
     "output_type": "stream",
     "text": [
      "[[0.  0.5 1.  0.5]\n",
      " [0.5 0.  0.5 1. ]\n",
      " [1.  0.5 0.  0.5]\n",
      " [0.5 1.  0.5 0. ]]\n"
     ]
    }
   ],
   "source": [
    "distances = pdist(df.values.T, metric='hamming')\n",
    "distances\n",
    "distance_matrix = squareform(distances)\n",
    "#distance_matrix = distances\n",
    "print(distance_matrix)"
   ]
  },
  {
   "cell_type": "code",
   "execution_count": 19,
   "id": "b245dc92-319a-4943-b8fc-d0dfdbaab042",
   "metadata": {},
   "outputs": [],
   "source": [
    "distance_matrix_ejemplo = distance_matrix"
   ]
  },
  {
   "cell_type": "code",
   "execution_count": 20,
   "id": "9376db6f-8869-4205-af64-b904272be6a4",
   "metadata": {},
   "outputs": [
    {
     "name": "stdout",
     "output_type": "stream",
     "text": [
      "(1, (1.0, 1.4142135623730951))\n",
      "(0, (0.0, inf))\n",
      "(0, (0.0, 1.0))\n",
      "(0, (0.0, 1.0))\n",
      "(0, (0.0, 1.0))\n"
     ]
    }
   ],
   "source": [
    "# Distance matrix example\n",
    "#distance_matrix= distance_matrix_ejemplo\n",
    "\n",
    "# Create the simplicial complex from the distance matrix\n",
    "rips_complex = gd.RipsComplex(distance_matrix)\n",
    "simplex_tree = rips_complex.create_simplex_tree(max_dimension=2)\n",
    "\n",
    "# Compute persistence\n",
    "persistence = simplex_tree.persistence()\n",
    "for interval in persistence:\n",
    "    print(interval)\n",
    "# Compute Betti numbers"
   ]
  },
  {
   "cell_type": "code",
   "execution_count": 21,
   "id": "9a58db71-e1f3-4c41-ac2f-e83167be45cd",
   "metadata": {},
   "outputs": [
    {
     "data": {
      "text/plain": [
       "<AxesSubplot:title={'center':'Persistence barcode'}>"
      ]
     },
     "execution_count": 21,
     "metadata": {},
     "output_type": "execute_result"
    },
    {
     "data": {
      "image/png": "[encoded data removed]",
      "text/plain": [
       "<Figure size 640x480 with 1 Axes>"
      ]
     },
     "metadata": {},
     "output_type": "display_data"
    }
   ],
   "source": [
    "gd.plot_persistence_barcode(persistence)"
   ]
  },
  {
   "cell_type": "code",
   "execution_count": 22,
   "id": "093d6722-788c-4386-9333-e46e3630461d",
   "metadata": {},
   "outputs": [
    {
     "data": {
      "text/plain": [
       "<AxesSubplot:title={'center':'Persistence diagram'}, xlabel='Birth', ylabel='Death'>"
      ]
     },
     "execution_count": 22,
     "metadata": {},
     "output_type": "execute_result"
    },
    {
     "data": {
      "image/png": "[encoded data removed]",
      "text/plain": [
       "<Figure size 640x480 with 1 Axes>"
      ]
     },
     "metadata": {},
     "output_type": "display_data"
    }
   ],
   "source": [
    "gd.plot_persistence_diagram(persistence,legend=True)"
   ]
  },
  {
   "cell_type": "code",
   "execution_count": null,
   "id": "b628b7c5-e2d1-4dc6-8b4d-424970cf97f0",
   "metadata": {},
   "outputs": [],
   "source": [
    "data = {'Genoma1': [1, 0],\n",
    "        'Genoma2': [1, 1],\n",
    "        'Genoma3': [0, 0],\n",
    "        'Genoma4': [1, 0]}\n",
    "df = pd.DataFrame(data, index=['Gen1', 'Gen2'])\n",
    "df"
   ]
  }
 ],
 "metadata": {
  "kernelspec": {
   "display_name": "Python 3 (ipykernel)",
   "language": "python",
   "name": "python3"
  },
  "language_info": {
   "codemirror_mode": {
    "name": "ipython",
    "version": 3
   },
   "file_extension": ".py",
   "mimetype": "text/x-python",
   "name": "python",
   "nbconvert_exporter": "python",
   "pygments_lexer": "ipython3",
   "version": "3.7.12"
  }
 },
 "nbformat": 4,
 "nbformat_minor": 5
}
