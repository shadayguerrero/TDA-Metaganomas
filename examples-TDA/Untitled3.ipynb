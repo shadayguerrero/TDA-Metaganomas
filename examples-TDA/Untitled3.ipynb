{
 "cells": [
  {
   "cell_type": "code",
   "execution_count": 5,
   "id": "11a00ff9-514b-49a9-8cab-6ab0730a3b08",
   "metadata": {},
   "outputs": [],
   "source": [
    "from numpy import *\n",
    "#from Numeric import *\n",
    "#from LinearAlgebra import singular_value_decomposition\n",
    "from operator import add as concat\n"
   ]
  },
  {
   "cell_type": "code",
   "execution_count": 6,
   "id": "70ad1db2-4bfc-48c6-950a-50d067c8666f",
   "metadata": {},
   "outputs": [],
   "source": [
    "#boundary\n",
    "matrix = lambda b1,b0,op: [[op(x,y) for x in b1] for y in b0]\n",
    "boundary = lambda s: dict([(tuple(s[:i]+s[i+1:]), (-1)**i)\n",
    "                                for i in range(len(s))])\n",
    "dmatrix = lambda c,n: matrix(grade(c,n), (grade(c,n-1) or [[None]]),\n",
    "                        lambda x,y: boundary(x).get(tuple(y),0))"
   ]
  },
  {
   "cell_type": "code",
   "execution_count": 7,
   "id": "fbc82b3e-efdd-48d0-9109-81f2760b4dd8",
   "metadata": {},
   "outputs": [],
   "source": [
    "#betti numbers\n",
    "def betti(c):\n",
    "    d = ctdim(c)\n",
    "    ranks = array([rank(dmatrix(c,n)) for n in range(d)]+[0])\n",
    "    dims  = array([  len(grade(c,n))  for n in range(d)]+[0])\n",
    "    return dims[:-1] - ranks[:-1] - ranks[1:]"
   ]
  },
  {
   "cell_type": "code",
   "execution_count": 8,
   "id": "9c1c97bd-73f6-4083-adf2-be0996b9a9f2",
   "metadata": {},
   "outputs": [],
   "source": [
    "#barycentric subdivision\n",
    "def bary(c):\n",
    "    def chains(xs):\n",
    "        if len(xs) < 2:  return [xs]\n",
    "        else: return [cs+[tuple(xs)]\n",
    "                        for ps in subsets(xs)[:-1]\n",
    "                        for cs in chains(ps)]\n",
    "    return reduce(concat,map(chains,c))"
   ]
  },
  {
   "cell_type": "code",
   "execution_count": 9,
   "id": "c628c0cf-a871-41c4-a2d4-2e2a29318a70",
   "metadata": {},
   "outputs": [],
   "source": [
    "# after http://sigfpe.blogspot.com/2006/08/algebraic-topology-in-haskell.html\n",
    "#ancillary2\n",
    "binary = lambda d: (lambda a: (a[0]/(2**a[1])) % 2)(indices((2**d,d)))\n",
    "subsets = lambda l: [list(repeat(l,r)) for r in binary(len(l))]"
   ]
  },
  {
   "cell_type": "code",
   "execution_count": 10,
   "id": "318c87bb-f024-406a-b0a1-8a28f418ca72",
   "metadata": {},
   "outputs": [],
   "source": [
    "#ancillary\n",
    "rank  = lambda m: sum(singular_value_decomposition(array(m))[1] > 1e-12)\n",
    "grade = lambda c, n: [s for s in c if len(s)==n+1]\n",
    "ctdim = lambda c: maximum.reduce(map(len,c))"
   ]
  },
  {
   "cell_type": "code",
   "execution_count": 11,
   "id": "2d7ba8f0-ab87-49e5-bc0c-d8cc0c5b18a3",
   "metadata": {},
   "outputs": [],
   "source": [
    "#supplements\n",
    "ball   = lambda n: subsets(range(n+1))[1:]\n",
    "sphere = lambda n: subsets(range(n+2))[1:-1]\n",
    "euler  = lambda c: (lambda b: sum(b[0::2])-sum(b[1::2]))(betti(c))"
   ]
  },
  {
   "cell_type": "code",
   "execution_count": null,
   "id": "ca3eff56-c32c-487d-8650-e91ba1403f79",
   "metadata": {},
   "outputs": [],
   "source": []
  },
  {
   "cell_type": "code",
   "execution_count": 21,
   "id": "7b4b8b25-d98d-4dd1-ace3-e1986760f223",
   "metadata": {},
   "outputs": [
    {
     "ename": "SyntaxError",
     "evalue": "invalid syntax (<ipython-input-21-5fedd3faf4fa>, line 4)",
     "output_type": "error",
     "traceback": [
      "\u001b[0;36m  File \u001b[0;32m\"<ipython-input-21-5fedd3faf4fa>\"\u001b[0;36m, line \u001b[0;32m4\u001b[0m\n\u001b[0;31m    print \"example.\", betti(example)\u001b[0m\n\u001b[0m          ^\u001b[0m\n\u001b[0;31mSyntaxError\u001b[0m\u001b[0;31m:\u001b[0m invalid syntax\n"
     ]
    }
   ],
   "source": [
    "\n",
    "if __name__ == \"__main__\":\n",
    "        # examples from http://www.reed.edu/~davidp/411/handouts/simplicial.pdf\n",
    "        example = [[1,2,3],[1,2],[1,3],[2,3],[2,4],[3,4],[1],[2],[3],[4],[5]]\n",
    "        print \"example.\", betti(example)\n",
    "        print \"exercise 1.\", betti(example[1:])\n",
    "        point = [[0]]\n",
    "        line = [[0],[1],[0,1]]\n",
    "        tri = ball(2)\n",
    "        torus = [[1],[2],[3],[4],[5],[6],[7],[8],[9],\n",
    "            [1,2],[2,3],[1,3],\n",
    "            [5,9],[8,9],[5,8],\n",
    "            [4,6],[6,7],[4,7],\n",
    "            [1,5],[4,5],[1,4],\n",
    "            [2,9],[6,9],[2,6],\n",
    "            [3,8],[7,8],[3,7],\n",
    "            [1,9],[3,9],[1,8],\n",
    "            [4,9],[6,8],[5,7],\n",
    "            [1,6],[2,7],[1,7],\n",
    "            [1,5,9],[1,2,9],[2,3,9],[3,8,9],[1,3,8],[1,5,8],\n",
    "            [4,5,9],[4,6,9],[6,8,9],[6,7,8],[5,7,8],[4,5,7],\n",
    "            [1,4,6],[1,2,6],[2,6,7],[2,3,7],[1,3,7],[1,4,7]]\n",
    "        example2 = [[1],[2],[3],[4],[5],[6],\n",
    "                [1,4],[1,6],[1,5],[1,3],\n",
    "                [3,4],[2,3],[3,5],\n",
    "                [2,4],[4,6],\n",
    "                [2,5],[2,6],[5,6],\n",
    "                [1,4,6],[2,4,6],[2,3,4],[2,3,5],[1,3,5],[1,5,6],[2,5,6],[1,3,4]]\n",
    "        print \"exercise 5.\", betti(example2), betti(sphere(2))\n",
    "        print \"point\", betti(point)\n",
    "        print \"line\", betti(line)\n",
    "        print \"3-sphere\", betti(sphere(3))\n",
    "        print \"0-sphere\", betti(sphere(0))\n",
    "        print \"exercise 6.\", betti(torus)\n",
    "        print \"bary(point), point\", betti(bary(point)), betti(point)\n",
    "        print \"bary(line), line\", betti(bary(line)), betti(line)\n",
    "        print \"bary(tri), tri\", betti(bary(tri)), betti(tri)\n",
    "        btorus=bary(torus)\n",
    "        print \"size of bary(torus)\", len(btorus)\n",
    "        print \"bary(torus), torus\", betti(btorus), betti(torus)\n",
    "        print \"euler(2-sphere)\", euler(sphere(2))\n",
    "        print \"euler(torus)\", euler(torus)"
   ]
  },
  {
   "cell_type": "code",
   "execution_count": 22,
   "id": "a3b27d81-2c0b-4a20-8918-2cb1b19b77de",
   "metadata": {},
   "outputs": [],
   "source": [
    "example = [[1,2,3],[1,2],[1,3],[2,3],[2,4],[3,4],[1],[2],[3],[4],[5]]"
   ]
  },
  {
   "cell_type": "code",
   "execution_count": 24,
   "id": "995ac570-747c-4daf-9fa2-f48b8dc9799d",
   "metadata": {},
   "outputs": [],
   "source": [
    "boundary = lambda s: dict([(tuple(s[:i]+s[i+1:]), (-1)**i)\n",
    "                                for i in range(len(s))])"
   ]
  },
  {
   "cell_type": "code",
   "execution_count": 25,
   "id": "91f44abb-476f-47d8-9a55-9a50083df79b",
   "metadata": {},
   "outputs": [
    {
     "data": {
      "text/plain": [
       "<function __main__.<lambda>(s)>"
      ]
     },
     "execution_count": 25,
     "metadata": {},
     "output_type": "execute_result"
    }
   ],
   "source": [
    "boundary"
   ]
  }
 ],
 "metadata": {
  "kernelspec": {
   "display_name": "Python 3",
   "language": "python",
   "name": "python3"
  },
  "language_info": {
   "codemirror_mode": {
    "name": "ipython",
    "version": 3
   },
   "file_extension": ".py",
   "mimetype": "text/x-python",
   "name": "python",
   "nbconvert_exporter": "python",
   "pygments_lexer": "ipython3",
   "version": "3.8.8"
  }
 },
 "nbformat": 4,
 "nbformat_minor": 5
}
